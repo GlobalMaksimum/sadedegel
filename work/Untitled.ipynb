{
 "cells": [
  {
   "cell_type": "code",
   "execution_count": 1,
   "metadata": {},
   "outputs": [],
   "source": [
    "from gensim.models import Word2Vec\n",
    "import os\n",
    "import numpy as np"
   ]
  },
  {
   "cell_type": "code",
   "execution_count": 2,
   "metadata": {},
   "outputs": [],
   "source": [
    "sentences = [['ali','topu','tut'],['merhaba','dünya','marslıyız'],['ekrem','abi','koparıyor']]"
   ]
  },
  {
   "cell_type": "code",
   "execution_count": 10,
   "metadata": {},
   "outputs": [],
   "source": [
    "class corpus(object):\n",
    "    def __init__(self):\n",
    "        self.s = [['ali','topu','tut'],['merhaba','dünya','marslıyız'],['ekrem','abi','koparıyor']]\n",
    "    def __iter__(self):\n",
    "        for i in self.s:\n",
    "            yield(i)"
   ]
  },
  {
   "cell_type": "code",
   "execution_count": 13,
   "metadata": {},
   "outputs": [],
   "source": [
    "sentences = corpus()"
   ]
  },
  {
   "cell_type": "code",
   "execution_count": 14,
   "metadata": {},
   "outputs": [],
   "source": [
    "model = Word2Vec(size=100,\n",
    "                 workers=os.cpu_count(),\n",
    "                 min_count=1,\n",
    "                 sg=1,\n",
    "                 iter=1000,\n",
    "                 seed=42)"
   ]
  },
  {
   "cell_type": "code",
   "execution_count": 15,
   "metadata": {},
   "outputs": [],
   "source": [
    "model.build_vocab(sentences)"
   ]
  },
  {
   "cell_type": "code",
   "execution_count": 7,
   "metadata": {},
   "outputs": [
    {
     "data": {
      "text/plain": [
       "['ali',\n",
       " 'topu',\n",
       " 'tut',\n",
       " 'merhaba',\n",
       " 'dünya',\n",
       " 'marslıyız',\n",
       " 'ekrem',\n",
       " 'abi',\n",
       " 'koparıyor']"
      ]
     },
     "execution_count": 7,
     "metadata": {},
     "output_type": "execute_result"
    }
   ],
   "source": [
    "list(model.wv.vocab.keys())[:10]"
   ]
  },
  {
   "cell_type": "code",
   "execution_count": 8,
   "metadata": {},
   "outputs": [
    {
     "data": {
      "text/plain": [
       "3"
      ]
     },
     "execution_count": 8,
     "metadata": {},
     "output_type": "execute_result"
    }
   ],
   "source": [
    "model.corpus_count"
   ]
  },
  {
   "cell_type": "code",
   "execution_count": 16,
   "metadata": {},
   "outputs": [
    {
     "data": {
      "text/plain": [
       "(87, 900)"
      ]
     },
     "execution_count": 16,
     "metadata": {},
     "output_type": "execute_result"
    }
   ],
   "source": [
    "model.train(sentences, total_examples=model.corpus_count, epochs=100)"
   ]
  },
  {
   "cell_type": "code",
   "execution_count": null,
   "metadata": {},
   "outputs": [],
   "source": []
  },
  {
   "cell_type": "code",
   "execution_count": null,
   "metadata": {},
   "outputs": [],
   "source": []
  },
  {
   "cell_type": "code",
   "execution_count": 93,
   "metadata": {},
   "outputs": [
    {
     "ename": "NameError",
     "evalue": "name 'np' is not defined",
     "output_type": "error",
     "traceback": [
      "\u001b[0;31m---------------------------------------------------------------------------\u001b[0m",
      "\u001b[0;31mAttributeError\u001b[0m                            Traceback (most recent call last)",
      "\u001b[0;32m<ipython-input-93-a6529094f15d>\u001b[0m in \u001b[0;36m<module>\u001b[0;34m\u001b[0m\n\u001b[1;32m      1\u001b[0m \u001b[0;32mtry\u001b[0m\u001b[0;34m:\u001b[0m\u001b[0;34m\u001b[0m\u001b[0;34m\u001b[0m\u001b[0m\n\u001b[0;32m----> 2\u001b[0;31m     \u001b[0mv\u001b[0m \u001b[0;34m=\u001b[0m \u001b[0mmodel\u001b[0m\u001b[0;34m.\u001b[0m\u001b[0mvw\u001b[0m\u001b[0;34m[\u001b[0m\u001b[0mtoken\u001b[0m\u001b[0;34m]\u001b[0m\u001b[0;34m\u001b[0m\u001b[0;34m\u001b[0m\u001b[0m\n\u001b[0m\u001b[1;32m      3\u001b[0m \u001b[0;32mexcept\u001b[0m\u001b[0;34m:\u001b[0m\u001b[0;34m\u001b[0m\u001b[0;34m\u001b[0m\u001b[0m\n",
      "\u001b[0;31mAttributeError\u001b[0m: 'Word2Vec' object has no attribute 'vw'",
      "\nDuring handling of the above exception, another exception occurred:\n",
      "\u001b[0;31mNameError\u001b[0m                                 Traceback (most recent call last)",
      "\u001b[0;32m<ipython-input-93-a6529094f15d>\u001b[0m in \u001b[0;36m<module>\u001b[0;34m\u001b[0m\n\u001b[1;32m      2\u001b[0m     \u001b[0mv\u001b[0m \u001b[0;34m=\u001b[0m \u001b[0mmodel\u001b[0m\u001b[0;34m.\u001b[0m\u001b[0mvw\u001b[0m\u001b[0;34m[\u001b[0m\u001b[0mtoken\u001b[0m\u001b[0;34m]\u001b[0m\u001b[0;34m\u001b[0m\u001b[0;34m\u001b[0m\u001b[0m\n\u001b[1;32m      3\u001b[0m \u001b[0;32mexcept\u001b[0m\u001b[0;34m:\u001b[0m\u001b[0;34m\u001b[0m\u001b[0;34m\u001b[0m\u001b[0m\n\u001b[0;32m----> 4\u001b[0;31m     \u001b[0mv\u001b[0m \u001b[0;34m=\u001b[0m \u001b[0mnp\u001b[0m\u001b[0;34m.\u001b[0m\u001b[0mzeros\u001b[0m\u001b[0;34m(\u001b[0m\u001b[0mmodel\u001b[0m\u001b[0;34m.\u001b[0m\u001b[0msize\u001b[0m\u001b[0;34m)\u001b[0m\u001b[0;34m\u001b[0m\u001b[0;34m\u001b[0m\u001b[0m\n\u001b[0m",
      "\u001b[0;31mNameError\u001b[0m: name 'np' is not defined"
     ]
    }
   ],
   "source": [
    "try:\n",
    "    v = model.vw[token]\n",
    "except:\n",
    "    v = np.zeros(model.size)"
   ]
  },
  {
   "cell_type": "code",
   "execution_count": 91,
   "metadata": {},
   "outputs": [
    {
     "data": {
      "text/plain": [
       "array([ 6.4813881e-04, -4.5505134e-04, -3.2494154e-03,  3.7484858e-03,\n",
       "        3.3828211e-03,  4.9323686e-03, -3.8162714e-03,  3.0030631e-03,\n",
       "        3.8652425e-03,  1.2750188e-03, -3.9300811e-03,  4.4710981e-03,\n",
       "       -4.3838788e-03,  4.1264966e-03, -4.0629869e-03, -1.6077156e-03,\n",
       "        2.3766798e-03, -2.6623334e-03, -4.1720778e-04,  3.5955713e-03,\n",
       "        9.3206429e-05,  5.2847322e-03, -4.5206915e-03, -2.0763541e-03,\n",
       "        5.2270354e-03,  3.9069341e-03, -1.6696778e-03, -3.2190725e-03,\n",
       "        3.1180128e-03,  1.5637469e-03, -3.5648362e-03, -3.8002178e-04,\n",
       "        3.6265117e-03,  5.1098755e-03,  2.0855747e-03,  1.1887726e-03,\n",
       "        3.3713700e-03, -3.4103838e-03, -4.4846623e-03, -4.8887478e-03,\n",
       "       -2.2806856e-03,  8.0444128e-04, -1.6279863e-03,  4.8554512e-03,\n",
       "       -3.8243490e-04, -9.3686697e-04, -6.3554093e-04,  3.1731725e-03,\n",
       "        2.8182596e-03, -3.8192892e-03, -8.3202875e-04,  3.2553335e-03,\n",
       "        2.6979232e-03,  4.1515045e-03,  5.8764720e-04, -3.5689111e-04,\n",
       "        3.8559167e-03,  2.8625207e-03,  1.1838317e-03,  3.4768414e-03,\n",
       "       -7.4013422e-04,  3.3041934e-04, -8.1996690e-04,  1.0828732e-03,\n",
       "        1.0255998e-03, -2.8096817e-03, -5.1010600e-03, -5.8860716e-04,\n",
       "        4.2899773e-03, -3.0682764e-03,  4.0449100e-03,  2.9419947e-03,\n",
       "       -4.5442912e-03, -1.0683377e-03,  4.6361987e-03, -1.6033830e-03,\n",
       "       -3.7828828e-03, -3.6098866e-03,  4.6238177e-03,  3.2054214e-03,\n",
       "       -3.6396976e-03, -2.0515618e-03, -2.3791858e-03, -9.9877559e-04,\n",
       "       -8.1886706e-04,  2.3054599e-03,  1.7537308e-03, -4.7998177e-03,\n",
       "        4.3920223e-03, -5.2320193e-03,  4.7852676e-03,  2.9505563e-03,\n",
       "       -1.7591278e-03,  2.4182277e-03, -1.8915425e-03, -4.4333269e-03,\n",
       "       -8.2702813e-04,  3.6217594e-03,  2.2899733e-04,  3.7849506e-03],\n",
       "      dtype=float32)"
      ]
     },
     "execution_count": 91,
     "metadata": {},
     "output_type": "execute_result"
    }
   ],
   "source": [
    "model.wv['ali']"
   ]
  },
  {
   "cell_type": "code",
   "execution_count": null,
   "metadata": {},
   "outputs": [],
   "source": []
  }
 ],
 "metadata": {
  "kernelspec": {
   "display_name": "Python 3",
   "language": "python",
   "name": "python3"
  },
  "language_info": {
   "codemirror_mode": {
    "name": "ipython",
    "version": 3
   },
   "file_extension": ".py",
   "mimetype": "text/x-python",
   "name": "python",
   "nbconvert_exporter": "python",
   "pygments_lexer": "ipython3",
   "version": "3.7.7"
  }
 },
 "nbformat": 4,
 "nbformat_minor": 4
}
