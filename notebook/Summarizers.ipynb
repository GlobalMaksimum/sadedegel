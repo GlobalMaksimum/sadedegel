{
 "cells": [
  {
   "cell_type": "markdown",
   "metadata": {},
   "source": [
    "<div class=\"alert alert-block alert-warning\">\n",
    "<b>Kullanıcı Uyarısı:</b> <b>sadedegel</b> versiyonuzu <code>pip install sadedegel -U </code> kullanarak sık sık güncellemenizi tavsiye ediyoruz. Çünkü henüz kararlı major sürümde değiliz ve API lerde sürekli yazımsal ve anlamsal değişiklikler yapıyoruz. Anlayışınız ve desteğiniz için teşekkürler. \n",
    "</div>"
   ]
  },
  {
   "cell_type": "code",
   "execution_count": null,
   "metadata": {},
   "outputs": [],
   "source": [
    "about.__version__"
   ]
  },
  {
   "cell_type": "code",
   "execution_count": null,
   "metadata": {},
   "outputs": [],
   "source": [
    "from smart_open import open\n",
    "from sadedegel.tokenize import Doc\n",
    "from sadedegel import about"
   ]
  },
  {
   "cell_type": "markdown",
   "metadata": {},
   "source": [
    "## Internetteki Haber Metinlerini Okumak\n",
    "\n",
    "`sadedegel` bağımlılıklarından bir tanesi de  `smart_open`. Kütüphane sayesinde bir çok konumdaki haber metnini ham olarak okuyabilirsiniz. Örneğin `http(s)://`,`ftp(s)://` or `s3://`"
   ]
  },
  {
   "cell_type": "markdown",
   "metadata": {},
   "source": [
    "Şimdi bizim paylaştığımız dokümanlardan Github LFS üzerinde duran bir metni alalım"
   ]
  },
  {
   "cell_type": "code",
   "execution_count": null,
   "metadata": {},
   "outputs": [],
   "source": [
    "with open('https://media.githubusercontent.com/media/GlobalMaksimum/sadedegel/master/sadedegel/dataset/raw/fena-halde-mechul-41303975.txt') as fp:\n",
    "    d = Doc(fp.read())\n",
    "    "
   ]
  },
  {
   "cell_type": "markdown",
   "metadata": {},
   "source": [
    "## Favori Özetleyicinizle İşe Koyulun\n",
    "\n",
    "`sadedegel` bir çok temel ve makine öğrenmesi tabanlı unsupervised özetleyiciyi birlikte getiriyor. Kendi probleminiz için en iyi methodun ne olduğunu anlamak için biraz oynamanız gerekecek. 😜"
   ]
  },
  {
   "cell_type": "markdown",
   "metadata": {},
   "source": [
    "### LastK Özetleyici\n",
    "\n",
    "İronik bir biçimde temel (baseline) özetleyiciler arasında bizim testlerimize göre en güzel çalışan metotlardan bir tanesi LastK özetleyici. Aslında **LastK**, **PositionalSummarizer** olarak adlandırdığımız Pozisyon bazlı özetleyicinin bir özel durumu (tıpkı kardeşi **FirstK** gibi)\n",
    "\n",
    "En bazit anlatımla **LastK** metnin son cümlesinin en önemli, ilk cümlesinin ise  en önemsiz olduğunu düşünerek çalışır.\n",
    "\n",
    "Bu arada nedenini söylememize gerek yok sanırız ancak, **LastK** son derece hızlı..."
   ]
  },
  {
   "cell_type": "code",
   "execution_count": null,
   "metadata": {},
   "outputs": [],
   "source": [
    "from sadedegel.summarize import PositionSummarizer\n",
    "\n",
    "lastk = PositionSummarizer(mode='last')\n",
    "\n",
    "lastk(d, 3)"
   ]
  },
  {
   "cell_type": "markdown",
   "metadata": {},
   "source": [
    "### Rouge1 Özetleyici\n",
    "\n",
    "Makine Öğrenmesi tabanlı bir unsupervised özetleyici olan **Rouge1**, metin içerisindeki cümlelerin rouge1 skorlarını baz alarak skorlama yapar."
   ]
  },
  {
   "cell_type": "code",
   "execution_count": null,
   "metadata": {},
   "outputs": [],
   "source": [
    "from sadedegel.summarize import Rouge1Summarizer"
   ]
  },
  {
   "cell_type": "code",
   "execution_count": null,
   "metadata": {},
   "outputs": [],
   "source": [
    "Rouge1Summarizer()(d, 3)"
   ]
  },
  {
   "cell_type": "markdown",
   "metadata": {},
   "source": [
    "Sadece özet cümleleri değil de her bir cümlenin skorunu merak ediyorsanız, özetleyiciler üzerinde bulunan `predict` fonksiyonunu kullanabilirsiniz. "
   ]
  },
  {
   "cell_type": "code",
   "execution_count": null,
   "metadata": {},
   "outputs": [],
   "source": [
    "Rouge1Summarizer().predict(d.sents)"
   ]
  }
 ],
 "metadata": {
  "kernelspec": {
   "display_name": "Python 3",
   "language": "python",
   "name": "python3"
  },
  "language_info": {
   "codemirror_mode": {
    "name": "ipython",
    "version": 3
   },
   "file_extension": ".py",
   "mimetype": "text/x-python",
   "name": "python",
   "nbconvert_exporter": "python",
   "pygments_lexer": "ipython3",
   "version": "3.7.7"
  }
 },
 "nbformat": 4,
 "nbformat_minor": 4
}
