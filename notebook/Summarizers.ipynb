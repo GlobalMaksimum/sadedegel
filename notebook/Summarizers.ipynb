{
 "cells": [
  {
   "cell_type": "markdown",
   "metadata": {},
   "source": [
    "<div class=\"alert alert-block alert-warning\">\n",
    "<b>Kullanıcı Uyarısı:</b> <b>sadedegel</b> versiyonuzu <code>pip install sadedegel -U </code> kullanarak sık sık güncellemenizi tavsiye ediyoruz. Çünkü henüz kararlı major sürümde değiliz ve API lerde sürekli yazımsal ve anlamsal değişiklikler yapıyoruz. Anlayışınız ve desteğiniz için teşekkürler. \n",
    "</div>"
   ]
  },
  {
   "cell_type": "code",
   "execution_count": 1,
   "metadata": {},
   "outputs": [
    {
     "data": {
      "text/plain": [
       "'0.9'"
      ]
     },
     "execution_count": 1,
     "metadata": {},
     "output_type": "execute_result"
    }
   ],
   "source": [
    "from sadedegel import about\n",
    "about.__version__"
   ]
  },
  {
   "cell_type": "code",
   "execution_count": 2,
   "metadata": {},
   "outputs": [],
   "source": [
    "from smart_open import open\n",
    "from sadedegel.tokenize import Doc"
   ]
  },
  {
   "cell_type": "markdown",
   "metadata": {},
   "source": [
    "## Internetteki Haber Metinlerini Okumak\n",
    "\n",
    "`sadedegel` bağımlılıklarından bir tanesi de  `smart_open`. Kütüphane sayesinde bir çok konumdaki haber metnini ham olarak okuyabilirsiniz. Örneğin `http(s)://`,`ftp(s)://` or `s3://`"
   ]
  },
  {
   "cell_type": "markdown",
   "metadata": {},
   "source": [
    "Şimdi bizim paylaştığımız dokümanlardan Github LFS üzerinde duran bir metni alalım"
   ]
  },
  {
   "cell_type": "code",
   "execution_count": 3,
   "metadata": {},
   "outputs": [
    {
     "name": "stderr",
     "output_type": "stream",
     "text": [
      "2020-07-31 17:36:06.527 | INFO     | sadedegel.tokenize.helper:__init__:314 - Loading ML based SBD\n",
      "2020-07-31 17:36:06.528 | INFO     | sadedegel.tokenize.ml.sbd:load_model:28 - Loading sbd model from /usr/local/lib/python3.7/site-packages/sadedegel/tokenize/ml/model/sbd.pickle\n"
     ]
    }
   ],
   "source": [
    "with open('https://media.githubusercontent.com/media/GlobalMaksimum/sadedegel/master/sadedegel/dataset/raw/fena-halde-mechul-41303975.txt') as fp:\n",
    "    d = Doc(fp.read())\n",
    "    "
   ]
  },
  {
   "cell_type": "markdown",
   "metadata": {},
   "source": [
    "## Favori Özetleyicinizle İşe Koyulun\n",
    "\n",
    "`sadedegel` bir çok temel ve makine öğrenmesi tabanlı unsupervised özetleyiciyi birlikte getiriyor. Kendi probleminiz için en iyi methodun ne olduğunu anlamak için biraz oynamanız gerekecek. 😜"
   ]
  },
  {
   "cell_type": "markdown",
   "metadata": {},
   "source": [
    "### LastK Özetleyici\n",
    "\n",
    "İronik bir biçimde temel (baseline) özetleyiciler arasında bizim testlerimize göre en güzel çalışan metotlardan bir tanesi LastK özetleyici. Aslında **LastK**, **PositionalSummarizer** olarak adlandırdığımız Pozisyon bazlı özetleyicinin bir özel durumu (tıpkı kardeşi **FirstK** gibi)\n",
    "\n",
    "En bazit anlatımla **LastK** metnin son cümlesinin en önemli, ilk cümlesinin ise  en önemsiz olduğunu düşünerek çalışır.\n",
    "\n",
    "Bu arada nedenini söylememize gerek yok sanırız ancak, **LastK** son derece hızlı..."
   ]
  },
  {
   "cell_type": "code",
   "execution_count": 4,
   "metadata": {},
   "outputs": [
    {
     "data": {
      "text/plain": [
       "[Katkısı neredeyse sıfır, sahada duruşu ve hatta oyundan çıkışı bile problemli arkadaşın.,\n",
       " Bu vaziyetten kurtulur mu, dev bir performans sıçraması yaşar mı, mesela beni utandırır mı bekleyip görmek gerekiyor.,\n",
       " Ancak manzaraya bakınca insan sadece şunu söyleyebiliyor: Yetiş ya Falcao!]"
      ]
     },
     "execution_count": 4,
     "metadata": {},
     "output_type": "execute_result"
    }
   ],
   "source": [
    "from sadedegel.summarize import PositionSummarizer\n",
    "\n",
    "lastk = PositionSummarizer(mode='last')\n",
    "\n",
    "lastk(d, 3)"
   ]
  },
  {
   "cell_type": "markdown",
   "metadata": {},
   "source": [
    "### Rouge1 Özetleyici\n",
    "\n",
    "Makine Öğrenmesi tabanlı bir unsupervised özetleyici olan **Rouge1**, metin içerisindeki cümlelerin rouge1 skorlarını baz alarak skorlama yapar."
   ]
  },
  {
   "cell_type": "code",
   "execution_count": 5,
   "metadata": {},
   "outputs": [],
   "source": [
    "from sadedegel.summarize import Rouge1Summarizer"
   ]
  },
  {
   "cell_type": "code",
   "execution_count": 6,
   "metadata": {},
   "outputs": [
    {
     "data": {
      "text/plain": [
       "[Şampiyon  Galatasaray sezonu ancak ‘ilk maçın günahı olmaz’ şeklinde geçiştirilebilecek berbat bir performans sunarak açtı.,\n",
       " Katkısı neredeyse sıfır, sahada duruşu ve hatta oyundan çıkışı bile problemli arkadaşın.,\n",
       " Bu vaziyetten kurtulur mu, dev bir performans sıçraması yaşar mı, mesela beni utandırır mı bekleyip görmek gerekiyor.]"
      ]
     },
     "execution_count": 6,
     "metadata": {},
     "output_type": "execute_result"
    }
   ],
   "source": [
    "Rouge1Summarizer()(d, 3)"
   ]
  },
  {
   "cell_type": "markdown",
   "metadata": {},
   "source": [
    "Sadece özet cümleleri değil de her bir cümlenin skorunu merak ediyorsanız, özetleyiciler üzerinde bulunan `predict` fonksiyonunu kullanabilirsiniz. "
   ]
  },
  {
   "cell_type": "code",
   "execution_count": 7,
   "metadata": {},
   "outputs": [
    {
     "data": {
      "text/plain": [
       "array([0.03666667, 0.06333333, 0.08666667, 0.1       , 0.1       ,\n",
       "       0.05666667, 0.07      , 0.04666667, 0.04      , 0.04333333,\n",
       "       0.01      , 0.02333333, 0.02333333, 0.04666667, 0.02333333,\n",
       "       0.02666667, 0.04666667, 0.05333333, 0.01666667, 0.03      ,\n",
       "       0.03333333, 0.02333333])"
      ]
     },
     "execution_count": 7,
     "metadata": {},
     "output_type": "execute_result"
    }
   ],
   "source": [
    "Rouge1Summarizer().predict(d.sents)"
   ]
  }
 ],
 "metadata": {
  "kernelspec": {
   "display_name": "Python 3",
   "language": "python",
   "name": "python3"
  },
  "language_info": {
   "codemirror_mode": {
    "name": "ipython",
    "version": 3
   },
   "file_extension": ".py",
   "mimetype": "text/x-python",
   "name": "python",
   "nbconvert_exporter": "python",
   "pygments_lexer": "ipython3",
   "version": "3.7.7"
  }
 },
 "nbformat": 4,
 "nbformat_minor": 4
}
