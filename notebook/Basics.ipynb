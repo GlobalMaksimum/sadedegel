{
 "cells": [
  {
   "cell_type": "markdown",
   "metadata": {},
   "source": [
    "<div class=\"alert alert-block alert-warning\">\n",
    "<b>Kullanıcı Uyarısı:</b> <b>sadedegel</b> versiyonuzu <code>pip install sadedegel -U </code> kullanarak sık sık güncellemenizi tavsiye ediyoruz. Çünkü henüz kararlı major sürümde değiliz ve API lerde sürekli yazımsal ve anlamsal değişiklikler yapıyoruz. Anlayışınız ve desteğiniz için teşekkürler. \n",
    "</div>"
   ]
  },
  {
   "cell_type": "code",
   "execution_count": null,
   "metadata": {},
   "outputs": [],
   "source": [
    "from sadedegel.about import __version__\n",
    "__version__"
   ]
  },
  {
   "cell_type": "markdown",
   "metadata": {},
   "source": [
    "### SadedeGel'e Hızlı Giriş\n",
    "\n",
    "sadedegel kütüphanesinde bir çok akış `Doc` sınıfıyla başlar.\n",
    "\n",
    "Bir metin ile `Doc` objesini çağırdığınızda\n",
    "\n",
    "* Sentence Boundary Detection (SBD)\n",
    "* Her bir cümle için word tokenization\n",
    "* Cümle BERT embedding hesaplaması\n",
    "* Cümle'ye ait **rouge1** score hesaplaması\n",
    "    \n",
    "gibi işlemler gerçekleşir."
   ]
  },
  {
   "cell_type": "code",
   "execution_count": null,
   "metadata": {},
   "outputs": [],
   "source": [
    "from sadedegel.tokenize import Doc\n",
    "\n",
    "text = \"\"\"\n",
    "Kapıyı aç Veysel Efendi! Mahmut Hoca'nın emriyle Uganda Cumhurbaşkanı'nı karşılamaya gidiyoruz.\n",
    "\"\"\"\n",
    "\n",
    "d = Doc(text)\n",
    "\n",
    "print(d.sents)\n",
    "print()\n",
    "print(f\"Cümle 1 - Rouge1: {d.sents[0].rouge1('recall')} (recall) {d.sents[0].rouge1('precision')} (precision)\")\n",
    "print()\n",
    "\n",
    "print(f\"Cümle 1 uzunluğu: {len(d.sents[0])} \")\n",
    "print(d.sents[0].tokens)"
   ]
  },
  {
   "cell_type": "markdown",
   "metadata": {},
   "source": [
    "### SadedeGel Veri Kümeleri\n",
    "\n",
    "SadedeGel ile birlikte farklı formatlarda hazır veri kümeleri gelmektedir. Bunların bazıları ham veriler iken bazıları human-annotated veri kümeleridir."
   ]
  },
  {
   "cell_type": "code",
   "execution_count": null,
   "metadata": {},
   "outputs": [],
   "source": [
    "from sadedegel.dataset import load_raw_corpus\n",
    "\n",
    "raw = load_raw_corpus()\n",
    "\n",
    "d = next(raw)\n",
    "d"
   ]
  },
  {
   "cell_type": "markdown",
   "metadata": {},
   "source": [
    "### SadedeGel Extraction-based Özetleyiciler\n",
    "\n",
    "SadedeGel extraction-based özetleyicilerin tamamı temelde cümle scorlaması yapan kural veya ML tabalı sınıflardır."
   ]
  },
  {
   "cell_type": "code",
   "execution_count": null,
   "metadata": {},
   "outputs": [],
   "source": [
    "import numpy as np\n",
    "from sadedegel.dataset import load_raw_corpus\n",
    "from sadedegel.summarize import Rouge1Summarizer\n",
    "\n",
    "\n",
    "raw = load_raw_corpus(return_iter=False)\n",
    "\n",
    "d = Doc(raw[0])\n",
    "\n",
    "print(f\"Metin içerisindeki toplam cümle sayısı {len(d.sents)}\")\n",
    "print()\n",
    "\n",
    "scores = Rouge1Summarizer().predict(d.sents)\n",
    "\n",
    "print(scores)\n",
    "print()\n",
    "\n",
    "top3_index = np.argsort(scores)[::-1][:3]\n",
    "\n",
    "for sent in np.array(d.sents)[top3_index]:\n",
    "    print(f'⇨ {sent}')"
   ]
  },
  {
   "cell_type": "code",
   "execution_count": null,
   "metadata": {},
   "outputs": [],
   "source": []
  }
 ],
 "metadata": {
  "kernelspec": {
   "display_name": "Python 3",
   "language": "python",
   "name": "python3"
  },
  "language_info": {
   "codemirror_mode": {
    "name": "ipython",
    "version": 3
   },
   "file_extension": ".py",
   "mimetype": "text/x-python",
   "name": "python",
   "nbconvert_exporter": "python",
   "pygments_lexer": "ipython3",
   "version": "3.7.7"
  }
 },
 "nbformat": 4,
 "nbformat_minor": 4
}
