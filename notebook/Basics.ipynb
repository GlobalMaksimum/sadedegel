{
 "cells": [
  {
   "cell_type": "markdown",
   "metadata": {},
   "source": [
    "### SadedeGel'e Hızlı Giriş\n",
    "\n",
    "sadedegel kütüphanesinde bir çok akış `Doc` sınıfıyla başlar.\n",
    "\n",
    "Bir metin ile `Doc` objesini çağırdığınızda\n",
    "\n",
    "* Sentence Boundary Detection (SBD)\n",
    "* Her bir cümle için word tokenization\n",
    "* Cümle BERT embedding hesaplaması\n",
    "* Cümle'ye ait **rouge1** score hesaplaması\n",
    "    \n",
    "gibi işlemler gerçekleşir."
   ]
  },
  {
   "cell_type": "code",
   "execution_count": 24,
   "metadata": {},
   "outputs": [
    {
     "name": "stdout",
     "output_type": "stream",
     "text": [
      "[Kapıyı aç Veysel Efendi!, Mahmut Hoca'nın emriyle Uganda Cumhurbaşkanı'nı karşılamaya gidiyoruz.]\n",
      "\n",
      "Cümle 1 - Rouge1: 0.0 (recall) 0.0 (precision)\n",
      "\n",
      "Cümle 1 uzunluğu: 6 \n",
      "['Kapı', '##yı', 'aç', 'Veysel', 'Efendi', '!']\n"
     ]
    }
   ],
   "source": [
    "from sadedegel.tokenize import Doc\n",
    "\n",
    "text = \"\"\"\n",
    "Kapıyı aç Veysel Efendi! Mahmut Hoca'nın emriyle Uganda Cumhurbaşkanı'nı karşılamaya gidiyoruz.\n",
    "\"\"\"\n",
    "\n",
    "d = Doc(text)\n",
    "\n",
    "print(d.sents)\n",
    "print()\n",
    "print(f\"Cümle 1 - Rouge1: {d.sents[0].rouge1('recall')} (recall) {d.sents[0].rouge1('precision')} (precision)\")\n",
    "print()\n",
    "\n",
    "print(f\"Cümle 1 uzunluğu: {len(d.sents[0])} \")\n",
    "print(d.sents[0].tokens)"
   ]
  },
  {
   "cell_type": "markdown",
   "metadata": {},
   "source": [
    "### SadedeGel Veri Kümeleri\n",
    "\n",
    "SadedeGel ile birlikte farklı formatlarda hazır veri kümeleri gelmektedir. Bunların bazıları ham veriler iken bazıları human-annotated veri kümeleridir."
   ]
  },
  {
   "cell_type": "code",
   "execution_count": 27,
   "metadata": {},
   "outputs": [
    {
     "name": "stderr",
     "output_type": "stream",
     "text": [
      "2020-07-29 18:32:33.238 | DEBUG    | sadedegel.dataset._core:load_raw_corpus:41 - Search path /usr/local/lib/python3.7/site-packages/sadedegel/dataset/raw/*.txt\n"
     ]
    },
    {
     "data": {
      "text/plain": [
       "' Belki iki senedir adaylarda farklılıklar olmakla beraber her şeye rağmen Clinton’un başkan seçileceğine dair kanaatim vardı. Tabii ki bunu her defasında ifade ederken “şartlarda beklenmedik gelişmeler olmaması” durumunda sözümü eklemiştim. Yine kanaatimce Trump’ın Cumhuriyetçi Parti adayı olması bir sürprizdi. Trump’ın adaylığı kimsenin beklemediği, ama Clinton’un yarıştaki şansını daha da arttıran bir hadise oldu. \\xa0 Ancak şu gerçeği de unutmamak lazım; Clinton çok sevilen, çok desteklenen ya da istisnasız herkesin arkasında olmazsa olmaz diyerek durduğu bir aday olmadı hiçbir zaman. Buna rağmen Trump’ın Clinton’un rakibi olarak ön seçimlerden çıkması Clinton’a avantaj sağladı. Yaşanan gelişmeler ve seçime bir hafta kala geldiğimiz durumda da Clinton anketlerde Trump’ın önünde seyretmekte. Tabii ki geçen haftaya göre aralarındaki fark daha da azaldı. Bu azalmanın nedeninin Clinton’un e-maillerinin tekrar soruşturmaya alınması olduğunu zaten artık herkes biliyor. \\xa0 Son yazımda da ifade ettiğim kanaatim, Clinton’un bu seçimi 300-330 bandında bir elektoral oy ile kazanacağı idi. Peki, bu kanaatim hangi faktörler ışığında oluştu? Eyaletlerdeki anketlerin ortalamaları, Amerika’daki son sekiz seçimdir seyreden seçmen davranışı, demografik olarak adayların destek aldığı oy kitlelerinin son sekiz seçim dönemine göre eyalet bazlı hareketleri, diğer iki başkan adayının iki büyük parti adayından eyalet bazında alacağı oylar ve bunun Seçiciler Kurulu’na etkisini göz önünde bulundurdum. Ayrıca yaşanan son hadiselerin eyalet bazlı seçmen davranışına etkisini de hesaba katmak gerekti. Bunlar ve bunlar gibi hadiseleri değerlendirdiğimizde karşımıza 300-330 bandında bir Clinton galibiyeti çıkıyordu. \\xa0 Bu hafta ABD Kongresi’nde senatörlük ve Temsilciler Meclisi üyeliği yapmış birçok isimle görüştüm. Bilhassa Cumhuriyetçi partili olanlarla fikrimi paylaştığımda Trump’ın seçimi kazanacağını söylediler. \\xa0 Bu kimselerin Cumhuriyetçi olması Trump’ın destekçisi oldukları anlamına gelmez. Bu ayrıntı kanaatimce büyük önem arz ediyor. Objektif olduğuna inandıklarım Trump’ın kazanacağını savunurken ve benim 300-330 bandı yorumumu yanlış bulurken karşıma şu tezler ile çıktılar: \\xa0 1) Anketler Brexit’te yanıldı. Anketlerin Kentucky seçimlerinde 10 puan önde gösterdikleri aday değil, diğer aday 10 puanla kazandı. Yani anketler artık eskisi kadar gerçekleri birebir yansıtmıyor. Çünkü oy verme alışkanlığı olmayan seçmeni hesap edemiyorlar. \\xa0 2) İnsanlar sistemden ve sistemin Washington dukalığının içinde olanlardan sıkıldılar. Bu sıkkınlık karşısında Trump’a yöneliyorlar ve Hillary ise tam anlamıyla bu statükoyu temsil ediyor. Yani seçmen alışkanlığı\\xa0 olmayan seçmen de bu seçimlerde sistem dışı oy kullanarak Trump’ı seçer. \\xa0 3) Clinton’un e-mail davasının yeniden açılması aradaki farkı azalttı. Bu fark seçime kadar kapanır ve hatta Trump öne geçer. \\xa0 Kanaatimce yukarıdaki söylemlerin seçmeni nasıl etkileyeceği hala tartışmaya açıktır. Çünkü Hillary sevilmeyen bir aday olabilir, ama Trump’ın da ABD vatandaşlarının bir kahramanı olduğunu söylemek zor.\\xa0 Büyük eksilerle yola çıkmış iki adayın savaşı bu. \\xa0 Beni asıl düşündüren eyalet bazlı anketlerdeki bazı oynamalar. Mesela benim seçime istinaden en büyük iddiam daha evvelki yazılarımda da bahsettiğim gibi Florida eyaleti. Clinton Florida’yı alırsa büyük ihtimalle iş biter, ama Trump Florida’yı alamazsa işi çok zor. Florida’da son bir aydır Clinton, Trump’ın hep önündeydi. Ancak Remington Research ve NY Times/Siena firmalarının son anketlerinde ilk kez Trump dört puan farkla Clinton’un önüne geçti. Gerçi bu iki firmanın anketlerinden iki hafta önceki anketlerde de diğer şirketler Clinton’u dört beş puan önde gösterirken\\xa0 bu firmalar eşit ya da bir puan geride gösteriyordu. \\xa0 Bu yazıyı Washington’da yazdığım sırada Trump, 1988 senesinden beri Cumhuriyetçi bir başkana oy vermemiş Michigan eyaletini almak üzereydi. Florida’da öne geçmişti. Pensilvanya ve Ohio’da farkı iyice azaltmıştı. Clinton’un e-mail meselesi git gide büyüyordu ve artık konuştuğum kimse net bir şey söylemeye yanaşmıyordu. \\xa0 Şu anda Washington’da Trump’ın başkanlığı havası hakim olmaya başladı. Demokratlar ciddi anlamda endişeliler. Artık herkesin ağzında “her şey o gece belli olacak, ucu ucuna bir seçim geçecek” söylemleri hakim. \\xa0 Bir öğreti vardır, her şey net olmadan yazma ve söyleme diye. Bu sebeple herkes, gidişat çok yakın ve her şey olabilir diye konuşur. Tabii ki öyle, ama hala yaptığımız tüm analizlerin değişme ihtimali olmasıyla birlikte Clinton’un seçimi her şeye rağmen 300-330 bandında alacağını düşünüyorum. Hem de şu an Amerika’da hakim olmaya başlayan Trump başkan olmaya yakın ortamının tam da göbeğinde. PAYLAŞ A'"
      ]
     },
     "execution_count": 27,
     "metadata": {},
     "output_type": "execute_result"
    }
   ],
   "source": [
    "from sadedegel.dataset import load_raw_corpus\n",
    "\n",
    "raw = load_raw_corpus()\n",
    "\n",
    "d = next(raw)\n",
    "d"
   ]
  },
  {
   "cell_type": "markdown",
   "metadata": {},
   "source": [
    "### SadedeGel Extraction-based Özetleyiciler\n",
    "\n",
    "SadedeGel extraction-based özetleyicilerin tamamı temelde cümle scorlaması yapan kural veya ML tabalı sınıflardır."
   ]
  },
  {
   "cell_type": "code",
   "execution_count": 49,
   "metadata": {},
   "outputs": [
    {
     "name": "stderr",
     "output_type": "stream",
     "text": [
      "2020-07-29 18:42:00.245 | DEBUG    | sadedegel.dataset._core:load_raw_corpus:41 - Search path /usr/local/lib/python3.7/site-packages/sadedegel/dataset/raw/*.txt\n"
     ]
    },
    {
     "name": "stdout",
     "output_type": "stream",
     "text": [
      "Metin içerisindeki toplam cümle sayısı 47\n",
      "\n",
      "[0.0204461  0.01672862 0.0204461  0.0260223  0.02416357 0.0260223\n",
      " 0.02788104 0.01301115 0.02416357 0.03903346 0.00743494 0.06505576\n",
      " 0.01858736 0.02230483 0.01486989 0.01858736 0.01486989 0.01301115\n",
      " 0.03717472 0.01858736 0.01115242 0.01486989 0.01115242 0.0204461\n",
      " 0.02230483 0.01858736 0.01486989 0.01486989 0.03159851 0.01115242\n",
      " 0.01301115 0.02416357 0.02230483 0.02416357 0.02416357 0.03903346\n",
      " 0.0260223  0.00929368 0.01115242 0.02416357 0.01858736 0.00371747\n",
      " 0.02416357 0.01672862 0.0204461  0.03531599 0.02416357]\n",
      "\n",
      "⇨ Eyaletlerdeki anketlerin ortalamaları, Amerika’daki son sekiz seçimdir seyreden seçmen davranışı, demografik olarak adayların destek aldığı oy kitlelerinin son sekiz seçim dönemine göre eyalet bazlı hareketleri, diğer iki başkan adayının iki büyük parti adayından eyalet bazında alacağı oylar ve bunun Seçiciler Kurulu’na etkisini göz önünde bulundurdum.\n",
      "⇨ Son yazımda da ifade ettiğim kanaatim, Clinton’un bu seçimi 300-330 bandında bir elektoral oy ile kazanacağı idi.\n",
      "⇨ Gerçi bu iki firmanın anketlerinden iki hafta önceki anketlerde de diğer şirketler Clinton’u dört beş puan önde gösterirken  bu firmalar eşit ya da bir puan geride gösteriyordu.\n"
     ]
    }
   ],
   "source": [
    "import numpy as np\n",
    "from sadedegel.dataset import load_raw_corpus\n",
    "from sadedegel.summarize import Rouge1Summarizer\n",
    "\n",
    "\n",
    "raw = load_raw_corpus(return_iter=False)\n",
    "\n",
    "d = Doc(raw[0])\n",
    "\n",
    "print(f\"Metin içerisindeki toplam cümle sayısı {len(d.sents)}\")\n",
    "print()\n",
    "\n",
    "scores = Rouge1Summarizer().predict(d.sents)\n",
    "\n",
    "print(scores)\n",
    "print()\n",
    "\n",
    "top3_index = np.argsort(scores)[::-1][:3]\n",
    "\n",
    "for sent in np.array(d.sents)[top3_index]:\n",
    "    print(f'⇨ {sent}')"
   ]
  },
  {
   "cell_type": "code",
   "execution_count": null,
   "metadata": {},
   "outputs": [],
   "source": []
  }
 ],
 "metadata": {
  "kernelspec": {
   "display_name": "Python 3",
   "language": "python",
   "name": "python3"
  },
  "language_info": {
   "codemirror_mode": {
    "name": "ipython",
    "version": 3
   },
   "file_extension": ".py",
   "mimetype": "text/x-python",
   "name": "python",
   "nbconvert_exporter": "python",
   "pygments_lexer": "ipython3",
   "version": "3.7.7"
  }
 },
 "nbformat": 4,
 "nbformat_minor": 4
}
