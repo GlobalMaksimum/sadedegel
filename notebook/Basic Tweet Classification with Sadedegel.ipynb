{
 "cells": [
  {
   "attachments": {
    "logo-2.png": {
     "image/png": "[encoded data removed]"
    }
   },
   "cell_type": "markdown",
   "metadata": {
    "papermill": {
     "duration": 0.027257,
     "end_time": "2020-11-16T18:44:10.357209",
     "exception": false,
     "start_time": "2020-11-16T18:44:10.329952",
     "status": "completed"
    },
    "tags": []
   },
   "source": [
    "![logo-2.png](attachment:logo-2.png)"
   ]
  },
  {
   "cell_type": "markdown",
   "metadata": {},
   "source": [
    "<div class=\"alert alert-block alert-warning\">\n",
    "<b>Kullanıcı Uyarısı:</b> <b>sadedegel</b> versiyonuzu <code>pip install sadedegel -U </code> kullanarak sık sık güncellemenizi tavsiye ediyoruz. Çünkü henüz kararlı major sürümde değiliz ve API lerde sürekli yazımsal ve anlamsal değişiklikler yapıyoruz. Anlayışınız ve desteğiniz için teşekkürler. \n",
    "</div>"
   ]
  },
  {
   "cell_type": "code",
   "execution_count": null,
   "metadata": {},
   "outputs": [],
   "source": [
    "from sadedegel.about import __version__\n",
    "__version__"
   ]
  },
  {
   "cell_type": "markdown",
   "metadata": {
    "papermill": {
     "duration": 0.026477,
     "end_time": "2020-11-16T18:44:10.410477",
     "exception": false,
     "start_time": "2020-11-16T18:44:10.384000",
     "status": "completed"
    },
    "tags": []
   },
   "source": [
    "## Offensive Turkish Tweets Classification\n",
    "### with Sadedegel and Sklearn\n",
    "#### by Askar Bozcan\n",
    "\n",
    "#### Requirements: Altair for visualizations and Offensive Tweets dataset at https://coltekin.github.io/offensive-turkish"
   ]
  },
  {
   "cell_type": "markdown",
   "metadata": {
    "papermill": {
     "duration": 0.02726,
     "end_time": "2020-11-16T18:44:10.465763",
     "exception": false,
     "start_time": "2020-11-16T18:44:10.438503",
     "status": "completed"
    },
    "tags": []
   },
   "source": [
    "*A small disclaimer: The data at hand contains offensive content. Opinions presented in the tweets are those of their users and not Sadedegel team.*\n",
    "\n",
    "---"
   ]
  },
  {
   "cell_type": "code",
   "execution_count": null,
   "metadata": {
    "_kg_hide-output": true,
    "execution": {
     "iopub.execute_input": "2020-11-16T18:44:10.528109Z",
     "iopub.status.busy": "2020-11-16T18:44:10.527342Z",
     "iopub.status.idle": "2020-11-16T18:46:19.719028Z",
     "shell.execute_reply": "2020-11-16T18:46:19.718348Z"
    },
    "papermill": {
     "duration": 129.226747,
     "end_time": "2020-11-16T18:46:19.719187",
     "exception": false,
     "start_time": "2020-11-16T18:44:10.492440",
     "status": "completed"
    },
    "tags": []
   },
   "outputs": [],
   "source": [
    "import torch\n",
    "import numpy as np\n",
    "import pandas as pd\n",
    "from sadedegel.bblock import Doc\n",
    "from sklearn.linear_model import LogisticRegression\n",
    "from sklearn.model_selection import train_test_split\n",
    "from scipy.sparse import vstack, csr_matrix # dealing with sparse matrices in  tfidf embeddings\n",
    "from sklearn.preprocessing import normalize\n",
    "import altair as alt\n",
    "from tqdm import tqdm\n",
    "\n"
   ]
  },
  {
   "cell_type": "markdown",
   "metadata": {
    "papermill": {
     "duration": 0.435448,
     "end_time": "2020-11-16T18:46:20.572579",
     "exception": false,
     "start_time": "2020-11-16T18:46:20.137131",
     "status": "completed"
    },
    "tags": []
   },
   "source": [
    "### Data"
   ]
  },
  {
   "cell_type": "code",
   "execution_count": null,
   "metadata": {
    "execution": {
     "iopub.execute_input": "2020-11-16T18:46:21.513785Z",
     "iopub.status.busy": "2020-11-16T18:46:21.512815Z",
     "iopub.status.idle": "2020-11-16T18:46:21.672639Z",
     "shell.execute_reply": "2020-11-16T18:46:21.671913Z"
    },
    "papermill": {
     "duration": 0.679409,
     "end_time": "2020-11-16T18:46:21.672826",
     "exception": false,
     "start_time": "2020-11-16T18:46:20.993417",
     "status": "completed"
    },
    "tags": []
   },
   "outputs": [],
   "source": [
    "df = pd.read_csv(\"https://coltekin.github.io/offensive-turkish/troff-v1.0.tsv.gz\", sep='\\t')\n",
    "df"
   ]
  },
  {
   "cell_type": "markdown",
   "metadata": {
    "papermill": {
     "duration": 0.395671,
     "end_time": "2020-11-16T18:46:22.504991",
     "exception": false,
     "start_time": "2020-11-16T18:46:22.109320",
     "status": "completed"
    },
    "tags": []
   },
   "source": [
    "The data we have at hand is a compilation of 35284 Turkish tweets, labelled by their type of offensive language. (Note that user handles are censored for privacy.)\n",
    "\n",
    "**What are the labels?**\n",
    "\n",
    "<ul>\n",
    "    <li><b>non</b>offensive: Non-offensive tweets.</li>\n",
    "    <li><b>prof</b>anity, or “untargeted offense”, is use of offensive language without a particular target. This is typically use of swear words, or other “inappropriate” language for stylistic reasons.</li>\n",
    "    <li><b>grp</b> (offense towards a group) means the author intends to offend a group that forms a “unity” based on gender, ethnicity, political affiliation, religious belief or similar aspects of a person’s identity.</li>\n",
    "    <li><b>ind</b> (offensive towards an individual) is used for offensive targeted to an individual or group of individuals that are not related in well-defined manner.</li>\n",
    "    <li><b>oth</b> target of the offense is not one of the two cases above. This typically include organizations, events etc.</li>\n",
    "</ul>"
   ]
  },
  {
   "cell_type": "markdown",
   "metadata": {
    "papermill": {
     "duration": 0.394668,
     "end_time": "2020-11-16T18:46:23.281199",
     "exception": false,
     "start_time": "2020-11-16T18:46:22.886531",
     "status": "completed"
    },
    "tags": []
   },
   "source": [
    "---\n",
    "\n",
    "<br>\n",
    "\n",
    "**What are the class counts?**\n",
    "\n",
    "It is imperative to know how imbalanced the dataset is to make right decisions regarding splitting the data."
   ]
  },
  {
   "cell_type": "code",
   "execution_count": null,
   "metadata": {
    "execution": {
     "iopub.execute_input": "2020-11-16T18:46:24.099990Z",
     "iopub.status.busy": "2020-11-16T18:46:24.096427Z",
     "iopub.status.idle": "2020-11-16T18:46:24.107370Z",
     "shell.execute_reply": "2020-11-16T18:46:24.106764Z"
    },
    "papermill": {
     "duration": 0.422258,
     "end_time": "2020-11-16T18:46:24.107495",
     "exception": false,
     "start_time": "2020-11-16T18:46:23.685237",
     "status": "completed"
    },
    "tags": []
   },
   "outputs": [],
   "source": [
    "class_counts = df[\"label\"].value_counts()\n",
    "class_counts = class_counts.reset_index()\n",
    "class_counts = class_counts.rename(columns={\"label\":\"counts\", \"index\":\"label\"})\n",
    "class_counts"
   ]
  },
  {
   "cell_type": "code",
   "execution_count": null,
   "metadata": {
    "execution": {
     "iopub.execute_input": "2020-11-16T18:46:24.996344Z",
     "iopub.status.busy": "2020-11-16T18:46:24.995456Z",
     "iopub.status.idle": "2020-11-16T18:46:25.043652Z",
     "shell.execute_reply": "2020-11-16T18:46:25.042878Z"
    },
    "papermill": {
     "duration": 0.55534,
     "end_time": "2020-11-16T18:46:25.043793",
     "exception": false,
     "start_time": "2020-11-16T18:46:24.488453",
     "status": "completed"
    },
    "tags": []
   },
   "outputs": [],
   "source": [
    "alt.Chart(class_counts, height=200).mark_bar(color=\"lightblue\").encode(\n",
    "    x=alt.X(\"counts:Q\", title=\"Class count\"),\n",
    "    y=alt.Y(\"label:N\", title=\"Off. tweet type\")\n",
    ").configure_axis(\n",
    "    labelFontSize=12,\n",
    "    titleFontSize=15\n",
    ")\n"
   ]
  },
  {
   "cell_type": "markdown",
   "metadata": {
    "papermill": {
     "duration": 0.444752,
     "end_time": "2020-11-16T18:46:25.916525",
     "exception": false,
     "start_time": "2020-11-16T18:46:25.471773",
     "status": "completed"
    },
    "tags": []
   },
   "source": [
    "\n",
    "It seems that our dataset is highly imbalanced with most tweets being inoffensive, which would severely hamper our model's perforamance if we don't account for it.\n",
    "<br>\n",
    "\n",
    "---"
   ]
  },
  {
   "cell_type": "markdown",
   "metadata": {
    "papermill": {
     "duration": 0.459034,
     "end_time": "2020-11-16T18:46:26.760054",
     "exception": false,
     "start_time": "2020-11-16T18:46:26.301020",
     "status": "completed"
    },
    "tags": []
   },
   "source": [
    "### Preprocessing\n",
    "\n",
    "Although most of the necessary preprocessing will be done by Sadedegel, we need to remove @User handles beforehand as the handles are useless, and may even hamper our model. A regex will be used to replace them with a blank string."
   ]
  },
  {
   "cell_type": "code",
   "execution_count": null,
   "metadata": {
    "execution": {
     "iopub.execute_input": "2020-11-16T18:46:27.622567Z",
     "iopub.status.busy": "2020-11-16T18:46:27.602173Z",
     "iopub.status.idle": "2020-11-16T18:46:27.684922Z",
     "shell.execute_reply": "2020-11-16T18:46:27.684360Z"
    },
    "papermill": {
     "duration": 0.4875,
     "end_time": "2020-11-16T18:46:27.685040",
     "exception": false,
     "start_time": "2020-11-16T18:46:27.197540",
     "status": "completed"
    },
    "tags": []
   },
   "outputs": [],
   "source": [
    "df[\"text\"] = df[\"text\"].replace(\"@\\S* \", \"\", regex=True)\n",
    "df.head()"
   ]
  },
  {
   "cell_type": "markdown",
   "metadata": {
    "papermill": {
     "duration": 0.388919,
     "end_time": "2020-11-16T18:46:28.530109",
     "exception": false,
     "start_time": "2020-11-16T18:46:28.141190",
     "status": "completed"
    },
    "tags": []
   },
   "source": [
    "---\n",
    "<br>\n",
    "Next step is to convert text into TFIDF embeddings. Luckily getting those in Sadedegel is pretty easy and all you have to do is:\n",
    "<ol>\n",
    "    <li style=\"font-weight:bold\"><span style=\"font-weight:normal\">Turn the text into a Doc object.</span></li>\n",
    "    <li style=\"font-weight:bold\"><span style=\"font-weight:normal\">Use .tfidf_embeddings property of Doc to get TFIDF embeddings in form of [NxV] where N is the number of sentences in the text and V is the size of vocabulary.</span></li>\n",
    "    <li style=\"font-weight:bold\"><span style=\"font-weight:normal\">Average embeddings over the sentences in a tweet to get a single vector for a tweet which would be what is fed to the classifier as vector representation of the tweet.</span></li>\n",
    "</ol>\n",
    "\n",
    "Here is an example on 1 tweet:"
   ]
  },
  {
   "cell_type": "code",
   "execution_count": null,
   "metadata": {
    "execution": {
     "iopub.execute_input": "2020-11-16T18:46:29.328362Z",
     "iopub.status.busy": "2020-11-16T18:46:29.327336Z",
     "iopub.status.idle": "2020-11-16T18:46:29.395349Z",
     "shell.execute_reply": "2020-11-16T18:46:29.394583Z"
    },
    "papermill": {
     "duration": 0.478292,
     "end_time": "2020-11-16T18:46:29.395485",
     "exception": false,
     "start_time": "2020-11-16T18:46:28.917193",
     "status": "completed"
    },
    "tags": []
   },
   "outputs": [],
   "source": [
    "# Step 1\n",
    "tweet_0 = Doc(df.iloc[103][\"text\"])\n",
    "tweet_0"
   ]
  },
  {
   "cell_type": "code",
   "execution_count": null,
   "metadata": {
    "execution": {
     "iopub.execute_input": "2020-11-16T18:46:30.181022Z",
     "iopub.status.busy": "2020-11-16T18:46:30.179821Z",
     "iopub.status.idle": "2020-11-16T18:46:30.258430Z",
     "shell.execute_reply": "2020-11-16T18:46:30.257697Z"
    },
    "papermill": {
     "duration": 0.469731,
     "end_time": "2020-11-16T18:46:30.258555",
     "exception": false,
     "start_time": "2020-11-16T18:46:29.788824",
     "status": "completed"
    },
    "tags": []
   },
   "outputs": [],
   "source": [
    "# Step 2\n",
    "tfidf_embedding_0 = tweet_0.tfidf_embeddings\n",
    "tfidf_embedding_0.shape"
   ]
  },
  {
   "cell_type": "code",
   "execution_count": null,
   "metadata": {
    "execution": {
     "iopub.execute_input": "2020-11-16T18:46:31.088693Z",
     "iopub.status.busy": "2020-11-16T18:46:31.087679Z",
     "iopub.status.idle": "2020-11-16T18:46:31.093577Z",
     "shell.execute_reply": "2020-11-16T18:46:31.092895Z"
    },
    "papermill": {
     "duration": 0.421229,
     "end_time": "2020-11-16T18:46:31.093696",
     "exception": false,
     "start_time": "2020-11-16T18:46:30.672467",
     "status": "completed"
    },
    "tags": []
   },
   "outputs": [],
   "source": [
    "# Step 3\n",
    "# average on sentence dimension\n",
    "# (though in this example, there is only one sentence anyway )\n",
    "tfidf_embedding_0_avg = tfidf_embedding_0.mean(axis=0)\n",
    "tfidf_embedding_0_avg.shape\n",
    "\n",
    "# And we're done!"
   ]
  },
  {
   "cell_type": "markdown",
   "metadata": {
    "papermill": {
     "duration": 0.385796,
     "end_time": "2020-11-16T18:46:31.864162",
     "exception": false,
     "start_time": "2020-11-16T18:46:31.478366",
     "status": "completed"
    },
    "tags": []
   },
   "source": [
    "Now, just like with above example, all that's left to do is to construct the training array, which will store embeddings for every tweet. Note that this might take a few minutes as it processess everything."
   ]
  },
  {
   "cell_type": "code",
   "execution_count": null,
   "metadata": {
    "execution": {
     "iopub.execute_input": "2020-11-16T18:46:32.654375Z",
     "iopub.status.busy": "2020-11-16T18:46:32.653622Z",
     "iopub.status.idle": "2020-11-16T18:55:13.163872Z",
     "shell.execute_reply": "2020-11-16T18:55:13.162983Z"
    },
    "papermill": {
     "duration": 520.919138,
     "end_time": "2020-11-16T18:55:13.164013",
     "exception": false,
     "start_time": "2020-11-16T18:46:32.244875",
     "status": "completed"
    },
    "tags": []
   },
   "outputs": [],
   "source": [
    "\n",
    "X_str = df[\"text\"]\n",
    "X = []\n",
    "\n",
    "for tweet in tqdm(X_str):\n",
    "    d = Doc(tweet)\n",
    "    X.append(csr_matrix(d.tfidf_embeddings.mean(axis=0)))\n",
    "\n",
    "\n",
    "X = vstack(X)\n",
    "print(\"Shape of embeddings matrix: \", X.shape)"
   ]
  },
  {
   "cell_type": "markdown",
   "metadata": {
    "papermill": {
     "duration": 1.790368,
     "end_time": "2020-11-16T18:55:16.732328",
     "exception": false,
     "start_time": "2020-11-16T18:55:14.941960",
     "status": "completed"
    },
    "tags": []
   },
   "source": [
    "As a last preprocessing step, let's normalize samples in our embeddings matrix."
   ]
  },
  {
   "cell_type": "code",
   "execution_count": null,
   "metadata": {
    "execution": {
     "iopub.execute_input": "2020-11-16T18:55:20.239354Z",
     "iopub.status.busy": "2020-11-16T18:55:20.237786Z",
     "iopub.status.idle": "2020-11-16T18:55:20.249621Z",
     "shell.execute_reply": "2020-11-16T18:55:20.250114Z"
    },
    "papermill": {
     "duration": 1.786827,
     "end_time": "2020-11-16T18:55:20.250278",
     "exception": false,
     "start_time": "2020-11-16T18:55:18.463451",
     "status": "completed"
    },
    "tags": []
   },
   "outputs": [],
   "source": [
    "X = normalize(X)\n"
   ]
  },
  {
   "cell_type": "markdown",
   "metadata": {
    "papermill": {
     "duration": 1.726679,
     "end_time": "2020-11-16T18:55:23.714356",
     "exception": false,
     "start_time": "2020-11-16T18:55:21.987677",
     "status": "completed"
    },
    "tags": []
   },
   "source": [
    "Now that we have our training data, let's split the data into train and validation set, in a stratified fashion to prevent train and validation sets having different label distributions."
   ]
  },
  {
   "cell_type": "code",
   "execution_count": null,
   "metadata": {
    "execution": {
     "iopub.execute_input": "2020-11-16T18:55:27.726418Z",
     "iopub.status.busy": "2020-11-16T18:55:27.721852Z",
     "iopub.status.idle": "2020-11-16T18:55:27.757748Z",
     "shell.execute_reply": "2020-11-16T18:55:27.757160Z"
    },
    "papermill": {
     "duration": 2.002932,
     "end_time": "2020-11-16T18:55:27.757891",
     "exception": false,
     "start_time": "2020-11-16T18:55:25.754959",
     "status": "completed"
    },
    "tags": []
   },
   "outputs": [],
   "source": [
    "y = df[\"label\"]\n",
    "X_train, X_val, y_train, y_val = train_test_split(X,y, stratify=df[\"label\"], test_size=0.2)"
   ]
  },
  {
   "cell_type": "markdown",
   "metadata": {
    "papermill": {
     "duration": 1.833831,
     "end_time": "2020-11-16T18:55:31.659626",
     "exception": false,
     "start_time": "2020-11-16T18:55:29.825795",
     "status": "completed"
    },
    "tags": []
   },
   "source": [
    "Let's plot train and validation sets labels counts to ensure they have a similar label distribution."
   ]
  },
  {
   "cell_type": "code",
   "execution_count": null,
   "metadata": {
    "execution": {
     "iopub.execute_input": "2020-11-16T18:55:35.339488Z",
     "iopub.status.busy": "2020-11-16T18:55:35.338774Z",
     "iopub.status.idle": "2020-11-16T18:55:35.343649Z",
     "shell.execute_reply": "2020-11-16T18:55:35.343054Z"
    },
    "papermill": {
     "duration": 1.787247,
     "end_time": "2020-11-16T18:55:35.343775",
     "exception": false,
     "start_time": "2020-11-16T18:55:33.556528",
     "status": "completed"
    },
    "tags": []
   },
   "outputs": [],
   "source": [
    "train_class_counts = y_train.value_counts().reset_index().rename(columns={\"label\":\"counts\", \"index\":\"label\"})\n",
    "val_class_counts = y_val.value_counts().reset_index().rename(columns={\"label\":\"counts\", \"index\":\"label\"})\n",
    "\n",
    "c1 = alt.Chart(train_class_counts, height=200, title=\"Train counts\").mark_bar(color=\"lightblue\").encode(\n",
    "    \n",
    "    x=alt.X(\"counts:Q\", title=\"Class count\"),\n",
    "    y=alt.Y(\"label:N\", title=\"Off. tweet type\")\n",
    ")\n",
    "\n",
    "c2 = alt.Chart(val_class_counts, height=200, title=\"Validation counts\").mark_bar(color=\"lightblue\").encode(\n",
    "    x=alt.X(\"counts:Q\", title=\"Class count\"),\n",
    "    y=alt.Y(\"label:N\", title=\"Off. tweet type\")\n",
    ")\n",
    "\n",
    "c1 | c2\n"
   ]
  },
  {
   "cell_type": "markdown",
   "metadata": {
    "papermill": {
     "duration": 1.77272,
     "end_time": "2020-11-16T18:55:38.956664",
     "exception": false,
     "start_time": "2020-11-16T18:55:37.183944",
     "status": "completed"
    },
    "tags": []
   },
   "source": [
    "---\n",
    "\n",
    "### Train and validate"
   ]
  },
  {
   "cell_type": "markdown",
   "metadata": {
    "papermill": {
     "duration": 1.783386,
     "end_time": "2020-11-16T18:55:42.455522",
     "exception": false,
     "start_time": "2020-11-16T18:55:40.672136",
     "status": "completed"
    },
    "tags": []
   },
   "source": [
    "Great! Both train and validation have similar distributions, however class imbalance is not gone. There are many ways to address this issue but for our particular purpose we'll use LogisticRegression's `class_weight` attribute which will allow us to automatically weigh each class."
   ]
  },
  {
   "cell_type": "code",
   "execution_count": null,
   "metadata": {
    "execution": {
     "iopub.execute_input": "2020-11-16T18:55:46.003881Z",
     "iopub.status.busy": "2020-11-16T18:55:46.002997Z",
     "iopub.status.idle": "2020-11-16T18:55:56.293694Z",
     "shell.execute_reply": "2020-11-16T18:55:56.292946Z"
    },
    "papermill": {
     "duration": 12.075216,
     "end_time": "2020-11-16T18:55:56.293836",
     "exception": false,
     "start_time": "2020-11-16T18:55:44.218620",
     "status": "completed"
    },
    "tags": []
   },
   "outputs": [],
   "source": [
    "clf = LogisticRegression(random_state=0, max_iter=2000, class_weight=\"balanced\").fit(X_train, y_train) # train"
   ]
  },
  {
   "cell_type": "markdown",
   "metadata": {
    "papermill": {
     "duration": 1.749638,
     "end_time": "2020-11-16T18:55:59.869271",
     "exception": false,
     "start_time": "2020-11-16T18:55:58.119633",
     "status": "completed"
    },
    "tags": []
   },
   "source": [
    "Now that our classifier is trained, let's predict our validation set."
   ]
  },
  {
   "cell_type": "code",
   "execution_count": null,
   "metadata": {
    "execution": {
     "iopub.execute_input": "2020-11-16T18:56:03.738436Z",
     "iopub.status.busy": "2020-11-16T18:56:03.737437Z",
     "iopub.status.idle": "2020-11-16T18:56:03.743611Z",
     "shell.execute_reply": "2020-11-16T18:56:03.744269Z"
    },
    "papermill": {
     "duration": 2.021272,
     "end_time": "2020-11-16T18:56:03.744424",
     "exception": false,
     "start_time": "2020-11-16T18:56:01.723152",
     "status": "completed"
    },
    "tags": []
   },
   "outputs": [],
   "source": [
    "y_pred = clf.predict(X_val)\n",
    "y_pred"
   ]
  },
  {
   "cell_type": "markdown",
   "metadata": {
    "papermill": {
     "duration": 1.857884,
     "end_time": "2020-11-16T18:56:07.428697",
     "exception": false,
     "start_time": "2020-11-16T18:56:05.570813",
     "status": "completed"
    },
    "tags": []
   },
   "source": [
    "For metric purposes, let's look at the confusion matrix and f1-score. Accuracy in this case is absolutely not the best metric due to highly unbalanced classes. If model just guessed \"non\", or non-offensive it would be quite accurate despite being useless as \"non\" class is a big majority class."
   ]
  },
  {
   "cell_type": "code",
   "execution_count": null,
   "metadata": {
    "execution": {
     "iopub.execute_input": "2020-11-16T18:56:11.073593Z",
     "iopub.status.busy": "2020-11-16T18:56:11.072778Z",
     "iopub.status.idle": "2020-11-16T18:56:11.127446Z",
     "shell.execute_reply": "2020-11-16T18:56:11.126785Z"
    },
    "papermill": {
     "duration": 1.917111,
     "end_time": "2020-11-16T18:56:11.127561",
     "exception": false,
     "start_time": "2020-11-16T18:56:09.210450",
     "status": "completed"
    },
    "tags": []
   },
   "outputs": [],
   "source": [
    "from sklearn.metrics import confusion_matrix, f1_score, accuracy_score\n",
    "\n",
    "label_list = sorted(list(y_val.unique()))\n",
    "cm = confusion_matrix(y_val, y_pred, labels=label_list)\n",
    "x, y = np.meshgrid(range(cm.shape[0]), range(cm.shape[0]))\n",
    "\n",
    "# Convert this grid to columnar data expected by Altair\n",
    "source = pd.DataFrame({'x': x.ravel(),\n",
    "                     'y': y.ravel(),\n",
    "                     'z': cm.ravel()})\n",
    "\n",
    "for i,label in enumerate(label_list):\n",
    "    source.loc[:, \"x\"] = source.loc[:,\"x\"].replace(i, label)\n",
    "    source.loc[:, \"y\"] = source.loc[:,\"y\"].replace(i, label)\n",
    "\n",
    "\n",
    "\n",
    "base = alt.Chart(source, title=\"Confusion matrix\").encode(\n",
    "    x=alt.X(\"x:O\", axis=alt.Axis(title=\"Predicted\", titlePadding=30)),\n",
    "    y=alt.Y(\"y:O\", axis=alt.Axis(title=\"Ground truth\", titlePadding=30)),\n",
    "    color=alt.value('white')\n",
    "\n",
    ")\n",
    "\n",
    "hm = base.mark_rect(stroke='black')\n",
    "    \n",
    "text = base.mark_text(baseline='middle', size=15).encode(\n",
    "    \n",
    "    text='z:Q',\n",
    "    color=alt.value('black')\n",
    "    \n",
    ")\n",
    "\n",
    "(hm+text).properties(width=300, height=300)"
   ]
  },
  {
   "cell_type": "markdown",
   "metadata": {
    "papermill": {
     "duration": 1.752151,
     "end_time": "2020-11-16T18:56:14.613724",
     "exception": false,
     "start_time": "2020-11-16T18:56:12.861573",
     "status": "completed"
    },
    "tags": []
   },
   "source": [
    "However, what about accuracy and f1-score?"
   ]
  },
  {
   "cell_type": "code",
   "execution_count": null,
   "metadata": {
    "execution": {
     "iopub.execute_input": "2020-11-16T18:56:18.265040Z",
     "iopub.status.busy": "2020-11-16T18:56:18.264031Z",
     "iopub.status.idle": "2020-11-16T18:56:18.271276Z",
     "shell.execute_reply": "2020-11-16T18:56:18.270355Z"
    },
    "papermill": {
     "duration": 1.887875,
     "end_time": "2020-11-16T18:56:18.271417",
     "exception": false,
     "start_time": "2020-11-16T18:56:16.383542",
     "status": "completed"
    },
    "tags": []
   },
   "outputs": [],
   "source": [
    "print(\"Accuracy:\", accuracy_score(y_val, y_pred, normalize=True))\n",
    "print(\"F1:\", f1_score(y_val, y_pred, average=\"macro\"))"
   ]
  },
  {
   "cell_type": "markdown",
   "metadata": {
    "papermill": {
     "duration": 1.921285,
     "end_time": "2020-11-16T18:56:22.026634",
     "exception": false,
     "start_time": "2020-11-16T18:56:20.105349",
     "status": "completed"
    },
    "tags": []
   },
   "source": [
    "Not bad, but can be much better. However considering we used basic logistic regression, no hyperparameter optimization at all and basic features (tf-idf) this is a pretty decent result.\n",
    "\n",
    "**How can we improve it?**\n",
    "* Use BERT embeddings, as they are much richer in semantic information compared to tf-idf embeddings\n",
    "* Use a more sophisticated classifier\n",
    "* Feature selection, as tfidf vectors are huge (20k+ features, mostly 0s)\n",
    "* Normalize text before getting the embeddings."
   ]
  },
  {
   "cell_type": "markdown",
   "metadata": {
    "papermill": {
     "duration": 2.001231,
     "end_time": "2020-11-16T18:56:25.787286",
     "exception": false,
     "start_time": "2020-11-16T18:56:23.786055",
     "status": "completed"
    },
    "tags": []
   },
   "source": [
    "---\n",
    "\n",
    "### Testing model on tweets found in the wild"
   ]
  },
  {
   "cell_type": "code",
   "execution_count": null,
   "metadata": {
    "execution": {
     "iopub.execute_input": "2020-11-16T18:56:29.368835Z",
     "iopub.status.busy": "2020-11-16T18:56:29.364026Z",
     "iopub.status.idle": "2020-11-16T18:56:29.466015Z",
     "shell.execute_reply": "2020-11-16T18:56:29.465399Z"
    },
    "papermill": {
     "duration": 1.884758,
     "end_time": "2020-11-16T18:56:29.466165",
     "exception": false,
     "start_time": "2020-11-16T18:56:27.581407",
     "status": "completed"
    },
    "tags": []
   },
   "outputs": [],
   "source": [
    "tweets = [\n",
    "    \"\"\"\"Avrupa'da yollara ücret ödemeyen ancak Türkiye'de otobana 47,50 TL veren gurbetçinin isyanı; 'Ben Avrupa'yı karış karış geziyorum 1 kuruş ödemiyorum, ağlamam geldi , 1 haftada tüm dengem bozuldu. Avrupa Kapıları Açsa Herkes Kaçacak'\" \"\"\",\n",
    "    \"\"\"Araştırmalar köpeklerin #Covid_19'u yüzde 100 doğru olarak tespit ettiğini gösterince Finlandiya Helsinki Havaalanı'nda özel eğitimli Kössi ve Miina adlı #köpek'ler pilot olarak çalışmaya başladı. Umarım hayvanlara zulmedenler bu güzellikten mahrum kalır\"\"\",\n",
    "    \"\"\"Sovyet Tankları Berline girene kadar Almanlar Rusya'yı işgal ettiklerini zannediyordu. Çünkü Alman gazeteleri öyle yazıyordu.\"\"\",\n",
    "    \"\"\"Yalancıyı Eşek siksinmi Avrupada Almanya hariç bütün ülkeler paralı\"\"\",\n",
    "    \"\"\"Yarrana sıçam\"\"\",\n",
    "    \"\"\"200 liraya rakı mı olur orospu çocukları jet yakıtı mı alıyoruz\"\"\"\n",
    "]\n",
    "\n",
    "tweets_embeds = []\n",
    "for tweet in tweets:\n",
    "    d = Doc(tweet)\n",
    "    tweets_embeds.append(csr_matrix(d.tfidf_embeddings.mean(axis=0)))\n",
    "\n",
    "\n",
    "tweets_embeds = vstack(tweets_embeds)\n",
    "tweets_embeds = normalize(tweets_embeds)\n",
    "\n",
    "\n",
    "\n",
    "preds = clf.predict(tweets_embeds)\n",
    "preds"
   ]
  },
  {
   "cell_type": "code",
   "execution_count": null,
   "metadata": {
    "_kg_hide-input": true,
    "execution": {
     "iopub.execute_input": "2020-11-16T18:56:33.205471Z",
     "iopub.status.busy": "2020-11-16T18:56:33.204409Z",
     "iopub.status.idle": "2020-11-16T18:56:33.207758Z",
     "shell.execute_reply": "2020-11-16T18:56:33.207217Z"
    },
    "papermill": {
     "duration": 1.890104,
     "end_time": "2020-11-16T18:56:33.207884",
     "exception": false,
     "start_time": "2020-11-16T18:56:31.317780",
     "status": "completed"
    },
    "tags": []
   },
   "outputs": [],
   "source": [
    "cls_to_human = {\n",
    "    \"non\": \"Non-offensive\",\n",
    "    \"grp\": \"Offense towards group\",\n",
    "    \"prof\": \"Profanity\",\n",
    "    \"ind\": \"Offense towards individual\",\n",
    "    \"oth\": \"Other profanities\"\n",
    "}"
   ]
  },
  {
   "cell_type": "markdown",
   "metadata": {
    "papermill": {
     "duration": 1.825417,
     "end_time": "2020-11-16T18:56:36.803419",
     "exception": false,
     "start_time": "2020-11-16T18:56:34.978002",
     "status": "completed"
    },
    "tags": []
   },
   "source": [
    "Now, how about we test this on tweets found in the wild and see how our model will perform. 3 tweets non-offensive and 3 tweets of profanity class were picked. *Sadly, I had a hard time finding tweets of other profanity categories.*\n",
    "\n",
    "Here are the tweets (predictions with code cells above tweets and their labels, as labelled by <a style=\"color:green; font-weight:bold\">me</a>):"
   ]
  },
  {
   "cell_type": "code",
   "execution_count": null,
   "metadata": {
    "_kg_hide-input": true,
    "execution": {
     "iopub.execute_input": "2020-11-16T18:56:40.329216Z",
     "iopub.status.busy": "2020-11-16T18:56:40.327810Z",
     "iopub.status.idle": "2020-11-16T18:56:40.333642Z",
     "shell.execute_reply": "2020-11-16T18:56:40.334564Z"
    },
    "papermill": {
     "duration": 1.763786,
     "end_time": "2020-11-16T18:56:40.334787",
     "exception": false,
     "start_time": "2020-11-16T18:56:38.571001",
     "status": "completed"
    },
    "tags": []
   },
   "outputs": [],
   "source": [
    "cls_to_human[preds[0]]"
   ]
  },
  {
   "cell_type": "markdown",
   "metadata": {
    "papermill": {
     "duration": 1.719338,
     "end_time": "2020-11-16T18:56:43.924533",
     "exception": false,
     "start_time": "2020-11-16T18:56:42.205195",
     "status": "completed"
    },
    "tags": []
   },
   "source": [
    "<p style=\"background-color:#ebfcff; padding:10px; border:1px solid black; border-radius:1px\">\n",
    "<a style=\"color:green; font-weight:bold\">Non-offensive</a><br>\n",
    "\"Avrupa'da yollara ücret ödemeyen ancak Türkiye'de otobana 47,50 TL veren gurbetçinin isyanı;\n",
    "'Ben Avrupa'yı karış karış geziyorum 1 kuruş ödemiyorum, ağlamam geldi , \n",
    "1 haftada tüm dengem bozuldu. Avrupa Kapıları Açsa Herkes Kaçacak'\"\n",
    "</p>"
   ]
  },
  {
   "cell_type": "code",
   "execution_count": null,
   "metadata": {
    "_kg_hide-input": true,
    "execution": {
     "iopub.execute_input": "2020-11-16T18:56:47.536573Z",
     "iopub.status.busy": "2020-11-16T18:56:47.535655Z",
     "iopub.status.idle": "2020-11-16T18:56:47.540811Z",
     "shell.execute_reply": "2020-11-16T18:56:47.540094Z"
    },
    "papermill": {
     "duration": 1.823425,
     "end_time": "2020-11-16T18:56:47.540929",
     "exception": false,
     "start_time": "2020-11-16T18:56:45.717504",
     "status": "completed"
    },
    "tags": []
   },
   "outputs": [],
   "source": [
    "cls_to_human[preds[1]]"
   ]
  },
  {
   "cell_type": "markdown",
   "metadata": {
    "papermill": {
     "duration": 1.702224,
     "end_time": "2020-11-16T18:56:51.018441",
     "exception": false,
     "start_time": "2020-11-16T18:56:49.316217",
     "status": "completed"
    },
    "tags": []
   },
   "source": [
    "<p style=\"background-color:#ebfcff; padding:10px; border:1px solid black; border-radius:1px\">\n",
    "<a style=\"color:green; font-weight:bold\">Non-offensive</a> <br>\n",
    "    Araştırmalar köpeklerin #Covid_19'u yüzde 100 doğru olarak tespit ettiğini gösterince Finlandiya Helsinki Havaalanı'nda özel eğitimli Kössi ve Miina adlı #köpek'ler pilot olarak çalışmaya başladı. Umarım hayvanlara zulmedenler bu güzellikten mahrum kalır\n",
    "</p>\n"
   ]
  },
  {
   "cell_type": "code",
   "execution_count": null,
   "metadata": {
    "_kg_hide-input": true,
    "execution": {
     "iopub.execute_input": "2020-11-16T18:56:54.803162Z",
     "iopub.status.busy": "2020-11-16T18:56:54.802304Z",
     "iopub.status.idle": "2020-11-16T18:56:54.807601Z",
     "shell.execute_reply": "2020-11-16T18:56:54.806723Z"
    },
    "papermill": {
     "duration": 2.003465,
     "end_time": "2020-11-16T18:56:54.807744",
     "exception": false,
     "start_time": "2020-11-16T18:56:52.804279",
     "status": "completed"
    },
    "tags": []
   },
   "outputs": [],
   "source": [
    "cls_to_human[preds[2]]"
   ]
  },
  {
   "cell_type": "markdown",
   "metadata": {
    "papermill": {
     "duration": 1.914996,
     "end_time": "2020-11-16T18:56:58.504065",
     "exception": false,
     "start_time": "2020-11-16T18:56:56.589069",
     "status": "completed"
    },
    "tags": []
   },
   "source": [
    "<p style=\"background-color:#ebfcff; padding:15px; border:1px solid black; border-radius:1px\">\n",
    "<a style=\"color:green; font-weight:bold\">Non-offensive</a> <br>\n",
    "Sovyet Tankları Berline girene kadar Almanlar Rusya'yı işgal ettiklerini zannediyordu. Çünkü Alman gazeteleri öyle yazıyordu.\n",
    "</p>"
   ]
  },
  {
   "cell_type": "code",
   "execution_count": null,
   "metadata": {
    "_kg_hide-input": true,
    "execution": {
     "iopub.execute_input": "2020-11-16T18:57:02.102349Z",
     "iopub.status.busy": "2020-11-16T18:57:02.101656Z",
     "iopub.status.idle": "2020-11-16T18:57:02.108584Z",
     "shell.execute_reply": "2020-11-16T18:57:02.107931Z"
    },
    "papermill": {
     "duration": 1.823733,
     "end_time": "2020-11-16T18:57:02.108702",
     "exception": false,
     "start_time": "2020-11-16T18:57:00.284969",
     "status": "completed"
    },
    "tags": []
   },
   "outputs": [],
   "source": [
    "cls_to_human[preds[3]]"
   ]
  },
  {
   "cell_type": "markdown",
   "metadata": {
    "papermill": {
     "duration": 1.807353,
     "end_time": "2020-11-16T18:57:05.722217",
     "exception": false,
     "start_time": "2020-11-16T18:57:03.914864",
     "status": "completed"
    },
    "tags": []
   },
   "source": [
    "</p>\n",
    "<p style=\"background-color:#ffb0b0; padding:10px; border:1px solid black; border-radius:1px\">\n",
    "<a style=\"color:green; font-weight:bold\">Profanity</a><br>\n",
    "Yalancıyı Eşek siksinmi\n",
    "Avrupada Almanya hariç bütün ülkeler paralı\n",
    "</p>\n"
   ]
  },
  {
   "cell_type": "code",
   "execution_count": null,
   "metadata": {
    "_kg_hide-input": true,
    "execution": {
     "iopub.execute_input": "2020-11-16T18:57:09.216286Z",
     "iopub.status.busy": "2020-11-16T18:57:09.215488Z",
     "iopub.status.idle": "2020-11-16T18:57:09.220369Z",
     "shell.execute_reply": "2020-11-16T18:57:09.219638Z"
    },
    "papermill": {
     "duration": 1.76838,
     "end_time": "2020-11-16T18:57:09.220493",
     "exception": false,
     "start_time": "2020-11-16T18:57:07.452113",
     "status": "completed"
    },
    "tags": []
   },
   "outputs": [],
   "source": [
    "cls_to_human[preds[4]]"
   ]
  },
  {
   "cell_type": "markdown",
   "metadata": {
    "papermill": {
     "duration": 1.812556,
     "end_time": "2020-11-16T18:57:12.761036",
     "exception": false,
     "start_time": "2020-11-16T18:57:10.948480",
     "status": "completed"
    },
    "tags": []
   },
   "source": [
    "<p style=\"background-color:#ffb0b0; padding:10px; border:1px solid black; border-radius:1px\">\n",
    "<a style=\"color:green; font-weight:bold\">Profanity</a><br>\n",
    "    Yarrana sıçam\n",
    "</p>\n"
   ]
  },
  {
   "cell_type": "code",
   "execution_count": null,
   "metadata": {
    "_kg_hide-input": true,
    "execution": {
     "iopub.execute_input": "2020-11-16T18:57:16.302828Z",
     "iopub.status.busy": "2020-11-16T18:57:16.301775Z",
     "iopub.status.idle": "2020-11-16T18:57:16.306468Z",
     "shell.execute_reply": "2020-11-16T18:57:16.305805Z"
    },
    "papermill": {
     "duration": 1.788729,
     "end_time": "2020-11-16T18:57:16.306588",
     "exception": false,
     "start_time": "2020-11-16T18:57:14.517859",
     "status": "completed"
    },
    "tags": []
   },
   "outputs": [],
   "source": [
    "cls_to_human[preds[5]]"
   ]
  },
  {
   "cell_type": "markdown",
   "metadata": {
    "papermill": {
     "duration": 1.750096,
     "end_time": "2020-11-16T18:57:19.767000",
     "exception": false,
     "start_time": "2020-11-16T18:57:18.016904",
     "status": "completed"
    },
    "tags": []
   },
   "source": [
    "<p style=\"background-color:#ffb0b0; padding:10px; border:1px solid black; border-radius:1px\">\n",
    "<a style=\"color:green; font-weight:bold\">Profanity</a><br>\n",
    "200 liraya rakı mı olur orospu çocukları jet yakıtı mı alıyoruz\n",
    "</p>"
   ]
  },
  {
   "cell_type": "markdown",
   "metadata": {
    "papermill": {
     "duration": 1.851534,
     "end_time": "2020-11-16T18:57:23.430405",
     "exception": false,
     "start_time": "2020-11-16T18:57:21.578871",
     "status": "completed"
    },
    "tags": []
   },
   "source": [
    "---\n",
    "\n",
    "### References\n",
    "Turkish offensive tweets dataset: https://coltekin.github.io/offensive-turkish\n",
    "\n",
    "Sadedegel: https://sadedegel.ai\n"
   ]
  }
 ],
 "metadata": {
  "kernelspec": {
   "display_name": "Python 3",
   "language": "python",
   "name": "python3"
  },
  "language_info": {
   "codemirror_mode": {
    "name": "ipython",
    "version": 3
   },
   "file_extension": ".py",
   "mimetype": "text/x-python",
   "name": "python",
   "nbconvert_exporter": "python",
   "pygments_lexer": "ipython3",
   "version": "3.7.7"
  },
  "papermill": {
   "duration": 800.303041,
   "end_time": "2020-11-16T18:57:25.590572",
   "environment_variables": {},
   "exception": null,
   "input_path": "__notebook__.ipynb",
   "output_path": "__notebook__.ipynb",
   "parameters": {},
   "start_time": "2020-11-16T18:44:05.287531",
   "version": "2.1.0"
  },
  "widgets": {
   "application/vnd.jupyter.widget-state+json": {
    "state": {
     "0937872294424a23b2eb129d8a4dbe30": {
      "model_module": "@jupyter-widgets/controls",
      "model_module_version": "1.5.0",
      "model_name": "ProgressStyleModel",
      "state": {
       "_model_module": "@jupyter-widgets/controls",
       "_model_module_version": "1.5.0",
       "_model_name": "ProgressStyleModel",
       "_view_count": null,
       "_view_module": "@jupyter-widgets/base",
       "_view_module_version": "1.2.0",
       "_view_name": "StyleView",
       "bar_color": null,
       "description_width": "initial"
      }
     },
     "1df0096a218d438785ce9bf0201fc7ed": {
      "model_module": "@jupyter-widgets/controls",
      "model_module_version": "1.5.0",
      "model_name": "DescriptionStyleModel",
      "state": {
       "_model_module": "@jupyter-widgets/controls",
       "_model_module_version": "1.5.0",
       "_model_name": "DescriptionStyleModel",
       "_view_count": null,
       "_view_module": "@jupyter-widgets/base",
       "_view_module_version": "1.2.0",
       "_view_name": "StyleView",
       "description_width": ""
      }
     },
     "2a4d531f402b4d6a9d5ae8d35a00ac35": {
      "model_module": "@jupyter-widgets/controls",
      "model_module_version": "1.5.0",
      "model_name": "DescriptionStyleModel",
      "state": {
       "_model_module": "@jupyter-widgets/controls",
       "_model_module_version": "1.5.0",
       "_model_name": "DescriptionStyleModel",
       "_view_count": null,
       "_view_module": "@jupyter-widgets/base",
       "_view_module_version": "1.2.0",
       "_view_name": "StyleView",
       "description_width": ""
      }
     },
     "2b10e67b237842d8a900ee028c90db4f": {
      "model_module": "@jupyter-widgets/base",
      "model_module_version": "1.2.0",
      "model_name": "LayoutModel",
      "state": {
       "_model_module": "@jupyter-widgets/base",
       "_model_module_version": "1.2.0",
       "_model_name": "LayoutModel",
       "_view_count": null,
       "_view_module": "@jupyter-widgets/base",
       "_view_module_version": "1.2.0",
       "_view_name": "LayoutView",
       "align_content": null,
       "align_items": null,
       "align_self": null,
       "border": null,
       "bottom": null,
       "display": null,
       "flex": null,
       "flex_flow": null,
       "grid_area": null,
       "grid_auto_columns": null,
       "grid_auto_flow": null,
       "grid_auto_rows": null,
       "grid_column": null,
       "grid_gap": null,
       "grid_row": null,
       "grid_template_areas": null,
       "grid_template_columns": null,
       "grid_template_rows": null,
       "height": null,
       "justify_content": null,
       "justify_items": null,
       "left": null,
       "margin": null,
       "max_height": null,
       "max_width": null,
       "min_height": null,
       "min_width": null,
       "object_fit": null,
       "object_position": null,
       "order": null,
       "overflow": null,
       "overflow_x": null,
       "overflow_y": null,
       "padding": null,
       "right": null,
       "top": null,
       "visibility": null,
       "width": null
      }
     },
     "2d2a8b1a4d584c72b2e9f5a5a4cb3d9b": {
      "model_module": "@jupyter-widgets/base",
      "model_module_version": "1.2.0",
      "model_name": "LayoutModel",
      "state": {
       "_model_module": "@jupyter-widgets/base",
       "_model_module_version": "1.2.0",
       "_model_name": "LayoutModel",
       "_view_count": null,
       "_view_module": "@jupyter-widgets/base",
       "_view_module_version": "1.2.0",
       "_view_name": "LayoutView",
       "align_content": null,
       "align_items": null,
       "align_self": null,
       "border": null,
       "bottom": null,
       "display": null,
       "flex": null,
       "flex_flow": null,
       "grid_area": null,
       "grid_auto_columns": null,
       "grid_auto_flow": null,
       "grid_auto_rows": null,
       "grid_column": null,
       "grid_gap": null,
       "grid_row": null,
       "grid_template_areas": null,
       "grid_template_columns": null,
       "grid_template_rows": null,
       "height": null,
       "justify_content": null,
       "justify_items": null,
       "left": null,
       "margin": null,
       "max_height": null,
       "max_width": null,
       "min_height": null,
       "min_width": null,
       "object_fit": null,
       "object_position": null,
       "order": null,
       "overflow": null,
       "overflow_x": null,
       "overflow_y": null,
       "padding": null,
       "right": null,
       "top": null,
       "visibility": null,
       "width": null
      }
     },
     "3706620297ea46d68f1114f5a0e03fb5": {
      "model_module": "@jupyter-widgets/controls",
      "model_module_version": "1.5.0",
      "model_name": "HBoxModel",
      "state": {
       "_dom_classes": [],
       "_model_module": "@jupyter-widgets/controls",
       "_model_module_version": "1.5.0",
       "_model_name": "HBoxModel",
       "_view_count": null,
       "_view_module": "@jupyter-widgets/controls",
       "_view_module_version": "1.5.0",
       "_view_name": "HBoxView",
       "box_style": "",
       "children": [
        "IPY_MODEL_c9d74bfa757c43cf892e276a0f718b8b",
        "IPY_MODEL_c2cce77a3bda4480a7d6edb35c87bc9e"
       ],
       "layout": "IPY_MODEL_2b10e67b237842d8a900ee028c90db4f"
      }
     },
     "4147579a7f504c15ab45851f1849991e": {
      "model_module": "@jupyter-widgets/controls",
      "model_module_version": "1.5.0",
      "model_name": "DescriptionStyleModel",
      "state": {
       "_model_module": "@jupyter-widgets/controls",
       "_model_module_version": "1.5.0",
       "_model_name": "DescriptionStyleModel",
       "_view_count": null,
       "_view_module": "@jupyter-widgets/base",
       "_view_module_version": "1.2.0",
       "_view_name": "StyleView",
       "description_width": ""
      }
     },
     "510c234d33c44b47928f539950b5a16f": {
      "model_module": "@jupyter-widgets/base",
      "model_module_version": "1.2.0",
      "model_name": "LayoutModel",
      "state": {
       "_model_module": "@jupyter-widgets/base",
       "_model_module_version": "1.2.0",
       "_model_name": "LayoutModel",
       "_view_count": null,
       "_view_module": "@jupyter-widgets/base",
       "_view_module_version": "1.2.0",
       "_view_name": "LayoutView",
       "align_content": null,
       "align_items": null,
       "align_self": null,
       "border": null,
       "bottom": null,
       "display": null,
       "flex": null,
       "flex_flow": null,
       "grid_area": null,
       "grid_auto_columns": null,
       "grid_auto_flow": null,
       "grid_auto_rows": null,
       "grid_column": null,
       "grid_gap": null,
       "grid_row": null,
       "grid_template_areas": null,
       "grid_template_columns": null,
       "grid_template_rows": null,
       "height": null,
       "justify_content": null,
       "justify_items": null,
       "left": null,
       "margin": null,
       "max_height": null,
       "max_width": null,
       "min_height": null,
       "min_width": null,
       "object_fit": null,
       "object_position": null,
       "order": null,
       "overflow": null,
       "overflow_x": null,
       "overflow_y": null,
       "padding": null,
       "right": null,
       "top": null,
       "visibility": null,
       "width": null
      }
     },
     "518598da51504947afc49a55e29383d4": {
      "model_module": "@jupyter-widgets/controls",
      "model_module_version": "1.5.0",
      "model_name": "HTMLModel",
      "state": {
       "_dom_classes": [],
       "_model_module": "@jupyter-widgets/controls",
       "_model_module_version": "1.5.0",
       "_model_name": "HTMLModel",
       "_view_count": null,
       "_view_module": "@jupyter-widgets/controls",
       "_view_module_version": "1.5.0",
       "_view_name": "HTMLView",
       "description": "",
       "description_tooltip": null,
       "layout": "IPY_MODEL_8d85b98932a345838c396b4cfd6c587f",
       "placeholder": "​",
       "style": "IPY_MODEL_4147579a7f504c15ab45851f1849991e",
       "value": " 60.0/60.0 [00:00&lt;00:00, 105B/s]"
      }
     },
     "602bc845912f43baa38b0de22ac19dec": {
      "model_module": "@jupyter-widgets/base",
      "model_module_version": "1.2.0",
      "model_name": "LayoutModel",
      "state": {
       "_model_module": "@jupyter-widgets/base",
       "_model_module_version": "1.2.0",
       "_model_name": "LayoutModel",
       "_view_count": null,
       "_view_module": "@jupyter-widgets/base",
       "_view_module_version": "1.2.0",
       "_view_name": "LayoutView",
       "align_content": null,
       "align_items": null,
       "align_self": null,
       "border": null,
       "bottom": null,
       "display": null,
       "flex": null,
       "flex_flow": null,
       "grid_area": null,
       "grid_auto_columns": null,
       "grid_auto_flow": null,
       "grid_auto_rows": null,
       "grid_column": null,
       "grid_gap": null,
       "grid_row": null,
       "grid_template_areas": null,
       "grid_template_columns": null,
       "grid_template_rows": null,
       "height": null,
       "justify_content": null,
       "justify_items": null,
       "left": null,
       "margin": null,
       "max_height": null,
       "max_width": null,
       "min_height": null,
       "min_width": null,
       "object_fit": null,
       "object_position": null,
       "order": null,
       "overflow": null,
       "overflow_x": null,
       "overflow_y": null,
       "padding": null,
       "right": null,
       "top": null,
       "visibility": null,
       "width": null
      }
     },
     "6c7283f6f4fd4f5582dbfdb28bd30f24": {
      "model_module": "@jupyter-widgets/controls",
      "model_module_version": "1.5.0",
      "model_name": "ProgressStyleModel",
      "state": {
       "_model_module": "@jupyter-widgets/controls",
       "_model_module_version": "1.5.0",
       "_model_name": "ProgressStyleModel",
       "_view_count": null,
       "_view_module": "@jupyter-widgets/base",
       "_view_module_version": "1.2.0",
       "_view_name": "StyleView",
       "bar_color": null,
       "description_width": "initial"
      }
     },
     "8d85b98932a345838c396b4cfd6c587f": {
      "model_module": "@jupyter-widgets/base",
      "model_module_version": "1.2.0",
      "model_name": "LayoutModel",
      "state": {
       "_model_module": "@jupyter-widgets/base",
       "_model_module_version": "1.2.0",
       "_model_name": "LayoutModel",
       "_view_count": null,
       "_view_module": "@jupyter-widgets/base",
       "_view_module_version": "1.2.0",
       "_view_name": "LayoutView",
       "align_content": null,
       "align_items": null,
       "align_self": null,
       "border": null,
       "bottom": null,
       "display": null,
       "flex": null,
       "flex_flow": null,
       "grid_area": null,
       "grid_auto_columns": null,
       "grid_auto_flow": null,
       "grid_auto_rows": null,
       "grid_column": null,
       "grid_gap": null,
       "grid_row": null,
       "grid_template_areas": null,
       "grid_template_columns": null,
       "grid_template_rows": null,
       "height": null,
       "justify_content": null,
       "justify_items": null,
       "left": null,
       "margin": null,
       "max_height": null,
       "max_width": null,
       "min_height": null,
       "min_width": null,
       "object_fit": null,
       "object_position": null,
       "order": null,
       "overflow": null,
       "overflow_x": null,
       "overflow_y": null,
       "padding": null,
       "right": null,
       "top": null,
       "visibility": null,
       "width": null
      }
     },
     "9fa2a34944c240388a38f65f5c055034": {
      "model_module": "@jupyter-widgets/base",
      "model_module_version": "1.2.0",
      "model_name": "LayoutModel",
      "state": {
       "_model_module": "@jupyter-widgets/base",
       "_model_module_version": "1.2.0",
       "_model_name": "LayoutModel",
       "_view_count": null,
       "_view_module": "@jupyter-widgets/base",
       "_view_module_version": "1.2.0",
       "_view_name": "LayoutView",
       "align_content": null,
       "align_items": null,
       "align_self": null,
       "border": null,
       "bottom": null,
       "display": null,
       "flex": null,
       "flex_flow": null,
       "grid_area": null,
       "grid_auto_columns": null,
       "grid_auto_flow": null,
       "grid_auto_rows": null,
       "grid_column": null,
       "grid_gap": null,
       "grid_row": null,
       "grid_template_areas": null,
       "grid_template_columns": null,
       "grid_template_rows": null,
       "height": null,
       "justify_content": null,
       "justify_items": null,
       "left": null,
       "margin": null,
       "max_height": null,
       "max_width": null,
       "min_height": null,
       "min_width": null,
       "object_fit": null,
       "object_position": null,
       "order": null,
       "overflow": null,
       "overflow_x": null,
       "overflow_y": null,
       "padding": null,
       "right": null,
       "top": null,
       "visibility": null,
       "width": null
      }
     },
     "aa021dd5e712458d909879511ca9f47c": {
      "model_module": "@jupyter-widgets/controls",
      "model_module_version": "1.5.0",
      "model_name": "HBoxModel",
      "state": {
       "_dom_classes": [],
       "_model_module": "@jupyter-widgets/controls",
       "_model_module_version": "1.5.0",
       "_model_name": "HBoxModel",
       "_view_count": null,
       "_view_module": "@jupyter-widgets/controls",
       "_view_module_version": "1.5.0",
       "_view_name": "HBoxView",
       "box_style": "",
       "children": [
        "IPY_MODEL_ed02778d31d04ba7832c78d3ac815ed7",
        "IPY_MODEL_518598da51504947afc49a55e29383d4"
       ],
       "layout": "IPY_MODEL_f74e733059f44769a2b0b7e988b605a4"
      }
     },
     "bef10ab669d9488d870ba4a50de58f0e": {
      "model_module": "@jupyter-widgets/controls",
      "model_module_version": "1.5.0",
      "model_name": "HTMLModel",
      "state": {
       "_dom_classes": [],
       "_model_module": "@jupyter-widgets/controls",
       "_model_module_version": "1.5.0",
       "_model_name": "HTMLModel",
       "_view_count": null,
       "_view_module": "@jupyter-widgets/controls",
       "_view_module_version": "1.5.0",
       "_view_name": "HTMLView",
       "description": "",
       "description_tooltip": null,
       "layout": "IPY_MODEL_e8edc0ffa01c4405bf9afe1e358b8679",
       "placeholder": "​",
       "style": "IPY_MODEL_1df0096a218d438785ce9bf0201fc7ed",
       "value": " 385/385 [00:00&lt;00:00, 12.0kB/s]"
      }
     },
     "c15fc47771c74a438ee2b6bf61a9e462": {
      "model_module": "@jupyter-widgets/controls",
      "model_module_version": "1.5.0",
      "model_name": "ProgressStyleModel",
      "state": {
       "_model_module": "@jupyter-widgets/controls",
       "_model_module_version": "1.5.0",
       "_model_name": "ProgressStyleModel",
       "_view_count": null,
       "_view_module": "@jupyter-widgets/base",
       "_view_module_version": "1.2.0",
       "_view_name": "StyleView",
       "bar_color": null,
       "description_width": "initial"
      }
     },
     "c2cce77a3bda4480a7d6edb35c87bc9e": {
      "model_module": "@jupyter-widgets/controls",
      "model_module_version": "1.5.0",
      "model_name": "HTMLModel",
      "state": {
       "_dom_classes": [],
       "_model_module": "@jupyter-widgets/controls",
       "_model_module_version": "1.5.0",
       "_model_name": "HTMLModel",
       "_view_count": null,
       "_view_module": "@jupyter-widgets/controls",
       "_view_module_version": "1.5.0",
       "_view_name": "HTMLView",
       "description": "",
       "description_tooltip": null,
       "layout": "IPY_MODEL_510c234d33c44b47928f539950b5a16f",
       "placeholder": "​",
       "style": "IPY_MODEL_2a4d531f402b4d6a9d5ae8d35a00ac35",
       "value": " 251k/251k [00:02&lt;00:00, 112kB/s]"
      }
     },
     "c449b1765d7d4a6ba3721aad96caf7b2": {
      "model_module": "@jupyter-widgets/controls",
      "model_module_version": "1.5.0",
      "model_name": "HBoxModel",
      "state": {
       "_dom_classes": [],
       "_model_module": "@jupyter-widgets/controls",
       "_model_module_version": "1.5.0",
       "_model_name": "HBoxModel",
       "_view_count": null,
       "_view_module": "@jupyter-widgets/controls",
       "_view_module_version": "1.5.0",
       "_view_name": "HBoxView",
       "box_style": "",
       "children": [
        "IPY_MODEL_d49d0cbcef424f19b5cdb301bf1796c8",
        "IPY_MODEL_bef10ab669d9488d870ba4a50de58f0e"
       ],
       "layout": "IPY_MODEL_2d2a8b1a4d584c72b2e9f5a5a4cb3d9b"
      }
     },
     "c9d74bfa757c43cf892e276a0f718b8b": {
      "model_module": "@jupyter-widgets/controls",
      "model_module_version": "1.5.0",
      "model_name": "FloatProgressModel",
      "state": {
       "_dom_classes": [],
       "_model_module": "@jupyter-widgets/controls",
       "_model_module_version": "1.5.0",
       "_model_name": "FloatProgressModel",
       "_view_count": null,
       "_view_module": "@jupyter-widgets/controls",
       "_view_module_version": "1.5.0",
       "_view_name": "ProgressView",
       "bar_style": "success",
       "description": "Downloading: 100%",
       "description_tooltip": null,
       "layout": "IPY_MODEL_602bc845912f43baa38b0de22ac19dec",
       "max": 251003,
       "min": 0,
       "orientation": "horizontal",
       "style": "IPY_MODEL_c15fc47771c74a438ee2b6bf61a9e462",
       "value": 251003
      }
     },
     "d49d0cbcef424f19b5cdb301bf1796c8": {
      "model_module": "@jupyter-widgets/controls",
      "model_module_version": "1.5.0",
      "model_name": "FloatProgressModel",
      "state": {
       "_dom_classes": [],
       "_model_module": "@jupyter-widgets/controls",
       "_model_module_version": "1.5.0",
       "_model_name": "FloatProgressModel",
       "_view_count": null,
       "_view_module": "@jupyter-widgets/controls",
       "_view_module_version": "1.5.0",
       "_view_name": "ProgressView",
       "bar_style": "success",
       "description": "Downloading: 100%",
       "description_tooltip": null,
       "layout": "IPY_MODEL_9fa2a34944c240388a38f65f5c055034",
       "max": 385,
       "min": 0,
       "orientation": "horizontal",
       "style": "IPY_MODEL_6c7283f6f4fd4f5582dbfdb28bd30f24",
       "value": 385
      }
     },
     "d5a36acf40124672adf816085cdebf05": {
      "model_module": "@jupyter-widgets/base",
      "model_module_version": "1.2.0",
      "model_name": "LayoutModel",
      "state": {
       "_model_module": "@jupyter-widgets/base",
       "_model_module_version": "1.2.0",
       "_model_name": "LayoutModel",
       "_view_count": null,
       "_view_module": "@jupyter-widgets/base",
       "_view_module_version": "1.2.0",
       "_view_name": "LayoutView",
       "align_content": null,
       "align_items": null,
       "align_self": null,
       "border": null,
       "bottom": null,
       "display": null,
       "flex": null,
       "flex_flow": null,
       "grid_area": null,
       "grid_auto_columns": null,
       "grid_auto_flow": null,
       "grid_auto_rows": null,
       "grid_column": null,
       "grid_gap": null,
       "grid_row": null,
       "grid_template_areas": null,
       "grid_template_columns": null,
       "grid_template_rows": null,
       "height": null,
       "justify_content": null,
       "justify_items": null,
       "left": null,
       "margin": null,
       "max_height": null,
       "max_width": null,
       "min_height": null,
       "min_width": null,
       "object_fit": null,
       "object_position": null,
       "order": null,
       "overflow": null,
       "overflow_x": null,
       "overflow_y": null,
       "padding": null,
       "right": null,
       "top": null,
       "visibility": null,
       "width": null
      }
     },
     "e8edc0ffa01c4405bf9afe1e358b8679": {
      "model_module": "@jupyter-widgets/base",
      "model_module_version": "1.2.0",
      "model_name": "LayoutModel",
      "state": {
       "_model_module": "@jupyter-widgets/base",
       "_model_module_version": "1.2.0",
       "_model_name": "LayoutModel",
       "_view_count": null,
       "_view_module": "@jupyter-widgets/base",
       "_view_module_version": "1.2.0",
       "_view_name": "LayoutView",
       "align_content": null,
       "align_items": null,
       "align_self": null,
       "border": null,
       "bottom": null,
       "display": null,
       "flex": null,
       "flex_flow": null,
       "grid_area": null,
       "grid_auto_columns": null,
       "grid_auto_flow": null,
       "grid_auto_rows": null,
       "grid_column": null,
       "grid_gap": null,
       "grid_row": null,
       "grid_template_areas": null,
       "grid_template_columns": null,
       "grid_template_rows": null,
       "height": null,
       "justify_content": null,
       "justify_items": null,
       "left": null,
       "margin": null,
       "max_height": null,
       "max_width": null,
       "min_height": null,
       "min_width": null,
       "object_fit": null,
       "object_position": null,
       "order": null,
       "overflow": null,
       "overflow_x": null,
       "overflow_y": null,
       "padding": null,
       "right": null,
       "top": null,
       "visibility": null,
       "width": null
      }
     },
     "ed02778d31d04ba7832c78d3ac815ed7": {
      "model_module": "@jupyter-widgets/controls",
      "model_module_version": "1.5.0",
      "model_name": "FloatProgressModel",
      "state": {
       "_dom_classes": [],
       "_model_module": "@jupyter-widgets/controls",
       "_model_module_version": "1.5.0",
       "_model_name": "FloatProgressModel",
       "_view_count": null,
       "_view_module": "@jupyter-widgets/controls",
       "_view_module_version": "1.5.0",
       "_view_name": "ProgressView",
       "bar_style": "success",
       "description": "Downloading: 100%",
       "description_tooltip": null,
       "layout": "IPY_MODEL_d5a36acf40124672adf816085cdebf05",
       "max": 60,
       "min": 0,
       "orientation": "horizontal",
       "style": "IPY_MODEL_0937872294424a23b2eb129d8a4dbe30",
       "value": 60
      }
     },
     "f74e733059f44769a2b0b7e988b605a4": {
      "model_module": "@jupyter-widgets/base",
      "model_module_version": "1.2.0",
      "model_name": "LayoutModel",
      "state": {
       "_model_module": "@jupyter-widgets/base",
       "_model_module_version": "1.2.0",
       "_model_name": "LayoutModel",
       "_view_count": null,
       "_view_module": "@jupyter-widgets/base",
       "_view_module_version": "1.2.0",
       "_view_name": "LayoutView",
       "align_content": null,
       "align_items": null,
       "align_self": null,
       "border": null,
       "bottom": null,
       "display": null,
       "flex": null,
       "flex_flow": null,
       "grid_area": null,
       "grid_auto_columns": null,
       "grid_auto_flow": null,
       "grid_auto_rows": null,
       "grid_column": null,
       "grid_gap": null,
       "grid_row": null,
       "grid_template_areas": null,
       "grid_template_columns": null,
       "grid_template_rows": null,
       "height": null,
       "justify_content": null,
       "justify_items": null,
       "left": null,
       "margin": null,
       "max_height": null,
       "max_width": null,
       "min_height": null,
       "min_width": null,
       "object_fit": null,
       "object_position": null,
       "order": null,
       "overflow": null,
       "overflow_x": null,
       "overflow_y": null,
       "padding": null,
       "right": null,
       "top": null,
       "visibility": null,
       "width": null
      }
     }
    },
    "version_major": 2,
    "version_minor": 0
   }
  }
 },
 "nbformat": 4,
 "nbformat_minor": 4
}
