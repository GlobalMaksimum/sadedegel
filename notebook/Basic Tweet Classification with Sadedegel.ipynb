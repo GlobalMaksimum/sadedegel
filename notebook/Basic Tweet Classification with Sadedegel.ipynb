{
 "cells": [
  {
   "attachments": {
    "logo-2.png": {
     "image/png": "[encoded data removed]"
    }
   },
   "cell_type": "markdown",
   "metadata": {
    "papermill": {
     "duration": 0.027257,
     "end_time": "2020-11-16T18:44:10.357209",
     "exception": false,
     "start_time": "2020-11-16T18:44:10.329952",
     "status": "completed"
    },
    "tags": []
   },
   "source": [
    "![logo-2.png](attachment:logo-2.png)"
   ]
  },
  {
   "cell_type": "markdown",
   "metadata": {
    "papermill": {
     "duration": 0.026477,
     "end_time": "2020-11-16T18:44:10.410477",
     "exception": false,
     "start_time": "2020-11-16T18:44:10.384000",
     "status": "completed"
    },
    "tags": []
   },
   "source": [
    "## Offensive Turkish Tweets Classification\n",
    "### with Sadedegel and Sklearn\n",
    "#### by Askar Bozcan\n",
    "\n",
    "#### Requirements: Altair for visualizations and Offensive Tweets dataset at https://coltekin.github.io/offensive-turkish"
   ]
  },
  {
   "cell_type": "markdown",
   "metadata": {
    "papermill": {
     "duration": 0.02726,
     "end_time": "2020-11-16T18:44:10.465763",
     "exception": false,
     "start_time": "2020-11-16T18:44:10.438503",
     "status": "completed"
    },
    "tags": []
   },
   "source": [
    "*A small disclaimer: The data at hand contains offensive content. Opinions presented in the tweets are those of their users and not Sadedegel team.*\n",
    "\n",
    "---"
   ]
  },
  {
   "cell_type": "code",
   "execution_count": 1,
   "metadata": {
    "_kg_hide-output": true,
    "execution": {
     "iopub.execute_input": "2020-11-16T18:44:10.528109Z",
     "iopub.status.busy": "2020-11-16T18:44:10.527342Z",
     "iopub.status.idle": "2020-11-16T18:46:19.719028Z",
     "shell.execute_reply": "2020-11-16T18:46:19.718348Z"
    },
    "papermill": {
     "duration": 129.226747,
     "end_time": "2020-11-16T18:46:19.719187",
     "exception": false,
     "start_time": "2020-11-16T18:44:10.492440",
     "status": "completed"
    },
    "tags": []
   },
   "outputs": [
    {
     "name": "stdout",
     "output_type": "stream",
     "text": [
      "Collecting sadedegel\r\n",
      "  Downloading sadedegel-0.15.2.2-py3-none-any.whl (2.7 MB)\r\n",
      "\u001b[K     |████████████████████████████████| 2.7 MB 929 kB/s \r\n",
      "\u001b[?25hCollecting uvicorn==0.11.8\r\n",
      "  Downloading uvicorn-0.11.8-py3-none-any.whl (43 kB)\r\n",
      "\u001b[K     |████████████████████████████████| 43 kB 937 kB/s \r\n",
      "\u001b[?25hRequirement already satisfied: networkx==2.4 in /opt/conda/lib/python3.7/site-packages (from sadedegel) (2.4)\r\n",
      "Collecting click==7.1.2\r\n",
      "  Downloading click-7.1.2-py2.py3-none-any.whl (82 kB)\r\n",
      "\u001b[K     |████████████████████████████████| 82 kB 559 kB/s \r\n",
      "\u001b[?25hCollecting fastapi==0.61.0\r\n",
      "  Downloading fastapi-0.61.0-py3-none-any.whl (48 kB)\r\n",
      "\u001b[K     |████████████████████████████████| 48 kB 2.3 MB/s \r\n",
      "\u001b[?25hCollecting nltk==3.5\r\n",
      "  Downloading nltk-3.5.zip (1.4 MB)\r\n",
      "\u001b[K     |████████████████████████████████| 1.4 MB 5.8 MB/s \r\n",
      "\u001b[?25hCollecting transformers==3.0.0\r\n",
      "  Downloading transformers-3.0.0-py3-none-any.whl (754 kB)\r\n",
      "\u001b[K     |████████████████████████████████| 754 kB 7.5 MB/s \r\n",
      "\u001b[?25hCollecting tqdm==4.48.2\r\n",
      "  Downloading tqdm-4.48.2-py2.py3-none-any.whl (68 kB)\r\n",
      "\u001b[K     |████████████████████████████████| 68 kB 2.4 MB/s \r\n",
      "\u001b[?25hCollecting scikit-learn==0.23.1\r\n",
      "  Downloading scikit_learn-0.23.1-cp37-cp37m-manylinux1_x86_64.whl (6.8 MB)\r\n",
      "\u001b[K     |████████████████████████████████| 6.8 MB 7.2 MB/s \r\n",
      "\u001b[?25hCollecting smart-open==2.1.0\r\n",
      "  Downloading smart_open-2.1.0.tar.gz (116 kB)\r\n",
      "\u001b[K     |████████████████████████████████| 116 kB 14.7 MB/s \r\n",
      "\u001b[?25hRequirement already satisfied: tabulate==0.8.7 in /opt/conda/lib/python3.7/site-packages (from sadedegel) (0.8.7)\r\n",
      "Collecting torch==1.5.1\r\n",
      "  Downloading torch-1.5.1-cp37-cp37m-manylinux1_x86_64.whl (753.2 MB)\r\n",
      "\u001b[K     |████████████████████████████████| 753.2 MB 7.0 kB/s \r\n",
      "\u001b[?25hCollecting loguru==0.5.1\r\n",
      "  Downloading loguru-0.5.1-py3-none-any.whl (56 kB)\r\n",
      "\u001b[K     |████████████████████████████████| 56 kB 2.6 MB/s \r\n",
      "\u001b[?25hCollecting websockets==8.*\r\n",
      "  Downloading websockets-8.1-cp37-cp37m-manylinux2010_x86_64.whl (79 kB)\r\n",
      "\u001b[K     |████████████████████████████████| 79 kB 4.0 MB/s \r\n",
      "\u001b[?25hCollecting httptools==0.1.*; sys_platform != \"win32\" and sys_platform != \"cygwin\" and platform_python_implementation != \"PyPy\"\r\n",
      "  Downloading httptools-0.1.1-cp37-cp37m-manylinux1_x86_64.whl (217 kB)\r\n",
      "\u001b[K     |████████████████████████████████| 217 kB 57.5 MB/s \r\n",
      "\u001b[?25hCollecting uvloop>=0.14.0; sys_platform != \"win32\" and sys_platform != \"cygwin\" and platform_python_implementation != \"PyPy\"\r\n",
      "  Downloading uvloop-0.14.0-cp37-cp37m-manylinux2010_x86_64.whl (3.8 MB)\r\n",
      "\u001b[K     |████████████████████████████████| 3.8 MB 48.4 MB/s \r\n",
      "\u001b[?25hCollecting h11<0.10,>=0.8\r\n",
      "  Downloading h11-0.9.0-py2.py3-none-any.whl (53 kB)\r\n",
      "\u001b[K     |████████████████████████████████| 53 kB 975 kB/s \r\n",
      "\u001b[?25hRequirement already satisfied: decorator>=4.3.0 in /opt/conda/lib/python3.7/site-packages (from networkx==2.4->sadedegel) (4.4.2)\r\n",
      "Collecting starlette==0.13.6\r\n",
      "  Downloading starlette-0.13.6-py3-none-any.whl (59 kB)\r\n",
      "\u001b[K     |████████████████████████████████| 59 kB 3.5 MB/s \r\n",
      "\u001b[?25hCollecting pydantic<2.0.0,>=1.0.0\r\n",
      "  Downloading pydantic-1.7.2-cp37-cp37m-manylinux2014_x86_64.whl (9.1 MB)\r\n",
      "\u001b[K     |████████████████████████████████| 9.1 MB 64.6 MB/s \r\n",
      "\u001b[?25hRequirement already satisfied: joblib in /opt/conda/lib/python3.7/site-packages (from nltk==3.5->sadedegel) (0.14.1)\r\n",
      "Requirement already satisfied: regex in /opt/conda/lib/python3.7/site-packages (from nltk==3.5->sadedegel) (2020.4.4)\r\n",
      "Collecting tokenizers==0.8.0-rc4\r\n",
      "  Downloading tokenizers-0.8.0rc4-cp37-cp37m-manylinux1_x86_64.whl (3.0 MB)\r\n",
      "\u001b[K     |████████████████████████████████| 3.0 MB 39.2 MB/s \r\n",
      "\u001b[?25hRequirement already satisfied: requests in /opt/conda/lib/python3.7/site-packages (from transformers==3.0.0->sadedegel) (2.23.0)\r\n",
      "Requirement already satisfied: numpy in /opt/conda/lib/python3.7/site-packages (from transformers==3.0.0->sadedegel) (1.18.5)\r\n",
      "Requirement already satisfied: packaging in /opt/conda/lib/python3.7/site-packages (from transformers==3.0.0->sadedegel) (20.1)\r\n",
      "Requirement already satisfied: sentencepiece in /opt/conda/lib/python3.7/site-packages (from transformers==3.0.0->sadedegel) (0.1.94)\r\n",
      "Requirement already satisfied: sacremoses in /opt/conda/lib/python3.7/site-packages (from transformers==3.0.0->sadedegel) (0.0.43)\r\n",
      "Requirement already satisfied: filelock in /opt/conda/lib/python3.7/site-packages (from transformers==3.0.0->sadedegel) (3.0.10)\r\n",
      "Requirement already satisfied: scipy>=0.19.1 in /opt/conda/lib/python3.7/site-packages (from scikit-learn==0.23.1->sadedegel) (1.4.1)\r\n",
      "Requirement already satisfied: threadpoolctl>=2.0.0 in /opt/conda/lib/python3.7/site-packages (from scikit-learn==0.23.1->sadedegel) (2.1.0)\r\n",
      "Requirement already satisfied: boto in /opt/conda/lib/python3.7/site-packages (from smart-open==2.1.0->sadedegel) (2.49.0)\r\n",
      "Requirement already satisfied: boto3 in /opt/conda/lib/python3.7/site-packages (from smart-open==2.1.0->sadedegel) (1.16.8)\r\n",
      "Requirement already satisfied: future in /opt/conda/lib/python3.7/site-packages (from torch==1.5.1->sadedegel) (0.18.2)\r\n",
      "Requirement already satisfied: chardet<4,>=3.0.2 in /opt/conda/lib/python3.7/site-packages (from requests->transformers==3.0.0->sadedegel) (3.0.4)\r\n",
      "Requirement already satisfied: certifi>=2017.4.17 in /opt/conda/lib/python3.7/site-packages (from requests->transformers==3.0.0->sadedegel) (2020.6.20)\r\n",
      "Requirement already satisfied: urllib3!=1.25.0,!=1.25.1,<1.26,>=1.21.1 in /opt/conda/lib/python3.7/site-packages (from requests->transformers==3.0.0->sadedegel) (1.25.9)\r\n",
      "Requirement already satisfied: idna<3,>=2.5 in /opt/conda/lib/python3.7/site-packages (from requests->transformers==3.0.0->sadedegel) (2.9)\r\n",
      "Requirement already satisfied: six in /opt/conda/lib/python3.7/site-packages (from packaging->transformers==3.0.0->sadedegel) (1.14.0)\r\n",
      "Requirement already satisfied: pyparsing>=2.0.2 in /opt/conda/lib/python3.7/site-packages (from packaging->transformers==3.0.0->sadedegel) (2.4.7)\r\n",
      "Requirement already satisfied: botocore<1.20.0,>=1.19.8 in /opt/conda/lib/python3.7/site-packages (from boto3->smart-open==2.1.0->sadedegel) (1.19.8)\r\n",
      "Requirement already satisfied: jmespath<1.0.0,>=0.7.1 in /opt/conda/lib/python3.7/site-packages (from boto3->smart-open==2.1.0->sadedegel) (0.10.0)\r\n",
      "Requirement already satisfied: s3transfer<0.4.0,>=0.3.0 in /opt/conda/lib/python3.7/site-packages (from boto3->smart-open==2.1.0->sadedegel) (0.3.3)\r\n",
      "Requirement already satisfied: python-dateutil<3.0.0,>=2.1 in /opt/conda/lib/python3.7/site-packages (from botocore<1.20.0,>=1.19.8->boto3->smart-open==2.1.0->sadedegel) (2.8.1)\r\n",
      "Building wheels for collected packages: nltk, smart-open\r\n",
      "  Building wheel for nltk (setup.py) ... \u001b[?25l-\b \b\\\b \b|\b \b/\b \b-\b \b\\\b \bdone\r\n",
      "\u001b[?25h  Created wheel for nltk: filename=nltk-3.5-py3-none-any.whl size=1434678 sha256=95546936b07062dcc2e11a9400a40500920c4e0bbf6b6bdd4cce207f0ca067c1\r\n",
      "  Stored in directory: /root/.cache/pip/wheels/45/6c/46/a1865e7ba706b3817f5d1b2ff7ce8996aabdd0d03d47ba0266\r\n",
      "  Building wheel for smart-open (setup.py) ... \u001b[?25l-\b \b\\\b \bdone\r\n",
      "\u001b[?25h  Created wheel for smart-open: filename=smart_open-2.1.0-py3-none-any.whl size=110317 sha256=8e5905a2347893fa04e16ebd09d42fd9221741a252b376b2ac30c8f05ebed94b\r\n",
      "  Stored in directory: /root/.cache/pip/wheels/56/b5/6d/86dbe4f29d4688e5163a8b8c6b740494310040286fca4dc648\r\n",
      "Successfully built nltk smart-open\r\n",
      "Installing collected packages: websockets, httptools, uvloop, click, h11, uvicorn, starlette, pydantic, fastapi, tqdm, nltk, tokenizers, transformers, scikit-learn, smart-open, torch, loguru, sadedegel\r\n",
      "  Attempting uninstall: click\r\n",
      "    Found existing installation: click 7.1.1\r\n",
      "    Uninstalling click-7.1.1:\r\n",
      "      Successfully uninstalled click-7.1.1\r\n",
      "  Attempting uninstall: tqdm\r\n",
      "    Found existing installation: tqdm 4.45.0\r\n",
      "    Uninstalling tqdm-4.45.0:\r\n",
      "      Successfully uninstalled tqdm-4.45.0\r\n",
      "  Attempting uninstall: nltk\r\n",
      "    Found existing installation: nltk 3.2.4\r\n",
      "    Uninstalling nltk-3.2.4:\r\n",
      "      Successfully uninstalled nltk-3.2.4\r\n",
      "  Attempting uninstall: tokenizers\r\n",
      "    Found existing installation: tokenizers 0.9.2\r\n",
      "    Uninstalling tokenizers-0.9.2:\r\n",
      "      Successfully uninstalled tokenizers-0.9.2\r\n",
      "  Attempting uninstall: transformers\r\n",
      "    Found existing installation: transformers 3.4.0\r\n",
      "    Uninstalling transformers-3.4.0:\r\n",
      "      Successfully uninstalled transformers-3.4.0\r\n",
      "  Attempting uninstall: scikit-learn\r\n",
      "    Found existing installation: scikit-learn 0.23.2\r\n",
      "    Uninstalling scikit-learn-0.23.2:\r\n",
      "      Successfully uninstalled scikit-learn-0.23.2\r\n",
      "  Attempting uninstall: smart-open\r\n",
      "    Found existing installation: smart-open 3.0.0\r\n",
      "    Uninstalling smart-open-3.0.0:\r\n",
      "      Successfully uninstalled smart-open-3.0.0\r\n",
      "  Attempting uninstall: torch\r\n",
      "    Found existing installation: torch 1.6.0\r\n",
      "    Uninstalling torch-1.6.0:\r\n",
      "      Successfully uninstalled torch-1.6.0\r\n",
      "\u001b[31mERROR: After October 2020 you may experience errors when installing or updating packages. This is because pip will change the way that it resolves dependency conflicts.\r\n",
      "\r\n",
      "We recommend you use --use-feature=2020-resolver to test your packages with the new resolver before it becomes the default.\r\n",
      "\r\n",
      "preprocessing 0.1.13 requires nltk==3.2.4, but you'll have nltk 3.5 which is incompatible.\r\n",
      "kornia 0.4.1 requires torch>=1.6.0, but you'll have torch 1.5.1 which is incompatible.\r\n",
      "kmeans-smote 0.1.2 requires imbalanced-learn<0.5,>=0.4.0, but you'll have imbalanced-learn 0.7.0 which is incompatible.\r\n",
      "kmeans-smote 0.1.2 requires numpy<1.16,>=1.13, but you'll have numpy 1.18.5 which is incompatible.\r\n",
      "kmeans-smote 0.1.2 requires scikit-learn<0.21,>=0.19.0, but you'll have scikit-learn 0.23.1 which is incompatible.\r\n",
      "fastai 2.0.18 requires torch<1.7,>=1.6, but you'll have torch 1.5.1 which is incompatible.\r\n",
      "dask-xgboost 0.1.11 requires xgboost<=0.90, but you'll have xgboost 1.2.1 which is incompatible.\r\n",
      "allennlp 1.2.0 requires torch<1.8.0,>=1.6.0, but you'll have torch 1.5.1 which is incompatible.\r\n",
      "allennlp 1.2.0 requires transformers<3.5,>=3.1, but you'll have transformers 3.0.0 which is incompatible.\u001b[0m\r\n",
      "Successfully installed click-7.1.2 fastapi-0.61.0 h11-0.9.0 httptools-0.1.1 loguru-0.5.1 nltk-3.5 pydantic-1.7.2 sadedegel-0.15.2.2 scikit-learn-0.23.1 smart-open-2.1.0 starlette-0.13.6 tokenizers-0.8.0rc4 torch-1.5.1 tqdm-4.48.2 transformers-3.0.0 uvicorn-0.11.8 uvloop-0.14.0 websockets-8.1\r\n"
     ]
    },
    {
     "name": "stderr",
     "output_type": "stream",
     "text": [
      "\u001b[34m\u001b[1mwandb\u001b[0m: \u001b[33mWARNING\u001b[0m W&B installed but not logged in.  Run `wandb login` or set the WANDB_API_KEY env variable.\n"
     ]
    },
    {
     "data": {
      "application/vnd.jupyter.widget-view+json": {
       "model_id": "c449b1765d7d4a6ba3721aad96caf7b2",
       "version_major": 2,
       "version_minor": 0
      },
      "text/plain": [
       "HBox(children=(FloatProgress(value=0.0, description='Downloading', max=385.0, style=ProgressStyle(description_…"
      ]
     },
     "metadata": {},
     "output_type": "display_data"
    },
    {
     "name": "stdout",
     "output_type": "stream",
     "text": [
      "\n"
     ]
    },
    {
     "data": {
      "application/vnd.jupyter.widget-view+json": {
       "model_id": "3706620297ea46d68f1114f5a0e03fb5",
       "version_major": 2,
       "version_minor": 0
      },
      "text/plain": [
       "HBox(children=(FloatProgress(value=0.0, description='Downloading', max=251003.0, style=ProgressStyle(descripti…"
      ]
     },
     "metadata": {},
     "output_type": "display_data"
    },
    {
     "name": "stdout",
     "output_type": "stream",
     "text": [
      "\n"
     ]
    },
    {
     "data": {
      "application/vnd.jupyter.widget-view+json": {
       "model_id": "aa021dd5e712458d909879511ca9f47c",
       "version_major": 2,
       "version_minor": 0
      },
      "text/plain": [
       "HBox(children=(FloatProgress(value=0.0, description='Downloading', max=60.0, style=ProgressStyle(description_w…"
      ]
     },
     "metadata": {},
     "output_type": "display_data"
    },
    {
     "name": "stdout",
     "output_type": "stream",
     "text": [
      "\n"
     ]
    }
   ],
   "source": [
    "import torch\n",
    "import numpy as np\n",
    "import pandas as pd\n",
    "from sadedegel.bblock import Doc\n",
    "from sklearn.linear_model import LogisticRegression\n",
    "from sklearn.model_selection import train_test_split\n",
    "from scipy.sparse import vstack, csr_matrix # dealing with sparse matrices in  tfidf embeddings\n",
    "from sklearn.preprocessing import normalize\n",
    "import altair as alt\n",
    "from tqdm import tqdm\n",
    "\n"
   ]
  },
  {
   "cell_type": "markdown",
   "metadata": {
    "papermill": {
     "duration": 0.435448,
     "end_time": "2020-11-16T18:46:20.572579",
     "exception": false,
     "start_time": "2020-11-16T18:46:20.137131",
     "status": "completed"
    },
    "tags": []
   },
   "source": [
    "### Data"
   ]
  },
  {
   "cell_type": "code",
   "execution_count": 2,
   "metadata": {
    "execution": {
     "iopub.execute_input": "2020-11-16T18:46:21.513785Z",
     "iopub.status.busy": "2020-11-16T18:46:21.512815Z",
     "iopub.status.idle": "2020-11-16T18:46:21.672639Z",
     "shell.execute_reply": "2020-11-16T18:46:21.671913Z"
    },
    "papermill": {
     "duration": 0.679409,
     "end_time": "2020-11-16T18:46:21.672826",
     "exception": false,
     "start_time": "2020-11-16T18:46:20.993417",
     "status": "completed"
    },
    "tags": []
   },
   "outputs": [
    {
     "data": {
      "text/html": [
       "<div>\n",
       "<style scoped>\n",
       "    .dataframe tbody tr th:only-of-type {\n",
       "        vertical-align: middle;\n",
       "    }\n",
       "\n",
       "    .dataframe tbody tr th {\n",
       "        vertical-align: top;\n",
       "    }\n",
       "\n",
       "    .dataframe thead th {\n",
       "        text-align: right;\n",
       "    }\n",
       "</style>\n",
       "<table border=\"1\" class=\"dataframe\">\n",
       "  <thead>\n",
       "    <tr style=\"text-align: right;\">\n",
       "      <th></th>\n",
       "      <th>id</th>\n",
       "      <th>timestamp</th>\n",
       "      <th>text</th>\n",
       "      <th>label</th>\n",
       "    </tr>\n",
       "  </thead>\n",
       "  <tbody>\n",
       "    <tr>\n",
       "      <th>0</th>\n",
       "      <td>973568937593065472</td>\n",
       "      <td>1520952977415</td>\n",
       "      <td>@USER06095 Hırsız demişken Tuncay sizin şu 1.2...</td>\n",
       "      <td>grp</td>\n",
       "    </tr>\n",
       "    <tr>\n",
       "      <th>1</th>\n",
       "      <td>973568937723035648</td>\n",
       "      <td>1520952977446</td>\n",
       "      <td>Ne bileyim sen hastayım deyince bende veterine...</td>\n",
       "      <td>ind</td>\n",
       "    </tr>\n",
       "    <tr>\n",
       "      <th>2</th>\n",
       "      <td>973568937911873536</td>\n",
       "      <td>1520952977491</td>\n",
       "      <td>Akşam eve gittiğimizde yorgunluğuma iyi gelece...</td>\n",
       "      <td>grp</td>\n",
       "    </tr>\n",
       "    <tr>\n",
       "      <th>3</th>\n",
       "      <td>973568939925090304</td>\n",
       "      <td>1520952977971</td>\n",
       "      <td>Kook’un sesini 18381 kez dinledikten sonra eğe...</td>\n",
       "      <td>prof</td>\n",
       "    </tr>\n",
       "    <tr>\n",
       "      <th>4</th>\n",
       "      <td>973568940667539457</td>\n",
       "      <td>1520952978148</td>\n",
       "      <td>@USER05270 @USER04816 o macta adam 6 7 tane ne...</td>\n",
       "      <td>grp</td>\n",
       "    </tr>\n",
       "    <tr>\n",
       "      <th>...</th>\n",
       "      <td>...</td>\n",
       "      <td>...</td>\n",
       "      <td>...</td>\n",
       "      <td>...</td>\n",
       "    </tr>\n",
       "    <tr>\n",
       "      <th>35279</th>\n",
       "      <td>1178770821470412806</td>\n",
       "      <td>1569876918998</td>\n",
       "      <td>Great Priest elmalara pot basıyor</td>\n",
       "      <td>non</td>\n",
       "    </tr>\n",
       "    <tr>\n",
       "      <th>35280</th>\n",
       "      <td>1178772855028436993</td>\n",
       "      <td>1569877403836</td>\n",
       "      <td>Alkollüyken yazmaya harika bir çözüm sunuyorum...</td>\n",
       "      <td>non</td>\n",
       "    </tr>\n",
       "    <tr>\n",
       "      <th>35281</th>\n",
       "      <td>1178774590958559234</td>\n",
       "      <td>1569877817714</td>\n",
       "      <td>@USER10875 Cvp vermek istemedim ama dayanamıyo...</td>\n",
       "      <td>ind</td>\n",
       "    </tr>\n",
       "    <tr>\n",
       "      <th>35282</th>\n",
       "      <td>1178780674305777665</td>\n",
       "      <td>1569879268097</td>\n",
       "      <td>Bazı takip ettiğim kişileri aha bu da hasta am...</td>\n",
       "      <td>ind</td>\n",
       "    </tr>\n",
       "    <tr>\n",
       "      <th>35283</th>\n",
       "      <td>1178781361089462272</td>\n",
       "      <td>1569879431839</td>\n",
       "      <td>@USER00863 allah akıl fakirliği vermesin geri ...</td>\n",
       "      <td>non</td>\n",
       "    </tr>\n",
       "  </tbody>\n",
       "</table>\n",
       "<p>35284 rows × 4 columns</p>\n",
       "</div>"
      ],
      "text/plain": [
       "                        id      timestamp  \\\n",
       "0       973568937593065472  1520952977415   \n",
       "1       973568937723035648  1520952977446   \n",
       "2       973568937911873536  1520952977491   \n",
       "3       973568939925090304  1520952977971   \n",
       "4       973568940667539457  1520952978148   \n",
       "...                    ...            ...   \n",
       "35279  1178770821470412806  1569876918998   \n",
       "35280  1178772855028436993  1569877403836   \n",
       "35281  1178774590958559234  1569877817714   \n",
       "35282  1178780674305777665  1569879268097   \n",
       "35283  1178781361089462272  1569879431839   \n",
       "\n",
       "                                                    text label  \n",
       "0      @USER06095 Hırsız demişken Tuncay sizin şu 1.2...   grp  \n",
       "1      Ne bileyim sen hastayım deyince bende veterine...   ind  \n",
       "2      Akşam eve gittiğimizde yorgunluğuma iyi gelece...   grp  \n",
       "3      Kook’un sesini 18381 kez dinledikten sonra eğe...  prof  \n",
       "4      @USER05270 @USER04816 o macta adam 6 7 tane ne...   grp  \n",
       "...                                                  ...   ...  \n",
       "35279                  Great Priest elmalara pot basıyor   non  \n",
       "35280  Alkollüyken yazmaya harika bir çözüm sunuyorum...   non  \n",
       "35281  @USER10875 Cvp vermek istemedim ama dayanamıyo...   ind  \n",
       "35282  Bazı takip ettiğim kişileri aha bu da hasta am...   ind  \n",
       "35283  @USER00863 allah akıl fakirliği vermesin geri ...   non  \n",
       "\n",
       "[35284 rows x 4 columns]"
      ]
     },
     "execution_count": 2,
     "metadata": {},
     "output_type": "execute_result"
    }
   ],
   "source": [
    "df = pd.read_csv(\"troff-v1.0.tsv\", sep='\\t')\n",
    "df"
   ]
  },
  {
   "cell_type": "markdown",
   "metadata": {
    "papermill": {
     "duration": 0.395671,
     "end_time": "2020-11-16T18:46:22.504991",
     "exception": false,
     "start_time": "2020-11-16T18:46:22.109320",
     "status": "completed"
    },
    "tags": []
   },
   "source": [
    "The data we have at hand is a compilation of 35284 Turkish tweets, labelled by their type of offensive language. (Note that user handles are censored for privacy.)\n",
    "\n",
    "**What are the labels?**\n",
    "\n",
    "<ul>\n",
    "    <li><b>non</b>offensive: Non-offensive tweets.</li>\n",
    "    <li><b>prof</b>anity, or “untargeted offense”, is use of offensive language without a particular target. This is typically use of swear words, or other “inappropriate” language for stylistic reasons.</li>\n",
    "    <li><b>grp</b> (offense towards a group) means the author intends to offend a group that forms a “unity” based on gender, ethnicity, political affiliation, religious belief or similar aspects of a person’s identity.</li>\n",
    "    <li><b>ind</b> (offensive towards an individual) is used for offensive targeted to an individual or group of individuals that are not related in well-defined manner.</li>\n",
    "    <li><b>oth</b> target of the offense is not one of the two cases above. This typically include organizations, events etc.</li>\n",
    "</ul>"
   ]
  },
  {
   "cell_type": "markdown",
   "metadata": {
    "papermill": {
     "duration": 0.394668,
     "end_time": "2020-11-16T18:46:23.281199",
     "exception": false,
     "start_time": "2020-11-16T18:46:22.886531",
     "status": "completed"
    },
    "tags": []
   },
   "source": [
    "---\n",
    "\n",
    "<br>\n",
    "\n",
    "**What are the class counts?**\n",
    "\n",
    "It is imperative to know how imbalanced the dataset is to make right decisions regarding splitting the data."
   ]
  },
  {
   "cell_type": "code",
   "execution_count": 3,
   "metadata": {
    "execution": {
     "iopub.execute_input": "2020-11-16T18:46:24.099990Z",
     "iopub.status.busy": "2020-11-16T18:46:24.096427Z",
     "iopub.status.idle": "2020-11-16T18:46:24.107370Z",
     "shell.execute_reply": "2020-11-16T18:46:24.106764Z"
    },
    "papermill": {
     "duration": 0.422258,
     "end_time": "2020-11-16T18:46:24.107495",
     "exception": false,
     "start_time": "2020-11-16T18:46:23.685237",
     "status": "completed"
    },
    "tags": []
   },
   "outputs": [
    {
     "data": {
      "text/html": [
       "<div>\n",
       "<style scoped>\n",
       "    .dataframe tbody tr th:only-of-type {\n",
       "        vertical-align: middle;\n",
       "    }\n",
       "\n",
       "    .dataframe tbody tr th {\n",
       "        vertical-align: top;\n",
       "    }\n",
       "\n",
       "    .dataframe thead th {\n",
       "        text-align: right;\n",
       "    }\n",
       "</style>\n",
       "<table border=\"1\" class=\"dataframe\">\n",
       "  <thead>\n",
       "    <tr style=\"text-align: right;\">\n",
       "      <th></th>\n",
       "      <th>label</th>\n",
       "      <th>counts</th>\n",
       "    </tr>\n",
       "  </thead>\n",
       "  <tbody>\n",
       "    <tr>\n",
       "      <th>0</th>\n",
       "      <td>non</td>\n",
       "      <td>28439</td>\n",
       "    </tr>\n",
       "    <tr>\n",
       "      <th>1</th>\n",
       "      <td>ind</td>\n",
       "      <td>3279</td>\n",
       "    </tr>\n",
       "    <tr>\n",
       "      <th>2</th>\n",
       "      <td>grp</td>\n",
       "      <td>1750</td>\n",
       "    </tr>\n",
       "    <tr>\n",
       "      <th>3</th>\n",
       "      <td>prof</td>\n",
       "      <td>1455</td>\n",
       "    </tr>\n",
       "    <tr>\n",
       "      <th>4</th>\n",
       "      <td>oth</td>\n",
       "      <td>361</td>\n",
       "    </tr>\n",
       "  </tbody>\n",
       "</table>\n",
       "</div>"
      ],
      "text/plain": [
       "  label  counts\n",
       "0   non   28439\n",
       "1   ind    3279\n",
       "2   grp    1750\n",
       "3  prof    1455\n",
       "4   oth     361"
      ]
     },
     "execution_count": 3,
     "metadata": {},
     "output_type": "execute_result"
    }
   ],
   "source": [
    "class_counts = df[\"label\"].value_counts()\n",
    "class_counts = class_counts.reset_index()\n",
    "class_counts = class_counts.rename(columns={\"label\":\"counts\", \"index\":\"label\"})\n",
    "class_counts"
   ]
  },
  {
   "cell_type": "code",
   "execution_count": 4,
   "metadata": {
    "execution": {
     "iopub.execute_input": "2020-11-16T18:46:24.996344Z",
     "iopub.status.busy": "2020-11-16T18:46:24.995456Z",
     "iopub.status.idle": "2020-11-16T18:46:25.043652Z",
     "shell.execute_reply": "2020-11-16T18:46:25.042878Z"
    },
    "papermill": {
     "duration": 0.55534,
     "end_time": "2020-11-16T18:46:25.043793",
     "exception": false,
     "start_time": "2020-11-16T18:46:24.488453",
     "status": "completed"
    },
    "tags": []
   },
   "outputs": [
    {
     "data": {
      "text/html": [
       "\n",
       "<div id=\"altair-viz-2559e548092f4e0ea5a556b91c4b829f\"></div>\n",
       "<script type=\"text/javascript\">\n",
       "  (function(spec, embedOpt){\n",
       "    let outputDiv = document.currentScript.previousElementSibling;\n",
       "    if (outputDiv.id !== \"altair-viz-2559e548092f4e0ea5a556b91c4b829f\") {\n",
       "      outputDiv = document.getElementById(\"altair-viz-2559e548092f4e0ea5a556b91c4b829f\");\n",
       "    }\n",
       "    const paths = {\n",
       "      \"vega\": \"https://cdn.jsdelivr.net/npm//vega@5?noext\",\n",
       "      \"vega-lib\": \"https://cdn.jsdelivr.net/npm//vega-lib?noext\",\n",
       "      \"vega-lite\": \"https://cdn.jsdelivr.net/npm//vega-lite@4.8.1?noext\",\n",
       "      \"vega-embed\": \"https://cdn.jsdelivr.net/npm//vega-embed@6?noext\",\n",
       "    };\n",
       "\n",
       "    function loadScript(lib) {\n",
       "      return new Promise(function(resolve, reject) {\n",
       "        var s = document.createElement('script');\n",
       "        s.src = paths[lib];\n",
       "        s.async = true;\n",
       "        s.onload = () => resolve(paths[lib]);\n",
       "        s.onerror = () => reject(`Error loading script: ${paths[lib]}`);\n",
       "        document.getElementsByTagName(\"head\")[0].appendChild(s);\n",
       "      });\n",
       "    }\n",
       "\n",
       "    function showError(err) {\n",
       "      outputDiv.innerHTML = `<div class=\"error\" style=\"color:red;\">${err}</div>`;\n",
       "      throw err;\n",
       "    }\n",
       "\n",
       "    function displayChart(vegaEmbed) {\n",
       "      vegaEmbed(outputDiv, spec, embedOpt)\n",
       "        .catch(err => showError(`Javascript Error: ${err.message}<br>This usually means there's a typo in your chart specification. See the javascript console for the full traceback.`));\n",
       "    }\n",
       "\n",
       "    if(typeof define === \"function\" && define.amd) {\n",
       "      requirejs.config({paths});\n",
       "      require([\"vega-embed\"], displayChart, err => showError(`Error loading script: ${err.message}`));\n",
       "    } else if (typeof vegaEmbed === \"function\") {\n",
       "      displayChart(vegaEmbed);\n",
       "    } else {\n",
       "      loadScript(\"vega\")\n",
       "        .then(() => loadScript(\"vega-lite\"))\n",
       "        .then(() => loadScript(\"vega-embed\"))\n",
       "        .catch(showError)\n",
       "        .then(() => displayChart(vegaEmbed));\n",
       "    }\n",
       "  })({\"config\": {\"view\": {\"continuousWidth\": 400, \"continuousHeight\": 300}, \"axis\": {\"labelFontSize\": 12, \"titleFontSize\": 15}}, \"data\": {\"name\": \"data-d102070459e5e523903bcc21b548f893\"}, \"mark\": {\"type\": \"bar\", \"color\": \"lightblue\"}, \"encoding\": {\"x\": {\"type\": \"quantitative\", \"field\": \"counts\", \"title\": \"Class count\"}, \"y\": {\"type\": \"nominal\", \"field\": \"label\", \"title\": \"Off. tweet type\"}}, \"height\": 200, \"$schema\": \"https://vega.github.io/schema/vega-lite/v4.8.1.json\", \"datasets\": {\"data-d102070459e5e523903bcc21b548f893\": [{\"label\": \"non\", \"counts\": 28439}, {\"label\": \"ind\", \"counts\": 3279}, {\"label\": \"grp\", \"counts\": 1750}, {\"label\": \"prof\", \"counts\": 1455}, {\"label\": \"oth\", \"counts\": 361}]}}, {\"mode\": \"vega-lite\"});\n",
       "</script>"
      ],
      "text/plain": [
       "alt.Chart(...)"
      ]
     },
     "execution_count": 4,
     "metadata": {},
     "output_type": "execute_result"
    }
   ],
   "source": [
    "alt.Chart(class_counts, height=200).mark_bar(color=\"lightblue\").encode(\n",
    "    x=alt.X(\"counts:Q\", title=\"Class count\"),\n",
    "    y=alt.Y(\"label:N\", title=\"Off. tweet type\")\n",
    ").configure_axis(\n",
    "    labelFontSize=12,\n",
    "    titleFontSize=15\n",
    ")\n"
   ]
  },
  {
   "cell_type": "markdown",
   "metadata": {
    "papermill": {
     "duration": 0.444752,
     "end_time": "2020-11-16T18:46:25.916525",
     "exception": false,
     "start_time": "2020-11-16T18:46:25.471773",
     "status": "completed"
    },
    "tags": []
   },
   "source": [
    "\n",
    "It seems that our dataset is highly imbalanced with most tweets being inoffensive, which would severely hamper our model's perforamance if we don't account for it.\n",
    "<br>\n",
    "\n",
    "---"
   ]
  },
  {
   "cell_type": "markdown",
   "metadata": {
    "papermill": {
     "duration": 0.459034,
     "end_time": "2020-11-16T18:46:26.760054",
     "exception": false,
     "start_time": "2020-11-16T18:46:26.301020",
     "status": "completed"
    },
    "tags": []
   },
   "source": [
    "### Preprocessing\n",
    "\n",
    "Although most of the necessary preprocessing will be done by Sadedegel, we need to remove @User handles beforehand as the handles are useless, and may even hamper our model. A regex will be used to replace them with a blank string."
   ]
  },
  {
   "cell_type": "code",
   "execution_count": 5,
   "metadata": {
    "execution": {
     "iopub.execute_input": "2020-11-16T18:46:27.622567Z",
     "iopub.status.busy": "2020-11-16T18:46:27.602173Z",
     "iopub.status.idle": "2020-11-16T18:46:27.684922Z",
     "shell.execute_reply": "2020-11-16T18:46:27.684360Z"
    },
    "papermill": {
     "duration": 0.4875,
     "end_time": "2020-11-16T18:46:27.685040",
     "exception": false,
     "start_time": "2020-11-16T18:46:27.197540",
     "status": "completed"
    },
    "tags": []
   },
   "outputs": [
    {
     "data": {
      "text/html": [
       "<div>\n",
       "<style scoped>\n",
       "    .dataframe tbody tr th:only-of-type {\n",
       "        vertical-align: middle;\n",
       "    }\n",
       "\n",
       "    .dataframe tbody tr th {\n",
       "        vertical-align: top;\n",
       "    }\n",
       "\n",
       "    .dataframe thead th {\n",
       "        text-align: right;\n",
       "    }\n",
       "</style>\n",
       "<table border=\"1\" class=\"dataframe\">\n",
       "  <thead>\n",
       "    <tr style=\"text-align: right;\">\n",
       "      <th></th>\n",
       "      <th>id</th>\n",
       "      <th>timestamp</th>\n",
       "      <th>text</th>\n",
       "      <th>label</th>\n",
       "    </tr>\n",
       "  </thead>\n",
       "  <tbody>\n",
       "    <tr>\n",
       "      <th>0</th>\n",
       "      <td>973568937593065472</td>\n",
       "      <td>1520952977415</td>\n",
       "      <td>Hırsız demişken Tuncay sizin şu 1.200 bin TL'l...</td>\n",
       "      <td>grp</td>\n",
       "    </tr>\n",
       "    <tr>\n",
       "      <th>1</th>\n",
       "      <td>973568937723035648</td>\n",
       "      <td>1520952977446</td>\n",
       "      <td>Ne bileyim sen hastayım deyince bende veterine...</td>\n",
       "      <td>ind</td>\n",
       "    </tr>\n",
       "    <tr>\n",
       "      <th>2</th>\n",
       "      <td>973568937911873536</td>\n",
       "      <td>1520952977491</td>\n",
       "      <td>Akşam eve gittiğimizde yorgunluğuma iyi gelece...</td>\n",
       "      <td>grp</td>\n",
       "    </tr>\n",
       "    <tr>\n",
       "      <th>3</th>\n",
       "      <td>973568939925090304</td>\n",
       "      <td>1520952977971</td>\n",
       "      <td>Kook’un sesini 18381 kez dinledikten sonra eğe...</td>\n",
       "      <td>prof</td>\n",
       "    </tr>\n",
       "    <tr>\n",
       "      <th>4</th>\n",
       "      <td>973568940667539457</td>\n",
       "      <td>1520952978148</td>\n",
       "      <td>o macta adam 6 7 tane net sut cikartti aksini ...</td>\n",
       "      <td>grp</td>\n",
       "    </tr>\n",
       "  </tbody>\n",
       "</table>\n",
       "</div>"
      ],
      "text/plain": [
       "                   id      timestamp  \\\n",
       "0  973568937593065472  1520952977415   \n",
       "1  973568937723035648  1520952977446   \n",
       "2  973568937911873536  1520952977491   \n",
       "3  973568939925090304  1520952977971   \n",
       "4  973568940667539457  1520952978148   \n",
       "\n",
       "                                                text label  \n",
       "0  Hırsız demişken Tuncay sizin şu 1.200 bin TL'l...   grp  \n",
       "1  Ne bileyim sen hastayım deyince bende veterine...   ind  \n",
       "2  Akşam eve gittiğimizde yorgunluğuma iyi gelece...   grp  \n",
       "3  Kook’un sesini 18381 kez dinledikten sonra eğe...  prof  \n",
       "4  o macta adam 6 7 tane net sut cikartti aksini ...   grp  "
      ]
     },
     "execution_count": 5,
     "metadata": {},
     "output_type": "execute_result"
    }
   ],
   "source": [
    "df[\"text\"] = df[\"text\"].replace(\"@\\S* \", \"\", regex=True)\n",
    "df.head()"
   ]
  },
  {
   "cell_type": "markdown",
   "metadata": {
    "papermill": {
     "duration": 0.388919,
     "end_time": "2020-11-16T18:46:28.530109",
     "exception": false,
     "start_time": "2020-11-16T18:46:28.141190",
     "status": "completed"
    },
    "tags": []
   },
   "source": [
    "---\n",
    "<br>\n",
    "Next step is to convert text into TFIDF embeddings. Luckily getting those in Sadedegel is pretty easy and all you have to do is:\n",
    "<ol>\n",
    "    <li style=\"font-weight:bold\"><span style=\"font-weight:normal\">Turn the text into a Doc object.</span></li>\n",
    "    <li style=\"font-weight:bold\"><span style=\"font-weight:normal\">Use .tfidf_embeddings property of Doc to get TFIDF embeddings in form of [NxV] where N is the number of sentences in the text and V is the size of vocabulary.</span></li>\n",
    "    <li style=\"font-weight:bold\"><span style=\"font-weight:normal\">Average embeddings over the sentences in a tweet to get a single vector for a tweet which would be what is fed to the classifier as vector representation of the tweet.</span></li>\n",
    "</ol>\n",
    "\n",
    "Here is an example on 1 tweet:"
   ]
  },
  {
   "cell_type": "code",
   "execution_count": 6,
   "metadata": {
    "execution": {
     "iopub.execute_input": "2020-11-16T18:46:29.328362Z",
     "iopub.status.busy": "2020-11-16T18:46:29.327336Z",
     "iopub.status.idle": "2020-11-16T18:46:29.395349Z",
     "shell.execute_reply": "2020-11-16T18:46:29.394583Z"
    },
    "papermill": {
     "duration": 0.478292,
     "end_time": "2020-11-16T18:46:29.395485",
     "exception": false,
     "start_time": "2020-11-16T18:46:28.917193",
     "status": "completed"
    },
    "tags": []
   },
   "outputs": [
    {
     "name": "stderr",
     "output_type": "stream",
     "text": [
      "2020-11-16 18:46:29.325 | INFO     | sadedegel.bblock.doc:__init__:249 - Loading ML based SBD\n",
      "2020-11-16 18:46:29.326 | INFO     | sadedegel.ml.sbd:load_model:25 - Loading sbd model from /opt/conda/lib/python3.7/site-packages/sadedegel/ml/model/sbd.pickle\n"
     ]
    },
    {
     "data": {
      "text/plain": [
       "en yakın kankalarım yaza söz nişan yapıyor çeyiz düzmeye başladılar acilen kilo vermem lazım ne giycem düğünde"
      ]
     },
     "execution_count": 6,
     "metadata": {},
     "output_type": "execute_result"
    }
   ],
   "source": [
    "# Step 1\n",
    "tweet_0 = Doc(df.iloc[103][\"text\"])\n",
    "tweet_0"
   ]
  },
  {
   "cell_type": "code",
   "execution_count": 7,
   "metadata": {
    "execution": {
     "iopub.execute_input": "2020-11-16T18:46:30.181022Z",
     "iopub.status.busy": "2020-11-16T18:46:30.179821Z",
     "iopub.status.idle": "2020-11-16T18:46:30.258430Z",
     "shell.execute_reply": "2020-11-16T18:46:30.257697Z"
    },
    "papermill": {
     "duration": 0.469731,
     "end_time": "2020-11-16T18:46:30.258555",
     "exception": false,
     "start_time": "2020-11-16T18:46:29.788824",
     "status": "completed"
    },
    "tags": []
   },
   "outputs": [
    {
     "data": {
      "text/plain": [
       "(1, 27744)"
      ]
     },
     "execution_count": 7,
     "metadata": {},
     "output_type": "execute_result"
    }
   ],
   "source": [
    "# Step 2\n",
    "tfidf_embedding_0 = tweet_0.tfidf_embeddings\n",
    "tfidf_embedding_0.shape"
   ]
  },
  {
   "cell_type": "code",
   "execution_count": 8,
   "metadata": {
    "execution": {
     "iopub.execute_input": "2020-11-16T18:46:31.088693Z",
     "iopub.status.busy": "2020-11-16T18:46:31.087679Z",
     "iopub.status.idle": "2020-11-16T18:46:31.093577Z",
     "shell.execute_reply": "2020-11-16T18:46:31.092895Z"
    },
    "papermill": {
     "duration": 0.421229,
     "end_time": "2020-11-16T18:46:31.093696",
     "exception": false,
     "start_time": "2020-11-16T18:46:30.672467",
     "status": "completed"
    },
    "tags": []
   },
   "outputs": [
    {
     "data": {
      "text/plain": [
       "(1, 27744)"
      ]
     },
     "execution_count": 8,
     "metadata": {},
     "output_type": "execute_result"
    }
   ],
   "source": [
    "# Step 3\n",
    "# average on sentence dimension\n",
    "# (though in this example, there is only one sentence anyway )\n",
    "tfidf_embedding_0_avg = tfidf_embedding_0.mean(axis=0)\n",
    "tfidf_embedding_0_avg.shape\n",
    "\n",
    "# And we're done!"
   ]
  },
  {
   "cell_type": "markdown",
   "metadata": {
    "papermill": {
     "duration": 0.385796,
     "end_time": "2020-11-16T18:46:31.864162",
     "exception": false,
     "start_time": "2020-11-16T18:46:31.478366",
     "status": "completed"
    },
    "tags": []
   },
   "source": [
    "Now, just like with above example, all that's left to do is to construct the training array, which will store embeddings for every tweet. Note that this might take a few minutes as it processess everything."
   ]
  },
  {
   "cell_type": "code",
   "execution_count": 9,
   "metadata": {
    "execution": {
     "iopub.execute_input": "2020-11-16T18:46:32.654375Z",
     "iopub.status.busy": "2020-11-16T18:46:32.653622Z",
     "iopub.status.idle": "2020-11-16T18:55:13.163872Z",
     "shell.execute_reply": "2020-11-16T18:55:13.162983Z"
    },
    "papermill": {
     "duration": 520.919138,
     "end_time": "2020-11-16T18:55:13.164013",
     "exception": false,
     "start_time": "2020-11-16T18:46:32.244875",
     "status": "completed"
    },
    "tags": []
   },
   "outputs": [
    {
     "name": "stderr",
     "output_type": "stream",
     "text": [
      "100%|██████████| 35284/35284 [08:39<00:00, 67.86it/s]\n"
     ]
    },
    {
     "name": "stdout",
     "output_type": "stream",
     "text": [
      "Shape of embeddings matrix:  (35284, 27744)\n"
     ]
    }
   ],
   "source": [
    "\n",
    "X_str = df[\"text\"]\n",
    "X = []\n",
    "\n",
    "for tweet in tqdm(X_str):\n",
    "    d = Doc(tweet)\n",
    "    X.append(csr_matrix(d.tfidf_embeddings.mean(axis=0)))\n",
    "\n",
    "\n",
    "X = vstack(X)\n",
    "print(\"Shape of embeddings matrix: \", X.shape)"
   ]
  },
  {
   "cell_type": "markdown",
   "metadata": {
    "papermill": {
     "duration": 1.790368,
     "end_time": "2020-11-16T18:55:16.732328",
     "exception": false,
     "start_time": "2020-11-16T18:55:14.941960",
     "status": "completed"
    },
    "tags": []
   },
   "source": [
    "As a last preprocessing step, let's normalize samples in our embeddings matrix."
   ]
  },
  {
   "cell_type": "code",
   "execution_count": 10,
   "metadata": {
    "execution": {
     "iopub.execute_input": "2020-11-16T18:55:20.239354Z",
     "iopub.status.busy": "2020-11-16T18:55:20.237786Z",
     "iopub.status.idle": "2020-11-16T18:55:20.249621Z",
     "shell.execute_reply": "2020-11-16T18:55:20.250114Z"
    },
    "papermill": {
     "duration": 1.786827,
     "end_time": "2020-11-16T18:55:20.250278",
     "exception": false,
     "start_time": "2020-11-16T18:55:18.463451",
     "status": "completed"
    },
    "tags": []
   },
   "outputs": [],
   "source": [
    "X = normalize(X)\n"
   ]
  },
  {
   "cell_type": "markdown",
   "metadata": {
    "papermill": {
     "duration": 1.726679,
     "end_time": "2020-11-16T18:55:23.714356",
     "exception": false,
     "start_time": "2020-11-16T18:55:21.987677",
     "status": "completed"
    },
    "tags": []
   },
   "source": [
    "Now that we have our training data, let's split the data into train and validation set, in a stratified fashion to prevent train and validation sets having different label distributions."
   ]
  },
  {
   "cell_type": "code",
   "execution_count": 11,
   "metadata": {
    "execution": {
     "iopub.execute_input": "2020-11-16T18:55:27.726418Z",
     "iopub.status.busy": "2020-11-16T18:55:27.721852Z",
     "iopub.status.idle": "2020-11-16T18:55:27.757748Z",
     "shell.execute_reply": "2020-11-16T18:55:27.757160Z"
    },
    "papermill": {
     "duration": 2.002932,
     "end_time": "2020-11-16T18:55:27.757891",
     "exception": false,
     "start_time": "2020-11-16T18:55:25.754959",
     "status": "completed"
    },
    "tags": []
   },
   "outputs": [],
   "source": [
    "y = df[\"label\"]\n",
    "X_train, X_val, y_train, y_val = train_test_split(X,y, stratify=df[\"label\"], test_size=0.2)"
   ]
  },
  {
   "cell_type": "markdown",
   "metadata": {
    "papermill": {
     "duration": 1.833831,
     "end_time": "2020-11-16T18:55:31.659626",
     "exception": false,
     "start_time": "2020-11-16T18:55:29.825795",
     "status": "completed"
    },
    "tags": []
   },
   "source": [
    "Let's plot train and validation sets labels counts to ensure they have a similar label distribution."
   ]
  },
  {
   "cell_type": "code",
   "execution_count": 12,
   "metadata": {
    "execution": {
     "iopub.execute_input": "2020-11-16T18:55:35.339488Z",
     "iopub.status.busy": "2020-11-16T18:55:35.338774Z",
     "iopub.status.idle": "2020-11-16T18:55:35.343649Z",
     "shell.execute_reply": "2020-11-16T18:55:35.343054Z"
    },
    "papermill": {
     "duration": 1.787247,
     "end_time": "2020-11-16T18:55:35.343775",
     "exception": false,
     "start_time": "2020-11-16T18:55:33.556528",
     "status": "completed"
    },
    "tags": []
   },
   "outputs": [
    {
     "data": {
      "text/html": [
       "\n",
       "<div id=\"altair-viz-e9c9647636824b47aafc4a176e49813a\"></div>\n",
       "<script type=\"text/javascript\">\n",
       "  (function(spec, embedOpt){\n",
       "    let outputDiv = document.currentScript.previousElementSibling;\n",
       "    if (outputDiv.id !== \"altair-viz-e9c9647636824b47aafc4a176e49813a\") {\n",
       "      outputDiv = document.getElementById(\"altair-viz-e9c9647636824b47aafc4a176e49813a\");\n",
       "    }\n",
       "    const paths = {\n",
       "      \"vega\": \"https://cdn.jsdelivr.net/npm//vega@5?noext\",\n",
       "      \"vega-lib\": \"https://cdn.jsdelivr.net/npm//vega-lib?noext\",\n",
       "      \"vega-lite\": \"https://cdn.jsdelivr.net/npm//vega-lite@4.8.1?noext\",\n",
       "      \"vega-embed\": \"https://cdn.jsdelivr.net/npm//vega-embed@6?noext\",\n",
       "    };\n",
       "\n",
       "    function loadScript(lib) {\n",
       "      return new Promise(function(resolve, reject) {\n",
       "        var s = document.createElement('script');\n",
       "        s.src = paths[lib];\n",
       "        s.async = true;\n",
       "        s.onload = () => resolve(paths[lib]);\n",
       "        s.onerror = () => reject(`Error loading script: ${paths[lib]}`);\n",
       "        document.getElementsByTagName(\"head\")[0].appendChild(s);\n",
       "      });\n",
       "    }\n",
       "\n",
       "    function showError(err) {\n",
       "      outputDiv.innerHTML = `<div class=\"error\" style=\"color:red;\">${err}</div>`;\n",
       "      throw err;\n",
       "    }\n",
       "\n",
       "    function displayChart(vegaEmbed) {\n",
       "      vegaEmbed(outputDiv, spec, embedOpt)\n",
       "        .catch(err => showError(`Javascript Error: ${err.message}<br>This usually means there's a typo in your chart specification. See the javascript console for the full traceback.`));\n",
       "    }\n",
       "\n",
       "    if(typeof define === \"function\" && define.amd) {\n",
       "      requirejs.config({paths});\n",
       "      require([\"vega-embed\"], displayChart, err => showError(`Error loading script: ${err.message}`));\n",
       "    } else if (typeof vegaEmbed === \"function\") {\n",
       "      displayChart(vegaEmbed);\n",
       "    } else {\n",
       "      loadScript(\"vega\")\n",
       "        .then(() => loadScript(\"vega-lite\"))\n",
       "        .then(() => loadScript(\"vega-embed\"))\n",
       "        .catch(showError)\n",
       "        .then(() => displayChart(vegaEmbed));\n",
       "    }\n",
       "  })({\"config\": {\"view\": {\"continuousWidth\": 400, \"continuousHeight\": 300}}, \"hconcat\": [{\"data\": {\"name\": \"data-f2245a9b38847708e9ca2acc92232f56\"}, \"mark\": {\"type\": \"bar\", \"color\": \"lightblue\"}, \"encoding\": {\"x\": {\"type\": \"quantitative\", \"field\": \"counts\", \"title\": \"Class count\"}, \"y\": {\"type\": \"nominal\", \"field\": \"label\", \"title\": \"Off. tweet type\"}}, \"height\": 200, \"title\": \"Train counts\"}, {\"data\": {\"name\": \"data-fb49a162f9643a793350d870dc39446e\"}, \"mark\": {\"type\": \"bar\", \"color\": \"lightblue\"}, \"encoding\": {\"x\": {\"type\": \"quantitative\", \"field\": \"counts\", \"title\": \"Class count\"}, \"y\": {\"type\": \"nominal\", \"field\": \"label\", \"title\": \"Off. tweet type\"}}, \"height\": 200, \"title\": \"Validation counts\"}], \"$schema\": \"https://vega.github.io/schema/vega-lite/v4.8.1.json\", \"datasets\": {\"data-f2245a9b38847708e9ca2acc92232f56\": [{\"label\": \"non\", \"counts\": 22751}, {\"label\": \"ind\", \"counts\": 2623}, {\"label\": \"grp\", \"counts\": 1400}, {\"label\": \"prof\", \"counts\": 1164}, {\"label\": \"oth\", \"counts\": 289}], \"data-fb49a162f9643a793350d870dc39446e\": [{\"label\": \"non\", \"counts\": 5688}, {\"label\": \"ind\", \"counts\": 656}, {\"label\": \"grp\", \"counts\": 350}, {\"label\": \"prof\", \"counts\": 291}, {\"label\": \"oth\", \"counts\": 72}]}}, {\"mode\": \"vega-lite\"});\n",
       "</script>"
      ],
      "text/plain": [
       "alt.HConcatChart(...)"
      ]
     },
     "execution_count": 12,
     "metadata": {},
     "output_type": "execute_result"
    }
   ],
   "source": [
    "train_class_counts = y_train.value_counts().reset_index().rename(columns={\"label\":\"counts\", \"index\":\"label\"})\n",
    "val_class_counts = y_val.value_counts().reset_index().rename(columns={\"label\":\"counts\", \"index\":\"label\"})\n",
    "\n",
    "c1 = alt.Chart(train_class_counts, height=200, title=\"Train counts\").mark_bar(color=\"lightblue\").encode(\n",
    "    \n",
    "    x=alt.X(\"counts:Q\", title=\"Class count\"),\n",
    "    y=alt.Y(\"label:N\", title=\"Off. tweet type\")\n",
    ")\n",
    "\n",
    "c2 = alt.Chart(val_class_counts, height=200, title=\"Validation counts\").mark_bar(color=\"lightblue\").encode(\n",
    "    x=alt.X(\"counts:Q\", title=\"Class count\"),\n",
    "    y=alt.Y(\"label:N\", title=\"Off. tweet type\")\n",
    ")\n",
    "\n",
    "c1 | c2\n"
   ]
  },
  {
   "cell_type": "markdown",
   "metadata": {
    "papermill": {
     "duration": 1.77272,
     "end_time": "2020-11-16T18:55:38.956664",
     "exception": false,
     "start_time": "2020-11-16T18:55:37.183944",
     "status": "completed"
    },
    "tags": []
   },
   "source": [
    "---\n",
    "\n",
    "### Train and validate"
   ]
  },
  {
   "cell_type": "markdown",
   "metadata": {
    "papermill": {
     "duration": 1.783386,
     "end_time": "2020-11-16T18:55:42.455522",
     "exception": false,
     "start_time": "2020-11-16T18:55:40.672136",
     "status": "completed"
    },
    "tags": []
   },
   "source": [
    "Great! Both train and validation have similar distributions, however class imbalance is not gone. There are many ways to address this issue but for our particular purpose we'll use LogisticRegression's `class_weight` attribute which will allow us to automatically weigh each class."
   ]
  },
  {
   "cell_type": "code",
   "execution_count": 13,
   "metadata": {
    "execution": {
     "iopub.execute_input": "2020-11-16T18:55:46.003881Z",
     "iopub.status.busy": "2020-11-16T18:55:46.002997Z",
     "iopub.status.idle": "2020-11-16T18:55:56.293694Z",
     "shell.execute_reply": "2020-11-16T18:55:56.292946Z"
    },
    "papermill": {
     "duration": 12.075216,
     "end_time": "2020-11-16T18:55:56.293836",
     "exception": false,
     "start_time": "2020-11-16T18:55:44.218620",
     "status": "completed"
    },
    "tags": []
   },
   "outputs": [],
   "source": [
    "clf = LogisticRegression(random_state=0, max_iter=2000, class_weight=\"balanced\").fit(X_train, y_train) # train"
   ]
  },
  {
   "cell_type": "markdown",
   "metadata": {
    "papermill": {
     "duration": 1.749638,
     "end_time": "2020-11-16T18:55:59.869271",
     "exception": false,
     "start_time": "2020-11-16T18:55:58.119633",
     "status": "completed"
    },
    "tags": []
   },
   "source": [
    "Now that our classifier is trained, let's predict our validation set."
   ]
  },
  {
   "cell_type": "code",
   "execution_count": 14,
   "metadata": {
    "execution": {
     "iopub.execute_input": "2020-11-16T18:56:03.738436Z",
     "iopub.status.busy": "2020-11-16T18:56:03.737437Z",
     "iopub.status.idle": "2020-11-16T18:56:03.743611Z",
     "shell.execute_reply": "2020-11-16T18:56:03.744269Z"
    },
    "papermill": {
     "duration": 2.021272,
     "end_time": "2020-11-16T18:56:03.744424",
     "exception": false,
     "start_time": "2020-11-16T18:56:01.723152",
     "status": "completed"
    },
    "tags": []
   },
   "outputs": [
    {
     "data": {
      "text/plain": [
       "array(['non', 'non', 'non', ..., 'non', 'non', 'prof'], dtype=object)"
      ]
     },
     "execution_count": 14,
     "metadata": {},
     "output_type": "execute_result"
    }
   ],
   "source": [
    "y_pred = clf.predict(X_val)\n",
    "y_pred"
   ]
  },
  {
   "cell_type": "markdown",
   "metadata": {
    "papermill": {
     "duration": 1.857884,
     "end_time": "2020-11-16T18:56:07.428697",
     "exception": false,
     "start_time": "2020-11-16T18:56:05.570813",
     "status": "completed"
    },
    "tags": []
   },
   "source": [
    "For metric purposes, let's look at the confusion matrix and f1-score. Accuracy in this case is absolutely not the best metric due to highly unbalanced classes. If model just guessed \"non\", or non-offensive it would be quite accurate despite being useless as \"non\" class is a big majority class."
   ]
  },
  {
   "cell_type": "code",
   "execution_count": 15,
   "metadata": {
    "execution": {
     "iopub.execute_input": "2020-11-16T18:56:11.073593Z",
     "iopub.status.busy": "2020-11-16T18:56:11.072778Z",
     "iopub.status.idle": "2020-11-16T18:56:11.127446Z",
     "shell.execute_reply": "2020-11-16T18:56:11.126785Z"
    },
    "papermill": {
     "duration": 1.917111,
     "end_time": "2020-11-16T18:56:11.127561",
     "exception": false,
     "start_time": "2020-11-16T18:56:09.210450",
     "status": "completed"
    },
    "tags": []
   },
   "outputs": [
    {
     "data": {
      "text/html": [
       "\n",
       "<div id=\"altair-viz-b43ecbcb33d84dcb880eeb7880def7fe\"></div>\n",
       "<script type=\"text/javascript\">\n",
       "  (function(spec, embedOpt){\n",
       "    let outputDiv = document.currentScript.previousElementSibling;\n",
       "    if (outputDiv.id !== \"altair-viz-b43ecbcb33d84dcb880eeb7880def7fe\") {\n",
       "      outputDiv = document.getElementById(\"altair-viz-b43ecbcb33d84dcb880eeb7880def7fe\");\n",
       "    }\n",
       "    const paths = {\n",
       "      \"vega\": \"https://cdn.jsdelivr.net/npm//vega@5?noext\",\n",
       "      \"vega-lib\": \"https://cdn.jsdelivr.net/npm//vega-lib?noext\",\n",
       "      \"vega-lite\": \"https://cdn.jsdelivr.net/npm//vega-lite@4.8.1?noext\",\n",
       "      \"vega-embed\": \"https://cdn.jsdelivr.net/npm//vega-embed@6?noext\",\n",
       "    };\n",
       "\n",
       "    function loadScript(lib) {\n",
       "      return new Promise(function(resolve, reject) {\n",
       "        var s = document.createElement('script');\n",
       "        s.src = paths[lib];\n",
       "        s.async = true;\n",
       "        s.onload = () => resolve(paths[lib]);\n",
       "        s.onerror = () => reject(`Error loading script: ${paths[lib]}`);\n",
       "        document.getElementsByTagName(\"head\")[0].appendChild(s);\n",
       "      });\n",
       "    }\n",
       "\n",
       "    function showError(err) {\n",
       "      outputDiv.innerHTML = `<div class=\"error\" style=\"color:red;\">${err}</div>`;\n",
       "      throw err;\n",
       "    }\n",
       "\n",
       "    function displayChart(vegaEmbed) {\n",
       "      vegaEmbed(outputDiv, spec, embedOpt)\n",
       "        .catch(err => showError(`Javascript Error: ${err.message}<br>This usually means there's a typo in your chart specification. See the javascript console for the full traceback.`));\n",
       "    }\n",
       "\n",
       "    if(typeof define === \"function\" && define.amd) {\n",
       "      requirejs.config({paths});\n",
       "      require([\"vega-embed\"], displayChart, err => showError(`Error loading script: ${err.message}`));\n",
       "    } else if (typeof vegaEmbed === \"function\") {\n",
       "      displayChart(vegaEmbed);\n",
       "    } else {\n",
       "      loadScript(\"vega\")\n",
       "        .then(() => loadScript(\"vega-lite\"))\n",
       "        .then(() => loadScript(\"vega-embed\"))\n",
       "        .catch(showError)\n",
       "        .then(() => displayChart(vegaEmbed));\n",
       "    }\n",
       "  })({\"config\": {\"view\": {\"continuousWidth\": 400, \"continuousHeight\": 300}}, \"layer\": [{\"mark\": {\"type\": \"rect\", \"stroke\": \"black\"}, \"encoding\": {\"color\": {\"value\": \"white\"}, \"x\": {\"type\": \"ordinal\", \"axis\": {\"title\": \"Predicted\", \"titlePadding\": 30}, \"field\": \"x\"}, \"y\": {\"type\": \"ordinal\", \"axis\": {\"title\": \"Ground truth\", \"titlePadding\": 30}, \"field\": \"y\"}}, \"title\": \"Confusion matrix\"}, {\"mark\": {\"type\": \"text\", \"baseline\": \"middle\", \"size\": 15}, \"encoding\": {\"color\": {\"value\": \"black\"}, \"text\": {\"type\": \"quantitative\", \"field\": \"z\"}, \"x\": {\"type\": \"ordinal\", \"axis\": {\"title\": \"Predicted\", \"titlePadding\": 30}, \"field\": \"x\"}, \"y\": {\"type\": \"ordinal\", \"axis\": {\"title\": \"Ground truth\", \"titlePadding\": 30}, \"field\": \"y\"}}, \"title\": \"Confusion matrix\"}], \"data\": {\"name\": \"data-ad46ef5a9bca40a785e8056adc4c897b\"}, \"height\": 300, \"width\": 300, \"$schema\": \"https://vega.github.io/schema/vega-lite/v4.8.1.json\", \"datasets\": {\"data-ad46ef5a9bca40a785e8056adc4c897b\": [{\"x\": \"grp\", \"y\": \"grp\", \"z\": 156}, {\"x\": \"ind\", \"y\": \"grp\", \"z\": 73}, {\"x\": \"non\", \"y\": \"grp\", \"z\": 94}, {\"x\": \"oth\", \"y\": \"grp\", \"z\": 3}, {\"x\": \"prof\", \"y\": \"grp\", \"z\": 24}, {\"x\": \"grp\", \"y\": \"ind\", \"z\": 84}, {\"x\": \"ind\", \"y\": \"ind\", \"z\": 295}, {\"x\": \"non\", \"y\": \"ind\", \"z\": 217}, {\"x\": \"oth\", \"y\": \"ind\", \"z\": 6}, {\"x\": \"prof\", \"y\": \"ind\", \"z\": 54}, {\"x\": \"grp\", \"y\": \"non\", \"z\": 332}, {\"x\": \"ind\", \"y\": \"non\", \"z\": 524}, {\"x\": \"non\", \"y\": \"non\", \"z\": 4672}, {\"x\": \"oth\", \"y\": \"non\", \"z\": 31}, {\"x\": \"prof\", \"y\": \"non\", \"z\": 129}, {\"x\": \"grp\", \"y\": \"oth\", \"z\": 8}, {\"x\": \"ind\", \"y\": \"oth\", \"z\": 19}, {\"x\": \"non\", \"y\": \"oth\", \"z\": 35}, {\"x\": \"oth\", \"y\": \"oth\", \"z\": 4}, {\"x\": \"prof\", \"y\": \"oth\", \"z\": 6}, {\"x\": \"grp\", \"y\": \"prof\", \"z\": 19}, {\"x\": \"ind\", \"y\": \"prof\", \"z\": 33}, {\"x\": \"non\", \"y\": \"prof\", \"z\": 90}, {\"x\": \"oth\", \"y\": \"prof\", \"z\": 2}, {\"x\": \"prof\", \"y\": \"prof\", \"z\": 147}]}}, {\"mode\": \"vega-lite\"});\n",
       "</script>"
      ],
      "text/plain": [
       "alt.LayerChart(...)"
      ]
     },
     "execution_count": 15,
     "metadata": {},
     "output_type": "execute_result"
    }
   ],
   "source": [
    "from sklearn.metrics import confusion_matrix, f1_score, accuracy_score\n",
    "\n",
    "label_list = sorted(list(y_val.unique()))\n",
    "cm = confusion_matrix(y_val, y_pred, labels=label_list)\n",
    "x, y = np.meshgrid(range(cm.shape[0]), range(cm.shape[0]))\n",
    "\n",
    "# Convert this grid to columnar data expected by Altair\n",
    "source = pd.DataFrame({'x': x.ravel(),\n",
    "                     'y': y.ravel(),\n",
    "                     'z': cm.ravel()})\n",
    "\n",
    "for i,label in enumerate(label_list):\n",
    "    source.loc[:, \"x\"] = source.loc[:,\"x\"].replace(i, label)\n",
    "    source.loc[:, \"y\"] = source.loc[:,\"y\"].replace(i, label)\n",
    "\n",
    "\n",
    "\n",
    "base = alt.Chart(source, title=\"Confusion matrix\").encode(\n",
    "    x=alt.X(\"x:O\", axis=alt.Axis(title=\"Predicted\", titlePadding=30)),\n",
    "    y=alt.Y(\"y:O\", axis=alt.Axis(title=\"Ground truth\", titlePadding=30)),\n",
    "    color=alt.value('white')\n",
    "\n",
    ")\n",
    "\n",
    "hm = base.mark_rect(stroke='black')\n",
    "    \n",
    "text = base.mark_text(baseline='middle', size=15).encode(\n",
    "    \n",
    "    text='z:Q',\n",
    "    color=alt.value('black')\n",
    "    \n",
    ")\n",
    "\n",
    "(hm+text).properties(width=300, height=300)"
   ]
  },
  {
   "cell_type": "markdown",
   "metadata": {
    "papermill": {
     "duration": 1.752151,
     "end_time": "2020-11-16T18:56:14.613724",
     "exception": false,
     "start_time": "2020-11-16T18:56:12.861573",
     "status": "completed"
    },
    "tags": []
   },
   "source": [
    "However, what about accuracy and f1-score?"
   ]
  },
  {
   "cell_type": "code",
   "execution_count": 16,
   "metadata": {
    "execution": {
     "iopub.execute_input": "2020-11-16T18:56:18.265040Z",
     "iopub.status.busy": "2020-11-16T18:56:18.264031Z",
     "iopub.status.idle": "2020-11-16T18:56:18.271276Z",
     "shell.execute_reply": "2020-11-16T18:56:18.270355Z"
    },
    "papermill": {
     "duration": 1.887875,
     "end_time": "2020-11-16T18:56:18.271417",
     "exception": false,
     "start_time": "2020-11-16T18:56:16.383542",
     "status": "completed"
    },
    "tags": []
   },
   "outputs": [
    {
     "name": "stdout",
     "output_type": "stream",
     "text": [
      "Accuracy: 0.7473430636247698\n",
      "F1: 0.41648647591013954\n"
     ]
    }
   ],
   "source": [
    "print(\"Accuracy:\", accuracy_score(y_val, y_pred, normalize=True))\n",
    "print(\"F1:\", f1_score(y_val, y_pred, average=\"macro\"))"
   ]
  },
  {
   "cell_type": "markdown",
   "metadata": {
    "papermill": {
     "duration": 1.921285,
     "end_time": "2020-11-16T18:56:22.026634",
     "exception": false,
     "start_time": "2020-11-16T18:56:20.105349",
     "status": "completed"
    },
    "tags": []
   },
   "source": [
    "Not bad, but can be much better. However considering we used basic logistic regression, no hyperparameter optimization at all and basic features (tf-idf) this is a pretty decent result.\n",
    "\n",
    "**How can we improve it?**\n",
    "* Use BERT embeddings, as they are much richer in semantic information compared to tf-idf embeddings\n",
    "* Use a more sophisticated classifier\n",
    "* Feature selection, as tfidf vectors are huge (20k+ features, mostly 0s)\n",
    "* Normalize text before getting the embeddings."
   ]
  },
  {
   "cell_type": "markdown",
   "metadata": {
    "papermill": {
     "duration": 2.001231,
     "end_time": "2020-11-16T18:56:25.787286",
     "exception": false,
     "start_time": "2020-11-16T18:56:23.786055",
     "status": "completed"
    },
    "tags": []
   },
   "source": [
    "---\n",
    "\n",
    "### Testing model on tweets found in the wild"
   ]
  },
  {
   "cell_type": "code",
   "execution_count": 17,
   "metadata": {
    "execution": {
     "iopub.execute_input": "2020-11-16T18:56:29.368835Z",
     "iopub.status.busy": "2020-11-16T18:56:29.364026Z",
     "iopub.status.idle": "2020-11-16T18:56:29.466015Z",
     "shell.execute_reply": "2020-11-16T18:56:29.465399Z"
    },
    "papermill": {
     "duration": 1.884758,
     "end_time": "2020-11-16T18:56:29.466165",
     "exception": false,
     "start_time": "2020-11-16T18:56:27.581407",
     "status": "completed"
    },
    "tags": []
   },
   "outputs": [
    {
     "data": {
      "text/plain": [
       "array(['non', 'grp', 'ind', 'prof', 'prof', 'non'], dtype=object)"
      ]
     },
     "execution_count": 17,
     "metadata": {},
     "output_type": "execute_result"
    }
   ],
   "source": [
    "tweets = [\n",
    "    \"\"\"\"Avrupa'da yollara ücret ödemeyen ancak Türkiye'de otobana 47,50 TL veren gurbetçinin isyanı; 'Ben Avrupa'yı karış karış geziyorum 1 kuruş ödemiyorum, ağlamam geldi , 1 haftada tüm dengem bozuldu. Avrupa Kapıları Açsa Herkes Kaçacak'\" \"\"\",\n",
    "    \"\"\"Araştırmalar köpeklerin #Covid_19'u yüzde 100 doğru olarak tespit ettiğini gösterince Finlandiya Helsinki Havaalanı'nda özel eğitimli Kössi ve Miina adlı #köpek'ler pilot olarak çalışmaya başladı. Umarım hayvanlara zulmedenler bu güzellikten mahrum kalır\"\"\",\n",
    "    \"\"\"Sovyet Tankları Berline girene kadar Almanlar Rusya'yı işgal ettiklerini zannediyordu. Çünkü Alman gazeteleri öyle yazıyordu.\"\"\",\n",
    "    \"\"\"Yalancıyı Eşek siksinmi Avrupada Almanya hariç bütün ülkeler paralı\"\"\",\n",
    "    \"\"\"Yarrana sıçam\"\"\",\n",
    "    \"\"\"200 liraya rakı mı olur orospu çocukları jet yakıtı mı alıyoruz\"\"\"\n",
    "]\n",
    "\n",
    "tweets_embeds = []\n",
    "for tweet in tweets:\n",
    "    d = Doc(tweet)\n",
    "    tweets_embeds.append(csr_matrix(d.tfidf_embeddings.mean(axis=0)))\n",
    "\n",
    "\n",
    "tweets_embeds = vstack(tweets_embeds)\n",
    "tweets_embeds = normalize(tweets_embeds)\n",
    "\n",
    "\n",
    "\n",
    "preds = clf.predict(tweets_embeds)\n",
    "preds"
   ]
  },
  {
   "cell_type": "code",
   "execution_count": 18,
   "metadata": {
    "_kg_hide-input": true,
    "execution": {
     "iopub.execute_input": "2020-11-16T18:56:33.205471Z",
     "iopub.status.busy": "2020-11-16T18:56:33.204409Z",
     "iopub.status.idle": "2020-11-16T18:56:33.207758Z",
     "shell.execute_reply": "2020-11-16T18:56:33.207217Z"
    },
    "papermill": {
     "duration": 1.890104,
     "end_time": "2020-11-16T18:56:33.207884",
     "exception": false,
     "start_time": "2020-11-16T18:56:31.317780",
     "status": "completed"
    },
    "tags": []
   },
   "outputs": [],
   "source": [
    "cls_to_human = {\n",
    "    \"non\": \"Non-offensive\",\n",
    "    \"grp\": \"Offense towards group\",\n",
    "    \"prof\": \"Profanity\",\n",
    "    \"ind\": \"Offense towards individual\",\n",
    "    \"oth\": \"Other profanities\"\n",
    "}"
   ]
  },
  {
   "cell_type": "markdown",
   "metadata": {
    "papermill": {
     "duration": 1.825417,
     "end_time": "2020-11-16T18:56:36.803419",
     "exception": false,
     "start_time": "2020-11-16T18:56:34.978002",
     "status": "completed"
    },
    "tags": []
   },
   "source": [
    "Now, how about we test this on tweets found in the wild and see how our model will perform. 3 tweets non-offensive and 3 tweets of profanity class were picked. *Sadly, I had a hard time finding tweets of other profanity categories.*\n",
    "\n",
    "Here are the tweets (predictions with code cells above tweets and their labels, as labelled by <a style=\"color:green; font-weight:bold\">me</a>):"
   ]
  },
  {
   "cell_type": "code",
   "execution_count": 19,
   "metadata": {
    "_kg_hide-input": true,
    "execution": {
     "iopub.execute_input": "2020-11-16T18:56:40.329216Z",
     "iopub.status.busy": "2020-11-16T18:56:40.327810Z",
     "iopub.status.idle": "2020-11-16T18:56:40.333642Z",
     "shell.execute_reply": "2020-11-16T18:56:40.334564Z"
    },
    "papermill": {
     "duration": 1.763786,
     "end_time": "2020-11-16T18:56:40.334787",
     "exception": false,
     "start_time": "2020-11-16T18:56:38.571001",
     "status": "completed"
    },
    "tags": []
   },
   "outputs": [
    {
     "data": {
      "text/plain": [
       "'Non-offensive'"
      ]
     },
     "execution_count": 19,
     "metadata": {},
     "output_type": "execute_result"
    }
   ],
   "source": [
    "cls_to_human[preds[0]]"
   ]
  },
  {
   "cell_type": "markdown",
   "metadata": {
    "papermill": {
     "duration": 1.719338,
     "end_time": "2020-11-16T18:56:43.924533",
     "exception": false,
     "start_time": "2020-11-16T18:56:42.205195",
     "status": "completed"
    },
    "tags": []
   },
   "source": [
    "<p style=\"background-color:#ebfcff; padding:10px; border:1px solid black; border-radius:1px\">\n",
    "<a style=\"color:green; font-weight:bold\">Non-offensive</a><br>\n",
    "\"Avrupa'da yollara ücret ödemeyen ancak Türkiye'de otobana 47,50 TL veren gurbetçinin isyanı;\n",
    "'Ben Avrupa'yı karış karış geziyorum 1 kuruş ödemiyorum, ağlamam geldi , \n",
    "1 haftada tüm dengem bozuldu. Avrupa Kapıları Açsa Herkes Kaçacak'\"\n",
    "</p>"
   ]
  },
  {
   "cell_type": "code",
   "execution_count": 20,
   "metadata": {
    "_kg_hide-input": true,
    "execution": {
     "iopub.execute_input": "2020-11-16T18:56:47.536573Z",
     "iopub.status.busy": "2020-11-16T18:56:47.535655Z",
     "iopub.status.idle": "2020-11-16T18:56:47.540811Z",
     "shell.execute_reply": "2020-11-16T18:56:47.540094Z"
    },
    "papermill": {
     "duration": 1.823425,
     "end_time": "2020-11-16T18:56:47.540929",
     "exception": false,
     "start_time": "2020-11-16T18:56:45.717504",
     "status": "completed"
    },
    "tags": []
   },
   "outputs": [
    {
     "data": {
      "text/plain": [
       "'Offense towards group'"
      ]
     },
     "execution_count": 20,
     "metadata": {},
     "output_type": "execute_result"
    }
   ],
   "source": [
    "cls_to_human[preds[1]]"
   ]
  },
  {
   "cell_type": "markdown",
   "metadata": {
    "papermill": {
     "duration": 1.702224,
     "end_time": "2020-11-16T18:56:51.018441",
     "exception": false,
     "start_time": "2020-11-16T18:56:49.316217",
     "status": "completed"
    },
    "tags": []
   },
   "source": [
    "<p style=\"background-color:#ebfcff; padding:10px; border:1px solid black; border-radius:1px\">\n",
    "<a style=\"color:green; font-weight:bold\">Non-offensive</a> <br>\n",
    "    Araştırmalar köpeklerin #Covid_19'u yüzde 100 doğru olarak tespit ettiğini gösterince Finlandiya Helsinki Havaalanı'nda özel eğitimli Kössi ve Miina adlı #köpek'ler pilot olarak çalışmaya başladı. Umarım hayvanlara zulmedenler bu güzellikten mahrum kalır\n",
    "</p>\n"
   ]
  },
  {
   "cell_type": "code",
   "execution_count": 21,
   "metadata": {
    "_kg_hide-input": true,
    "execution": {
     "iopub.execute_input": "2020-11-16T18:56:54.803162Z",
     "iopub.status.busy": "2020-11-16T18:56:54.802304Z",
     "iopub.status.idle": "2020-11-16T18:56:54.807601Z",
     "shell.execute_reply": "2020-11-16T18:56:54.806723Z"
    },
    "papermill": {
     "duration": 2.003465,
     "end_time": "2020-11-16T18:56:54.807744",
     "exception": false,
     "start_time": "2020-11-16T18:56:52.804279",
     "status": "completed"
    },
    "tags": []
   },
   "outputs": [
    {
     "data": {
      "text/plain": [
       "'Offense towards individual'"
      ]
     },
     "execution_count": 21,
     "metadata": {},
     "output_type": "execute_result"
    }
   ],
   "source": [
    "cls_to_human[preds[2]]"
   ]
  },
  {
   "cell_type": "markdown",
   "metadata": {
    "papermill": {
     "duration": 1.914996,
     "end_time": "2020-11-16T18:56:58.504065",
     "exception": false,
     "start_time": "2020-11-16T18:56:56.589069",
     "status": "completed"
    },
    "tags": []
   },
   "source": [
    "<p style=\"background-color:#ebfcff; padding:15px; border:1px solid black; border-radius:1px\">\n",
    "<a style=\"color:green; font-weight:bold\">Non-offensive</a> <br>\n",
    "Sovyet Tankları Berline girene kadar Almanlar Rusya'yı işgal ettiklerini zannediyordu. Çünkü Alman gazeteleri öyle yazıyordu.\n",
    "</p>"
   ]
  },
  {
   "cell_type": "code",
   "execution_count": 22,
   "metadata": {
    "_kg_hide-input": true,
    "execution": {
     "iopub.execute_input": "2020-11-16T18:57:02.102349Z",
     "iopub.status.busy": "2020-11-16T18:57:02.101656Z",
     "iopub.status.idle": "2020-11-16T18:57:02.108584Z",
     "shell.execute_reply": "2020-11-16T18:57:02.107931Z"
    },
    "papermill": {
     "duration": 1.823733,
     "end_time": "2020-11-16T18:57:02.108702",
     "exception": false,
     "start_time": "2020-11-16T18:57:00.284969",
     "status": "completed"
    },
    "tags": []
   },
   "outputs": [
    {
     "data": {
      "text/plain": [
       "'Profanity'"
      ]
     },
     "execution_count": 22,
     "metadata": {},
     "output_type": "execute_result"
    }
   ],
   "source": [
    "cls_to_human[preds[3]]"
   ]
  },
  {
   "cell_type": "markdown",
   "metadata": {
    "papermill": {
     "duration": 1.807353,
     "end_time": "2020-11-16T18:57:05.722217",
     "exception": false,
     "start_time": "2020-11-16T18:57:03.914864",
     "status": "completed"
    },
    "tags": []
   },
   "source": [
    "</p>\n",
    "<p style=\"background-color:#ffb0b0; padding:10px; border:1px solid black; border-radius:1px\">\n",
    "<a style=\"color:green; font-weight:bold\">Profanity</a><br>\n",
    "Yalancıyı Eşek siksinmi\n",
    "Avrupada Almanya hariç bütün ülkeler paralı\n",
    "</p>\n"
   ]
  },
  {
   "cell_type": "code",
   "execution_count": 23,
   "metadata": {
    "_kg_hide-input": true,
    "execution": {
     "iopub.execute_input": "2020-11-16T18:57:09.216286Z",
     "iopub.status.busy": "2020-11-16T18:57:09.215488Z",
     "iopub.status.idle": "2020-11-16T18:57:09.220369Z",
     "shell.execute_reply": "2020-11-16T18:57:09.219638Z"
    },
    "papermill": {
     "duration": 1.76838,
     "end_time": "2020-11-16T18:57:09.220493",
     "exception": false,
     "start_time": "2020-11-16T18:57:07.452113",
     "status": "completed"
    },
    "tags": []
   },
   "outputs": [
    {
     "data": {
      "text/plain": [
       "'Profanity'"
      ]
     },
     "execution_count": 23,
     "metadata": {},
     "output_type": "execute_result"
    }
   ],
   "source": [
    "cls_to_human[preds[4]]"
   ]
  },
  {
   "cell_type": "markdown",
   "metadata": {
    "papermill": {
     "duration": 1.812556,
     "end_time": "2020-11-16T18:57:12.761036",
     "exception": false,
     "start_time": "2020-11-16T18:57:10.948480",
     "status": "completed"
    },
    "tags": []
   },
   "source": [
    "<p style=\"background-color:#ffb0b0; padding:10px; border:1px solid black; border-radius:1px\">\n",
    "<a style=\"color:green; font-weight:bold\">Profanity</a><br>\n",
    "    Yarrana sıçam\n",
    "</p>\n"
   ]
  },
  {
   "cell_type": "code",
   "execution_count": 24,
   "metadata": {
    "_kg_hide-input": true,
    "execution": {
     "iopub.execute_input": "2020-11-16T18:57:16.302828Z",
     "iopub.status.busy": "2020-11-16T18:57:16.301775Z",
     "iopub.status.idle": "2020-11-16T18:57:16.306468Z",
     "shell.execute_reply": "2020-11-16T18:57:16.305805Z"
    },
    "papermill": {
     "duration": 1.788729,
     "end_time": "2020-11-16T18:57:16.306588",
     "exception": false,
     "start_time": "2020-11-16T18:57:14.517859",
     "status": "completed"
    },
    "tags": []
   },
   "outputs": [
    {
     "data": {
      "text/plain": [
       "'Non-offensive'"
      ]
     },
     "execution_count": 24,
     "metadata": {},
     "output_type": "execute_result"
    }
   ],
   "source": [
    "cls_to_human[preds[5]]"
   ]
  },
  {
   "cell_type": "markdown",
   "metadata": {
    "papermill": {
     "duration": 1.750096,
     "end_time": "2020-11-16T18:57:19.767000",
     "exception": false,
     "start_time": "2020-11-16T18:57:18.016904",
     "status": "completed"
    },
    "tags": []
   },
   "source": [
    "<p style=\"background-color:#ffb0b0; padding:10px; border:1px solid black; border-radius:1px\">\n",
    "<a style=\"color:green; font-weight:bold\">Profanity</a><br>\n",
    "200 liraya rakı mı olur orospu çocukları jet yakıtı mı alıyoruz\n",
    "</p>"
   ]
  },
  {
   "cell_type": "markdown",
   "metadata": {
    "papermill": {
     "duration": 1.851534,
     "end_time": "2020-11-16T18:57:23.430405",
     "exception": false,
     "start_time": "2020-11-16T18:57:21.578871",
     "status": "completed"
    },
    "tags": []
   },
   "source": [
    "---\n",
    "\n",
    "### References\n",
    "Turkish offensive tweets dataset: https://coltekin.github.io/offensive-turkish\n",
    "\n",
    "Sadedegel: https://sadedegel.ai\n"
   ]
  }
 ],
 "metadata": {
  "kernelspec": {
   "display_name": "Python 3",
   "language": "python",
   "name": "python3"
  },
  "language_info": {
   "codemirror_mode": {
    "name": "ipython",
    "version": 3
   },
   "file_extension": ".py",
   "mimetype": "text/x-python",
   "name": "python",
   "nbconvert_exporter": "python",
   "pygments_lexer": "ipython3",
   "version": "3.8.5"
  },
  "papermill": {
   "duration": 800.303041,
   "end_time": "2020-11-16T18:57:25.590572",
   "environment_variables": {},
   "exception": null,
   "input_path": "__notebook__.ipynb",
   "output_path": "__notebook__.ipynb",
   "parameters": {},
   "start_time": "2020-11-16T18:44:05.287531",
   "version": "2.1.0"
  },
  "widgets": {
   "application/vnd.jupyter.widget-state+json": {
    "state": {
     "0937872294424a23b2eb129d8a4dbe30": {
      "model_module": "@jupyter-widgets/controls",
      "model_module_version": "1.5.0",
      "model_name": "ProgressStyleModel",
      "state": {
       "_model_module": "@jupyter-widgets/controls",
       "_model_module_version": "1.5.0",
       "_model_name": "ProgressStyleModel",
       "_view_count": null,
       "_view_module": "@jupyter-widgets/base",
       "_view_module_version": "1.2.0",
       "_view_name": "StyleView",
       "bar_color": null,
       "description_width": "initial"
      }
     },
     "1df0096a218d438785ce9bf0201fc7ed": {
      "model_module": "@jupyter-widgets/controls",
      "model_module_version": "1.5.0",
      "model_name": "DescriptionStyleModel",
      "state": {
       "_model_module": "@jupyter-widgets/controls",
       "_model_module_version": "1.5.0",
       "_model_name": "DescriptionStyleModel",
       "_view_count": null,
       "_view_module": "@jupyter-widgets/base",
       "_view_module_version": "1.2.0",
       "_view_name": "StyleView",
       "description_width": ""
      }
     },
     "2a4d531f402b4d6a9d5ae8d35a00ac35": {
      "model_module": "@jupyter-widgets/controls",
      "model_module_version": "1.5.0",
      "model_name": "DescriptionStyleModel",
      "state": {
       "_model_module": "@jupyter-widgets/controls",
       "_model_module_version": "1.5.0",
       "_model_name": "DescriptionStyleModel",
       "_view_count": null,
       "_view_module": "@jupyter-widgets/base",
       "_view_module_version": "1.2.0",
       "_view_name": "StyleView",
       "description_width": ""
      }
     },
     "2b10e67b237842d8a900ee028c90db4f": {
      "model_module": "@jupyter-widgets/base",
      "model_module_version": "1.2.0",
      "model_name": "LayoutModel",
      "state": {
       "_model_module": "@jupyter-widgets/base",
       "_model_module_version": "1.2.0",
       "_model_name": "LayoutModel",
       "_view_count": null,
       "_view_module": "@jupyter-widgets/base",
       "_view_module_version": "1.2.0",
       "_view_name": "LayoutView",
       "align_content": null,
       "align_items": null,
       "align_self": null,
       "border": null,
       "bottom": null,
       "display": null,
       "flex": null,
       "flex_flow": null,
       "grid_area": null,
       "grid_auto_columns": null,
       "grid_auto_flow": null,
       "grid_auto_rows": null,
       "grid_column": null,
       "grid_gap": null,
       "grid_row": null,
       "grid_template_areas": null,
       "grid_template_columns": null,
       "grid_template_rows": null,
       "height": null,
       "justify_content": null,
       "justify_items": null,
       "left": null,
       "margin": null,
       "max_height": null,
       "max_width": null,
       "min_height": null,
       "min_width": null,
       "object_fit": null,
       "object_position": null,
       "order": null,
       "overflow": null,
       "overflow_x": null,
       "overflow_y": null,
       "padding": null,
       "right": null,
       "top": null,
       "visibility": null,
       "width": null
      }
     },
     "2d2a8b1a4d584c72b2e9f5a5a4cb3d9b": {
      "model_module": "@jupyter-widgets/base",
      "model_module_version": "1.2.0",
      "model_name": "LayoutModel",
      "state": {
       "_model_module": "@jupyter-widgets/base",
       "_model_module_version": "1.2.0",
       "_model_name": "LayoutModel",
       "_view_count": null,
       "_view_module": "@jupyter-widgets/base",
       "_view_module_version": "1.2.0",
       "_view_name": "LayoutView",
       "align_content": null,
       "align_items": null,
       "align_self": null,
       "border": null,
       "bottom": null,
       "display": null,
       "flex": null,
       "flex_flow": null,
       "grid_area": null,
       "grid_auto_columns": null,
       "grid_auto_flow": null,
       "grid_auto_rows": null,
       "grid_column": null,
       "grid_gap": null,
       "grid_row": null,
       "grid_template_areas": null,
       "grid_template_columns": null,
       "grid_template_rows": null,
       "height": null,
       "justify_content": null,
       "justify_items": null,
       "left": null,
       "margin": null,
       "max_height": null,
       "max_width": null,
       "min_height": null,
       "min_width": null,
       "object_fit": null,
       "object_position": null,
       "order": null,
       "overflow": null,
       "overflow_x": null,
       "overflow_y": null,
       "padding": null,
       "right": null,
       "top": null,
       "visibility": null,
       "width": null
      }
     },
     "3706620297ea46d68f1114f5a0e03fb5": {
      "model_module": "@jupyter-widgets/controls",
      "model_module_version": "1.5.0",
      "model_name": "HBoxModel",
      "state": {
       "_dom_classes": [],
       "_model_module": "@jupyter-widgets/controls",
       "_model_module_version": "1.5.0",
       "_model_name": "HBoxModel",
       "_view_count": null,
       "_view_module": "@jupyter-widgets/controls",
       "_view_module_version": "1.5.0",
       "_view_name": "HBoxView",
       "box_style": "",
       "children": [
        "IPY_MODEL_c9d74bfa757c43cf892e276a0f718b8b",
        "IPY_MODEL_c2cce77a3bda4480a7d6edb35c87bc9e"
       ],
       "layout": "IPY_MODEL_2b10e67b237842d8a900ee028c90db4f"
      }
     },
     "4147579a7f504c15ab45851f1849991e": {
      "model_module": "@jupyter-widgets/controls",
      "model_module_version": "1.5.0",
      "model_name": "DescriptionStyleModel",
      "state": {
       "_model_module": "@jupyter-widgets/controls",
       "_model_module_version": "1.5.0",
       "_model_name": "DescriptionStyleModel",
       "_view_count": null,
       "_view_module": "@jupyter-widgets/base",
       "_view_module_version": "1.2.0",
       "_view_name": "StyleView",
       "description_width": ""
      }
     },
     "510c234d33c44b47928f539950b5a16f": {
      "model_module": "@jupyter-widgets/base",
      "model_module_version": "1.2.0",
      "model_name": "LayoutModel",
      "state": {
       "_model_module": "@jupyter-widgets/base",
       "_model_module_version": "1.2.0",
       "_model_name": "LayoutModel",
       "_view_count": null,
       "_view_module": "@jupyter-widgets/base",
       "_view_module_version": "1.2.0",
       "_view_name": "LayoutView",
       "align_content": null,
       "align_items": null,
       "align_self": null,
       "border": null,
       "bottom": null,
       "display": null,
       "flex": null,
       "flex_flow": null,
       "grid_area": null,
       "grid_auto_columns": null,
       "grid_auto_flow": null,
       "grid_auto_rows": null,
       "grid_column": null,
       "grid_gap": null,
       "grid_row": null,
       "grid_template_areas": null,
       "grid_template_columns": null,
       "grid_template_rows": null,
       "height": null,
       "justify_content": null,
       "justify_items": null,
       "left": null,
       "margin": null,
       "max_height": null,
       "max_width": null,
       "min_height": null,
       "min_width": null,
       "object_fit": null,
       "object_position": null,
       "order": null,
       "overflow": null,
       "overflow_x": null,
       "overflow_y": null,
       "padding": null,
       "right": null,
       "top": null,
       "visibility": null,
       "width": null
      }
     },
     "518598da51504947afc49a55e29383d4": {
      "model_module": "@jupyter-widgets/controls",
      "model_module_version": "1.5.0",
      "model_name": "HTMLModel",
      "state": {
       "_dom_classes": [],
       "_model_module": "@jupyter-widgets/controls",
       "_model_module_version": "1.5.0",
       "_model_name": "HTMLModel",
       "_view_count": null,
       "_view_module": "@jupyter-widgets/controls",
       "_view_module_version": "1.5.0",
       "_view_name": "HTMLView",
       "description": "",
       "description_tooltip": null,
       "layout": "IPY_MODEL_8d85b98932a345838c396b4cfd6c587f",
       "placeholder": "​",
       "style": "IPY_MODEL_4147579a7f504c15ab45851f1849991e",
       "value": " 60.0/60.0 [00:00&lt;00:00, 105B/s]"
      }
     },
     "602bc845912f43baa38b0de22ac19dec": {
      "model_module": "@jupyter-widgets/base",
      "model_module_version": "1.2.0",
      "model_name": "LayoutModel",
      "state": {
       "_model_module": "@jupyter-widgets/base",
       "_model_module_version": "1.2.0",
       "_model_name": "LayoutModel",
       "_view_count": null,
       "_view_module": "@jupyter-widgets/base",
       "_view_module_version": "1.2.0",
       "_view_name": "LayoutView",
       "align_content": null,
       "align_items": null,
       "align_self": null,
       "border": null,
       "bottom": null,
       "display": null,
       "flex": null,
       "flex_flow": null,
       "grid_area": null,
       "grid_auto_columns": null,
       "grid_auto_flow": null,
       "grid_auto_rows": null,
       "grid_column": null,
       "grid_gap": null,
       "grid_row": null,
       "grid_template_areas": null,
       "grid_template_columns": null,
       "grid_template_rows": null,
       "height": null,
       "justify_content": null,
       "justify_items": null,
       "left": null,
       "margin": null,
       "max_height": null,
       "max_width": null,
       "min_height": null,
       "min_width": null,
       "object_fit": null,
       "object_position": null,
       "order": null,
       "overflow": null,
       "overflow_x": null,
       "overflow_y": null,
       "padding": null,
       "right": null,
       "top": null,
       "visibility": null,
       "width": null
      }
     },
     "6c7283f6f4fd4f5582dbfdb28bd30f24": {
      "model_module": "@jupyter-widgets/controls",
      "model_module_version": "1.5.0",
      "model_name": "ProgressStyleModel",
      "state": {
       "_model_module": "@jupyter-widgets/controls",
       "_model_module_version": "1.5.0",
       "_model_name": "ProgressStyleModel",
       "_view_count": null,
       "_view_module": "@jupyter-widgets/base",
       "_view_module_version": "1.2.0",
       "_view_name": "StyleView",
       "bar_color": null,
       "description_width": "initial"
      }
     },
     "8d85b98932a345838c396b4cfd6c587f": {
      "model_module": "@jupyter-widgets/base",
      "model_module_version": "1.2.0",
      "model_name": "LayoutModel",
      "state": {
       "_model_module": "@jupyter-widgets/base",
       "_model_module_version": "1.2.0",
       "_model_name": "LayoutModel",
       "_view_count": null,
       "_view_module": "@jupyter-widgets/base",
       "_view_module_version": "1.2.0",
       "_view_name": "LayoutView",
       "align_content": null,
       "align_items": null,
       "align_self": null,
       "border": null,
       "bottom": null,
       "display": null,
       "flex": null,
       "flex_flow": null,
       "grid_area": null,
       "grid_auto_columns": null,
       "grid_auto_flow": null,
       "grid_auto_rows": null,
       "grid_column": null,
       "grid_gap": null,
       "grid_row": null,
       "grid_template_areas": null,
       "grid_template_columns": null,
       "grid_template_rows": null,
       "height": null,
       "justify_content": null,
       "justify_items": null,
       "left": null,
       "margin": null,
       "max_height": null,
       "max_width": null,
       "min_height": null,
       "min_width": null,
       "object_fit": null,
       "object_position": null,
       "order": null,
       "overflow": null,
       "overflow_x": null,
       "overflow_y": null,
       "padding": null,
       "right": null,
       "top": null,
       "visibility": null,
       "width": null
      }
     },
     "9fa2a34944c240388a38f65f5c055034": {
      "model_module": "@jupyter-widgets/base",
      "model_module_version": "1.2.0",
      "model_name": "LayoutModel",
      "state": {
       "_model_module": "@jupyter-widgets/base",
       "_model_module_version": "1.2.0",
       "_model_name": "LayoutModel",
       "_view_count": null,
       "_view_module": "@jupyter-widgets/base",
       "_view_module_version": "1.2.0",
       "_view_name": "LayoutView",
       "align_content": null,
       "align_items": null,
       "align_self": null,
       "border": null,
       "bottom": null,
       "display": null,
       "flex": null,
       "flex_flow": null,
       "grid_area": null,
       "grid_auto_columns": null,
       "grid_auto_flow": null,
       "grid_auto_rows": null,
       "grid_column": null,
       "grid_gap": null,
       "grid_row": null,
       "grid_template_areas": null,
       "grid_template_columns": null,
       "grid_template_rows": null,
       "height": null,
       "justify_content": null,
       "justify_items": null,
       "left": null,
       "margin": null,
       "max_height": null,
       "max_width": null,
       "min_height": null,
       "min_width": null,
       "object_fit": null,
       "object_position": null,
       "order": null,
       "overflow": null,
       "overflow_x": null,
       "overflow_y": null,
       "padding": null,
       "right": null,
       "top": null,
       "visibility": null,
       "width": null
      }
     },
     "aa021dd5e712458d909879511ca9f47c": {
      "model_module": "@jupyter-widgets/controls",
      "model_module_version": "1.5.0",
      "model_name": "HBoxModel",
      "state": {
       "_dom_classes": [],
       "_model_module": "@jupyter-widgets/controls",
       "_model_module_version": "1.5.0",
       "_model_name": "HBoxModel",
       "_view_count": null,
       "_view_module": "@jupyter-widgets/controls",
       "_view_module_version": "1.5.0",
       "_view_name": "HBoxView",
       "box_style": "",
       "children": [
        "IPY_MODEL_ed02778d31d04ba7832c78d3ac815ed7",
        "IPY_MODEL_518598da51504947afc49a55e29383d4"
       ],
       "layout": "IPY_MODEL_f74e733059f44769a2b0b7e988b605a4"
      }
     },
     "bef10ab669d9488d870ba4a50de58f0e": {
      "model_module": "@jupyter-widgets/controls",
      "model_module_version": "1.5.0",
      "model_name": "HTMLModel",
      "state": {
       "_dom_classes": [],
       "_model_module": "@jupyter-widgets/controls",
       "_model_module_version": "1.5.0",
       "_model_name": "HTMLModel",
       "_view_count": null,
       "_view_module": "@jupyter-widgets/controls",
       "_view_module_version": "1.5.0",
       "_view_name": "HTMLView",
       "description": "",
       "description_tooltip": null,
       "layout": "IPY_MODEL_e8edc0ffa01c4405bf9afe1e358b8679",
       "placeholder": "​",
       "style": "IPY_MODEL_1df0096a218d438785ce9bf0201fc7ed",
       "value": " 385/385 [00:00&lt;00:00, 12.0kB/s]"
      }
     },
     "c15fc47771c74a438ee2b6bf61a9e462": {
      "model_module": "@jupyter-widgets/controls",
      "model_module_version": "1.5.0",
      "model_name": "ProgressStyleModel",
      "state": {
       "_model_module": "@jupyter-widgets/controls",
       "_model_module_version": "1.5.0",
       "_model_name": "ProgressStyleModel",
       "_view_count": null,
       "_view_module": "@jupyter-widgets/base",
       "_view_module_version": "1.2.0",
       "_view_name": "StyleView",
       "bar_color": null,
       "description_width": "initial"
      }
     },
     "c2cce77a3bda4480a7d6edb35c87bc9e": {
      "model_module": "@jupyter-widgets/controls",
      "model_module_version": "1.5.0",
      "model_name": "HTMLModel",
      "state": {
       "_dom_classes": [],
       "_model_module": "@jupyter-widgets/controls",
       "_model_module_version": "1.5.0",
       "_model_name": "HTMLModel",
       "_view_count": null,
       "_view_module": "@jupyter-widgets/controls",
       "_view_module_version": "1.5.0",
       "_view_name": "HTMLView",
       "description": "",
       "description_tooltip": null,
       "layout": "IPY_MODEL_510c234d33c44b47928f539950b5a16f",
       "placeholder": "​",
       "style": "IPY_MODEL_2a4d531f402b4d6a9d5ae8d35a00ac35",
       "value": " 251k/251k [00:02&lt;00:00, 112kB/s]"
      }
     },
     "c449b1765d7d4a6ba3721aad96caf7b2": {
      "model_module": "@jupyter-widgets/controls",
      "model_module_version": "1.5.0",
      "model_name": "HBoxModel",
      "state": {
       "_dom_classes": [],
       "_model_module": "@jupyter-widgets/controls",
       "_model_module_version": "1.5.0",
       "_model_name": "HBoxModel",
       "_view_count": null,
       "_view_module": "@jupyter-widgets/controls",
       "_view_module_version": "1.5.0",
       "_view_name": "HBoxView",
       "box_style": "",
       "children": [
        "IPY_MODEL_d49d0cbcef424f19b5cdb301bf1796c8",
        "IPY_MODEL_bef10ab669d9488d870ba4a50de58f0e"
       ],
       "layout": "IPY_MODEL_2d2a8b1a4d584c72b2e9f5a5a4cb3d9b"
      }
     },
     "c9d74bfa757c43cf892e276a0f718b8b": {
      "model_module": "@jupyter-widgets/controls",
      "model_module_version": "1.5.0",
      "model_name": "FloatProgressModel",
      "state": {
       "_dom_classes": [],
       "_model_module": "@jupyter-widgets/controls",
       "_model_module_version": "1.5.0",
       "_model_name": "FloatProgressModel",
       "_view_count": null,
       "_view_module": "@jupyter-widgets/controls",
       "_view_module_version": "1.5.0",
       "_view_name": "ProgressView",
       "bar_style": "success",
       "description": "Downloading: 100%",
       "description_tooltip": null,
       "layout": "IPY_MODEL_602bc845912f43baa38b0de22ac19dec",
       "max": 251003,
       "min": 0,
       "orientation": "horizontal",
       "style": "IPY_MODEL_c15fc47771c74a438ee2b6bf61a9e462",
       "value": 251003
      }
     },
     "d49d0cbcef424f19b5cdb301bf1796c8": {
      "model_module": "@jupyter-widgets/controls",
      "model_module_version": "1.5.0",
      "model_name": "FloatProgressModel",
      "state": {
       "_dom_classes": [],
       "_model_module": "@jupyter-widgets/controls",
       "_model_module_version": "1.5.0",
       "_model_name": "FloatProgressModel",
       "_view_count": null,
       "_view_module": "@jupyter-widgets/controls",
       "_view_module_version": "1.5.0",
       "_view_name": "ProgressView",
       "bar_style": "success",
       "description": "Downloading: 100%",
       "description_tooltip": null,
       "layout": "IPY_MODEL_9fa2a34944c240388a38f65f5c055034",
       "max": 385,
       "min": 0,
       "orientation": "horizontal",
       "style": "IPY_MODEL_6c7283f6f4fd4f5582dbfdb28bd30f24",
       "value": 385
      }
     },
     "d5a36acf40124672adf816085cdebf05": {
      "model_module": "@jupyter-widgets/base",
      "model_module_version": "1.2.0",
      "model_name": "LayoutModel",
      "state": {
       "_model_module": "@jupyter-widgets/base",
       "_model_module_version": "1.2.0",
       "_model_name": "LayoutModel",
       "_view_count": null,
       "_view_module": "@jupyter-widgets/base",
       "_view_module_version": "1.2.0",
       "_view_name": "LayoutView",
       "align_content": null,
       "align_items": null,
       "align_self": null,
       "border": null,
       "bottom": null,
       "display": null,
       "flex": null,
       "flex_flow": null,
       "grid_area": null,
       "grid_auto_columns": null,
       "grid_auto_flow": null,
       "grid_auto_rows": null,
       "grid_column": null,
       "grid_gap": null,
       "grid_row": null,
       "grid_template_areas": null,
       "grid_template_columns": null,
       "grid_template_rows": null,
       "height": null,
       "justify_content": null,
       "justify_items": null,
       "left": null,
       "margin": null,
       "max_height": null,
       "max_width": null,
       "min_height": null,
       "min_width": null,
       "object_fit": null,
       "object_position": null,
       "order": null,
       "overflow": null,
       "overflow_x": null,
       "overflow_y": null,
       "padding": null,
       "right": null,
       "top": null,
       "visibility": null,
       "width": null
      }
     },
     "e8edc0ffa01c4405bf9afe1e358b8679": {
      "model_module": "@jupyter-widgets/base",
      "model_module_version": "1.2.0",
      "model_name": "LayoutModel",
      "state": {
       "_model_module": "@jupyter-widgets/base",
       "_model_module_version": "1.2.0",
       "_model_name": "LayoutModel",
       "_view_count": null,
       "_view_module": "@jupyter-widgets/base",
       "_view_module_version": "1.2.0",
       "_view_name": "LayoutView",
       "align_content": null,
       "align_items": null,
       "align_self": null,
       "border": null,
       "bottom": null,
       "display": null,
       "flex": null,
       "flex_flow": null,
       "grid_area": null,
       "grid_auto_columns": null,
       "grid_auto_flow": null,
       "grid_auto_rows": null,
       "grid_column": null,
       "grid_gap": null,
       "grid_row": null,
       "grid_template_areas": null,
       "grid_template_columns": null,
       "grid_template_rows": null,
       "height": null,
       "justify_content": null,
       "justify_items": null,
       "left": null,
       "margin": null,
       "max_height": null,
       "max_width": null,
       "min_height": null,
       "min_width": null,
       "object_fit": null,
       "object_position": null,
       "order": null,
       "overflow": null,
       "overflow_x": null,
       "overflow_y": null,
       "padding": null,
       "right": null,
       "top": null,
       "visibility": null,
       "width": null
      }
     },
     "ed02778d31d04ba7832c78d3ac815ed7": {
      "model_module": "@jupyter-widgets/controls",
      "model_module_version": "1.5.0",
      "model_name": "FloatProgressModel",
      "state": {
       "_dom_classes": [],
       "_model_module": "@jupyter-widgets/controls",
       "_model_module_version": "1.5.0",
       "_model_name": "FloatProgressModel",
       "_view_count": null,
       "_view_module": "@jupyter-widgets/controls",
       "_view_module_version": "1.5.0",
       "_view_name": "ProgressView",
       "bar_style": "success",
       "description": "Downloading: 100%",
       "description_tooltip": null,
       "layout": "IPY_MODEL_d5a36acf40124672adf816085cdebf05",
       "max": 60,
       "min": 0,
       "orientation": "horizontal",
       "style": "IPY_MODEL_0937872294424a23b2eb129d8a4dbe30",
       "value": 60
      }
     },
     "f74e733059f44769a2b0b7e988b605a4": {
      "model_module": "@jupyter-widgets/base",
      "model_module_version": "1.2.0",
      "model_name": "LayoutModel",
      "state": {
       "_model_module": "@jupyter-widgets/base",
       "_model_module_version": "1.2.0",
       "_model_name": "LayoutModel",
       "_view_count": null,
       "_view_module": "@jupyter-widgets/base",
       "_view_module_version": "1.2.0",
       "_view_name": "LayoutView",
       "align_content": null,
       "align_items": null,
       "align_self": null,
       "border": null,
       "bottom": null,
       "display": null,
       "flex": null,
       "flex_flow": null,
       "grid_area": null,
       "grid_auto_columns": null,
       "grid_auto_flow": null,
       "grid_auto_rows": null,
       "grid_column": null,
       "grid_gap": null,
       "grid_row": null,
       "grid_template_areas": null,
       "grid_template_columns": null,
       "grid_template_rows": null,
       "height": null,
       "justify_content": null,
       "justify_items": null,
       "left": null,
       "margin": null,
       "max_height": null,
       "max_width": null,
       "min_height": null,
       "min_width": null,
       "object_fit": null,
       "object_position": null,
       "order": null,
       "overflow": null,
       "overflow_x": null,
       "overflow_y": null,
       "padding": null,
       "right": null,
       "top": null,
       "visibility": null,
       "width": null
      }
     }
    },
    "version_major": 2,
    "version_minor": 0
   }
  }
 },
 "nbformat": 4,
 "nbformat_minor": 4
}
