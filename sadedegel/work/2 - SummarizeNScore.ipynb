{
 "cells": [
  {
   "cell_type": "code",
   "execution_count": 27,
   "metadata": {},
   "outputs": [],
   "source": [
    "from transformers import AutoModel, AutoTokenizer,BertModel\n",
    "import pandas as pd\n",
    "import numpy as np\n",
    "from _summ import AnnotatedExtractiveSummarizer, JsonFileTokenizer"
   ]
  },
  {
   "cell_type": "code",
   "execution_count": 2,
   "metadata": {},
   "outputs": [],
   "source": [
    "tokenizer = AutoTokenizer.from_pretrained(\"dbmdz/bert-base-turkish-cased\")\n",
    "model = BertModel.from_pretrained(\"dbmdz/bert-base-turkish-cased\",output_hidden_states = True)"
   ]
  },
  {
   "cell_type": "code",
   "execution_count": 23,
   "metadata": {},
   "outputs": [],
   "source": [
    "summarizer = AnnotatedExtractiveSummarizer(tokenizer,model,k=4,layers=[11],random_state=42,doEval=True)"
   ]
  },
  {
   "cell_type": "code",
   "execution_count": 34,
   "metadata": {},
   "outputs": [],
   "source": [
    "jfile = 'Labeled/bitmemis-evlilikler-375881_labeled.json'\n"
   ]
  },
  {
   "cell_type": "code",
   "execution_count": 24,
   "metadata": {},
   "outputs": [],
   "source": [
    "summary = summarizer.summarize(jfile)"
   ]
  },
  {
   "cell_type": "code",
   "execution_count": 67,
   "metadata": {},
   "outputs": [
    {
     "output_type": "execute_result",
     "data": {
      "text/plain": "0.2433"
     },
     "metadata": {},
     "execution_count": 67
    }
   ],
   "source": [
    "summarizer.score().astype(np.float16)"
   ]
  },
  {
   "cell_type": "code",
   "execution_count": 21,
   "metadata": {},
   "outputs": [
    {
     "data": {
      "text/plain": [
       "['300-330 1 Kasım 2016 PAYLAŞ Yorum yaz A Belki iki senedir adaylarda farklılıklar olmakla beraber her şeye rağmen Clinton’un başkan seçileceğine dair kanaatim vardı.',\n",
       " 'Tabii ki bunu her defasında ifade ederken “şartlarda beklenmedik gelişmeler olmaması” durumunda sözümü eklemiştim.',\n",
       " 'Yine kanaatimce Trump’ın Cumhuriyetçi Parti adayı olması bir sürprizdi.',\n",
       " 'Trump’ın adaylığı kimsenin beklemediği, ama Clinton’un yarıştaki şansını daha da arttıran bir hadise oldu.',\n",
       " 'Ancak şu gerçeği de unutmamak lazım; Clinton çok sevilen, çok desteklenen ya da istisnasız herkesin arkasında olmazsa olmaz diyerek durduğu bir aday olmadı hiçbir zaman.',\n",
       " 'Buna rağmen Trump’ın Clinton’un rakibi olarak ön seçimlerden çıkması Clinton’a avantaj sağladı.',\n",
       " 'Yaşanan gelişmeler ve seçime bir hafta kala geldiğimiz durumda da Clinton anketlerde Trump’ın önünde seyretmekte.',\n",
       " 'Tabii ki geçen haftaya göre aralarındaki fark daha da azaldı.',\n",
       " 'Bu azalmanın nedeninin Clinton’un e-maillerinin tekrar soruşturmaya alınması olduğunu zaten artık herkes biliyor.',\n",
       " 'Son yazımda da ifade ettiğim kanaatim, Clinton’un bu seçimi 300-330 bandında bir elektoral oy ile kazanacağı idi.',\n",
       " 'Peki, bu kanaatim hangi faktörler ışığında oluştu?',\n",
       " 'Eyaletlerdeki anketlerin ortalamaları, Amerika’daki son sekiz seçimdir seyreden seçmen davranışı, demografik olarak adayların destek aldığı oy kitlelerinin son sekiz seçim dönemine göre eyalet bazlı hareketleri, diğer iki başkan adayının iki büyük parti adayından eyalet bazında alacağı oylar ve bunun Seçiciler Kurulu’na etkisini göz önünde bulundurdum.',\n",
       " 'Ayrıca yaşanan son hadiselerin eyalet bazlı seçmen davranışına etkisini de hesaba katmak gerekti.',\n",
       " 'Bunlar ve bunlar gibi hadiseleri değerlendirdiğimizde karşımıza 300-330 bandında bir Clinton galibiyeti çıkıyordu.',\n",
       " 'Bu hafta ABD Kongresi’nde senatörlük ve Temsilciler Meclisi üyeliği yapmış birçok isimle görüştüm.',\n",
       " 'Bilhassa Cumhuriyetçi partili olanlarla fikrimi paylaştığımda Trump’ın seçimi kazanacağını söylediler.',\n",
       " 'Bu kimselerin Cumhuriyetçi olması Trump’ın destekçisi oldukları anlamına gelmez.',\n",
       " 'Bu ayrıntı kanaatimce büyük önem arz ediyor.',\n",
       " 'Objektif olduğuna inandıklarım Trump’ın kazanacağını savunurken ve benim 300-330 bandı yorumumu yanlış bulurken karşıma şu tezler ile çıktılar: \\xa0 1) Anketler Brexit’te yanıldı.',\n",
       " 'Anketlerin Kentucky seçimlerinde 10 puan önde gösterdikleri aday değil, diğer aday 10 puanla kazandı.',\n",
       " 'Yani anketler artık eskisi kadar gerçekleri birebir yansıtmıyor.',\n",
       " 'Çünkü oy verme alışkanlığı olmayan seçmeni hesap edemiyorlar.',\n",
       " '2) İnsanlar sistemden ve sistemin Washington dukalığının içinde olanlardan sıkıldılar.',\n",
       " 'Bu sıkkınlık karşısında Trump’a yöneliyorlar ve Hillary ise tam anlamıyla bu statükoyu temsil ediyor.',\n",
       " 'Yani seçmen alışkanlığı\\xa0 olmayan seçmen de bu seçimlerde sistem dışı oy kullanarak Trump’ı seçer.',\n",
       " '3) Clinton’un e-mail davasının yeniden açılması aradaki farkı azalttı.',\n",
       " 'Bu fark seçime kadar kapanır ve hatta Trump öne geçer.',\n",
       " 'Kanaatimce yukarıdaki söylemlerin seçmeni nasıl etkileyeceği hala tartışmaya açıktır.',\n",
       " 'Çünkü Hillary sevilmeyen bir aday olabilir, ama Trump’ın da ABD vatandaşlarının bir kahramanı olduğunu söylemek zor.',\n",
       " 'Büyük eksilerle yola çıkmış iki adayın savaşı bu.',\n",
       " 'Beni asıl düşündüren eyalet bazlı anketlerdeki bazı oynamalar.',\n",
       " 'Mesela benim seçime istinaden en büyük iddiam daha evvelki yazılarımda da bahsettiğim gibi Florida eyaleti.',\n",
       " 'Clinton Florida’yı alırsa büyük ihtimalle iş biter, ama Trump Florida’yı alamazsa işi çok zor.',\n",
       " 'Florida’da son bir aydır Clinton, Trump’ın hep önündeydi.',\n",
       " 'Ancak Remington Research ve NY Times/Siena firmalarının son anketlerinde ilk kez Trump dört puan farkla Clinton’un önüne geçti.',\n",
       " 'Gerçi bu iki firmanın anketlerinden iki hafta önceki anketlerde de diğer şirketler Clinton’u dört beş puan önde gösterirken\\xa0 bu firmalar eşit ya da bir puan geride gösteriyordu.',\n",
       " 'Bu yazıyı Washington’da yazdığım sırada Trump, 1988 senesinden beri Cumhuriyetçi bir başkana oy vermemiş Michigan eyaletini almak üzereydi.',\n",
       " 'Florida’da öne geçmişti.',\n",
       " 'Pensilvanya ve Ohio’da farkı iyice azaltmıştı.',\n",
       " 'Clinton’un e-mail meselesi git gide büyüyordu ve artık konuştuğum kimse net bir şey söylemeye yanaşmıyordu.',\n",
       " 'Şu anda Washington’da Trump’ın başkanlığı havası hakim olmaya başladı.',\n",
       " 'Demokratlar ciddi anlamda endişeliler.',\n",
       " 'Artık herkesin ağzında “her şey o gece belli olacak, ucu ucuna bir seçim geçecek” söylemleri hakim.',\n",
       " 'Bir öğreti vardır, her şey net olmadan yazma ve söyleme diye.',\n",
       " 'Bu sebeple herkes, gidişat çok yakın ve her şey olabilir diye konuşur.',\n",
       " 'Tabii ki öyle, ama hala yaptığımız tüm analizlerin değişme ihtimali olmasıyla birlikte Clinton’un seçimi her şeye rağmen 300-330 bandında alacağını düşünüyorum.',\n",
       " 'Hem de şu an Amerika’da hakim olmaya başlayan Trump başkan olmaya yakın ortamının tam da göbeğinde.']"
      ]
     },
     "execution_count": 21,
     "metadata": {},
     "output_type": "execute_result"
    }
   ],
   "source": [
    "#Full Text\n",
    "summarizer._jsonTokenizer.sentences"
   ]
  },
  {
   "cell_type": "code",
   "execution_count": null,
   "metadata": {},
   "outputs": [],
   "source": []
  }
 ],
 "metadata": {
  "kernelspec": {
   "display_name": "Python 3",
   "language": "python",
   "name": "python3"
  },
  "language_info": {
   "codemirror_mode": {
    "name": "ipython",
    "version": 3
   },
   "file_extension": ".py",
   "mimetype": "text/x-python",
   "name": "python",
   "nbconvert_exporter": "python",
   "pygments_lexer": "ipython3",
   "version": "3.7.6-final"
  }
 },
 "nbformat": 4,
 "nbformat_minor": 4
}