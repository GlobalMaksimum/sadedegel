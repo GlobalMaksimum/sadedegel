{
 "cells": [
  {
   "cell_type": "code",
   "execution_count": 11,
   "metadata": {},
   "outputs": [],
   "source": [
    "import numpy as np\n",
    "import pandas as pd\n",
    "import json\n",
    "from transformers import AutoModel, AutoTokenizer,BertModel\n",
    "from summ import AnnotatedExtractiveSummarizer\n",
    "import os\n",
    "import altair as alt"
   ]
  },
  {
   "cell_type": "code",
   "execution_count": 12,
   "metadata": {},
   "outputs": [],
   "source": [
    "jsons_dir = 'Labeled'\n",
    "labeled = os.listdir(jsons_dir)"
   ]
  },
  {
   "cell_type": "code",
   "execution_count": 13,
   "metadata": {},
   "outputs": [],
   "source": [
    "tokenizer = AutoTokenizer.from_pretrained(\"dbmdz/bert-base-turkish-cased\")\n",
    "model = BertModel.from_pretrained(\"dbmdz/bert-base-turkish-cased\",output_hidden_states = True)"
   ]
  },
  {
   "cell_type": "code",
   "execution_count": 14,
   "metadata": {},
   "outputs": [
    {
     "name": "stdout",
     "output_type": "stream",
     "text": [
      "Summary Length 1\n",
      "Summary Length 2\n",
      "Summary Length 3\n",
      "Summary Length 4\n",
      "Summary Length 5\n",
      "Summary Length 6\n",
      "Summary Length 7\n",
      "Summary Length 8\n",
      "Summary Length 9\n",
      "Summary Length 10\n",
      "Summary Length 11\n",
      "Summary Length 12\n",
      "Summary Length 13\n",
      "Summary Length 14\n",
      "Summary Length 15\n",
      "Summary Length 16\n",
      "Summary Length 17\n",
      "Summary Length 18\n",
      "Summary Length 19\n",
      "Summary Length 20\n"
     ]
    }
   ],
   "source": [
    "lens = []\n",
    "for k in range(1,21):\n",
    "    print(f'Summary Length {k}')\n",
    "    scores = []\n",
    "    for i,path in enumerate(labeled):\n",
    "        summarizer = AnnotatedExtractiveSummarizer(tokenizer,model,k=k,layers=[2,3,8],random_state=15,doEval=True)\n",
    "        jpath = f'{jsons_dir}/{path}'\n",
    "        summary = summarizer.summarize(jpath)\n",
    "        scores.append(summarizer.score())\n",
    "    lens.append(scores)"
   ]
  },
  {
   "cell_type": "code",
   "execution_count": 15,
   "metadata": {},
   "outputs": [],
   "source": [
    "all_scores_k = np.array(lens)"
   ]
  },
  {
   "cell_type": "code",
   "execution_count": 16,
   "metadata": {},
   "outputs": [
    {
     "data": {
      "text/plain": [
       "(20, 97)"
      ]
     },
     "execution_count": 16,
     "metadata": {},
     "output_type": "execute_result"
    }
   ],
   "source": [
    "all_scores_k.shape"
   ]
  },
  {
   "cell_type": "code",
   "execution_count": 17,
   "metadata": {},
   "outputs": [],
   "source": [
    "source_k = pd.DataFrame({'k':[i for i in range(1,all_scores_k.shape[0]+1)],'y':np.mean(all_scores_k,axis=1),'yerr':np.std(all_scores_k,axis=1)})"
   ]
  },
  {
   "cell_type": "code",
   "execution_count": 18,
   "metadata": {},
   "outputs": [
    {
     "data": {
      "text/html": [
       "\n",
       "<div id=\"altair-viz-3b562fb2a20e4d26836fa19221c829b3\"></div>\n",
       "<script type=\"text/javascript\">\n",
       "  (function(spec, embedOpt){\n",
       "    let outputDiv = document.currentScript.previousElementSibling;\n",
       "    if (outputDiv.id !== \"altair-viz-3b562fb2a20e4d26836fa19221c829b3\") {\n",
       "      outputDiv = document.getElementById(\"altair-viz-3b562fb2a20e4d26836fa19221c829b3\");\n",
       "    }\n",
       "    const paths = {\n",
       "      \"vega\": \"https://cdn.jsdelivr.net/npm//vega@5?noext\",\n",
       "      \"vega-lib\": \"https://cdn.jsdelivr.net/npm//vega-lib?noext\",\n",
       "      \"vega-lite\": \"https://cdn.jsdelivr.net/npm//vega-lite@4.8.1?noext\",\n",
       "      \"vega-embed\": \"https://cdn.jsdelivr.net/npm//vega-embed@6?noext\",\n",
       "    };\n",
       "\n",
       "    function loadScript(lib) {\n",
       "      return new Promise(function(resolve, reject) {\n",
       "        var s = document.createElement('script');\n",
       "        s.src = paths[lib];\n",
       "        s.async = true;\n",
       "        s.onload = () => resolve(paths[lib]);\n",
       "        s.onerror = () => reject(`Error loading script: ${paths[lib]}`);\n",
       "        document.getElementsByTagName(\"head\")[0].appendChild(s);\n",
       "      });\n",
       "    }\n",
       "\n",
       "    function showError(err) {\n",
       "      outputDiv.innerHTML = `<div class=\"error\" style=\"color:red;\">${err}</div>`;\n",
       "      throw err;\n",
       "    }\n",
       "\n",
       "    function displayChart(vegaEmbed) {\n",
       "      vegaEmbed(outputDiv, spec, embedOpt)\n",
       "        .catch(err => showError(`Javascript Error: ${err.message}<br>This usually means there's a typo in your chart specification. See the javascript console for the full traceback.`));\n",
       "    }\n",
       "\n",
       "    if(typeof define === \"function\" && define.amd) {\n",
       "      requirejs.config({paths});\n",
       "      require([\"vega-embed\"], displayChart, err => showError(`Error loading script: ${err.message}`));\n",
       "    } else if (typeof vegaEmbed === \"function\") {\n",
       "      displayChart(vegaEmbed);\n",
       "    } else {\n",
       "      loadScript(\"vega\")\n",
       "        .then(() => loadScript(\"vega-lite\"))\n",
       "        .then(() => loadScript(\"vega-embed\"))\n",
       "        .catch(showError)\n",
       "        .then(() => displayChart(vegaEmbed));\n",
       "    }\n",
       "  })({\"config\": {\"view\": {\"continuousWidth\": 400, \"continuousHeight\": 300}}, \"layer\": [{\"mark\": {\"type\": \"point\", \"color\": \"blue\", \"filled\": true, \"size\": 50}, \"encoding\": {\"x\": {\"type\": \"quantitative\", \"field\": \"k\", \"scale\": {\"domain\": [0, 21]}}, \"y\": {\"type\": \"quantitative\", \"field\": \"y\", \"scale\": {\"domain\": [0.2, 1]}}}, \"transform\": [{\"calculate\": \"datum.y-datum.yerr\", \"as\": \"ymin\"}, {\"calculate\": \"datum.y+datum.yerr\", \"as\": \"ymax\"}]}, {\"mark\": \"errorbar\", \"encoding\": {\"x\": {\"type\": \"quantitative\", \"field\": \"k\", \"title\": \"# of Summary Sentences\"}, \"y\": {\"type\": \"quantitative\", \"field\": \"ymin\", \"title\": \"N-DCG Score\"}, \"y2\": {\"field\": \"ymax\"}}, \"transform\": [{\"calculate\": \"datum.y-datum.yerr\", \"as\": \"ymin\"}, {\"calculate\": \"datum.y+datum.yerr\", \"as\": \"ymax\"}]}], \"data\": {\"name\": \"data-097d776c1f6fce938ad97ccf25bce248\"}, \"$schema\": \"https://vega.github.io/schema/vega-lite/v4.8.1.json\", \"datasets\": {\"data-097d776c1f6fce938ad97ccf25bce248\": [{\"k\": 1, \"y\": 0.5863279332351496, \"yerr\": 0.3003976388400606}, {\"k\": 2, \"y\": 0.6027590453797724, \"yerr\": 0.22282528159751452}, {\"k\": 3, \"y\": 0.5699975488982137, \"yerr\": 0.20109582088437458}, {\"k\": 4, \"y\": 0.5884636095918798, \"yerr\": 0.16434155169309958}, {\"k\": 5, \"y\": 0.5817169753500169, \"yerr\": 0.14800287701680598}, {\"k\": 6, \"y\": 0.5969814689393508, \"yerr\": 0.13833604229389}, {\"k\": 7, \"y\": 0.6035499440112378, \"yerr\": 0.14197359259260134}, {\"k\": 8, \"y\": 0.5973198023537161, \"yerr\": 0.12397300085673088}, {\"k\": 9, \"y\": 0.6177878052019495, \"yerr\": 0.11802773288094108}, {\"k\": 10, \"y\": 0.6179159051753419, \"yerr\": 0.1227328083007505}, {\"k\": 11, \"y\": 0.627612631027159, \"yerr\": 0.11382432191975103}, {\"k\": 12, \"y\": 0.6449501620245235, \"yerr\": 0.1046142557407412}, {\"k\": 13, \"y\": 0.6586686869471358, \"yerr\": 0.1087638769466748}, {\"k\": 14, \"y\": 0.667383943787378, \"yerr\": 0.11392258191133132}, {\"k\": 15, \"y\": 0.6814397237938482, \"yerr\": 0.11394418269407029}, {\"k\": 16, \"y\": 0.6976929548997403, \"yerr\": 0.11711939049350022}, {\"k\": 17, \"y\": 0.7141634681512923, \"yerr\": 0.10859452883452127}, {\"k\": 18, \"y\": 0.7256581058287515, \"yerr\": 0.10923645869833006}, {\"k\": 19, \"y\": 0.7375323092541837, \"yerr\": 0.11431129565474674}, {\"k\": 20, \"y\": 0.7561725598742612, \"yerr\": 0.11680191717076155}]}}, {\"mode\": \"vega-lite\"});\n",
       "</script>"
      ],
      "text/plain": [
       "alt.LayerChart(...)"
      ]
     },
     "execution_count": 18,
     "metadata": {},
     "output_type": "execute_result"
    }
   ],
   "source": [
    "# the base chart\n",
    "base = alt.Chart(source_k).transform_calculate(\n",
    "    ymin=\"datum.y-datum.yerr\",\n",
    "    ymax=\"datum.y+datum.yerr\"\n",
    ")\n",
    "\n",
    "# generate the points\n",
    "points = base.mark_point(\n",
    "    filled=True,\n",
    "    size=50,\n",
    "    color='blue'\n",
    ").encode(\n",
    "    x=alt.X('k', scale=alt.Scale(domain=(0, 21))),\n",
    "    y=alt.Y('y', scale=alt.Scale(domain=(0.2, 1)))\n",
    ")\n",
    "\n",
    "# generate the error bars\n",
    "errorbars = base.mark_errorbar().encode(\n",
    "    x=alt.X(\"k\",title='# of Summary Sentences'),\n",
    "    y=alt.Y(\"ymin:Q\",title = 'N-DCG Score'),\n",
    "    y2=\"ymax:Q\"\n",
    ")\n",
    "\n",
    "points + errorbars"
   ]
  },
  {
   "cell_type": "markdown",
   "metadata": {},
   "source": [
    "### Score With Percentage Summary"
   ]
  },
  {
   "cell_type": "code",
   "execution_count": 27,
   "metadata": {},
   "outputs": [
    {
     "name": "stdout",
     "output_type": "stream",
     "text": [
      "Summarizing 5.0 %\n",
      "Summarizing 10.0 %\n",
      "Summarizing 15.0 %\n",
      "Summarizing 20.0 %\n",
      "Summarizing 25.0 %\n",
      "Summarizing 30.0 %\n",
      "Summarizing 35.0 %\n",
      "Summarizing 40.0 %\n",
      "Summarizing 45.0 %\n",
      "Summarizing 50.0 %\n",
      "Summarizing 55.00000000000001 %\n",
      "Summarizing 60.0 %\n",
      "Summarizing 65.0 %\n",
      "Summarizing 70.0 %\n",
      "Summarizing 75.0 %\n",
      "Summarizing 80.0 %\n",
      "Summarizing 85.0 %\n",
      "Summarizing 90.0 %\n",
      "Summarizing 95.0 %\n"
     ]
    },
    {
     "name": "stderr",
     "output_type": "stream",
     "text": [
      "/home/dorukhan/anaconda2/envs/py37/lib/python3.7/site-packages/sklearn/cluster/_kmeans.py:1036: ConvergenceWarning: Number of distinct clusters (44) found smaller than n_clusters (45). Possibly due to duplicate points in X.\n",
      "  return self.fit(X, sample_weight=sample_weight)._transform(X)\n"
     ]
    },
    {
     "name": "stdout",
     "output_type": "stream",
     "text": [
      "Summarizing 100.0 %\n"
     ]
    },
    {
     "name": "stderr",
     "output_type": "stream",
     "text": [
      "/home/dorukhan/anaconda2/envs/py37/lib/python3.7/site-packages/sklearn/cluster/_kmeans.py:1036: ConvergenceWarning: Number of distinct clusters (54) found smaller than n_clusters (55). Possibly due to duplicate points in X.\n",
      "  return self.fit(X, sample_weight=sample_weight)._transform(X)\n",
      "/home/dorukhan/anaconda2/envs/py37/lib/python3.7/site-packages/sklearn/cluster/_kmeans.py:1036: ConvergenceWarning: Number of distinct clusters (44) found smaller than n_clusters (48). Possibly due to duplicate points in X.\n",
      "  return self.fit(X, sample_weight=sample_weight)._transform(X)\n"
     ]
    }
   ],
   "source": [
    "percs = []\n",
    "unsuccess = []\n",
    "p = [0.05,.1,.15,.2,.25,.30,.35,.40,.45,.5,.55,.6,.65,.7,.75,.8,.85,.9,.95,1.0]\n",
    "for perc in p:\n",
    "    print(f'Summarizing {perc*100} %')\n",
    "    scores = []\n",
    "    for i,path in enumerate(labeled):\n",
    "        \n",
    "        jpath = f'{jsons_dir}/{path}'\n",
    "        \n",
    "        with open(jpath,'rb') as f: \n",
    "            j = json.load(f)\n",
    "            \n",
    "        f.close()\n",
    "        \n",
    "        len_text = len(j['sentences'])\n",
    "        \n",
    "        k = int(len_text * perc)\n",
    "        \n",
    "        try:\n",
    "        \n",
    "            summarizer = AnnotatedExtractiveSummarizer(tokenizer,model,k=k,layers=[2,3,8],random_state=15,doEval=True)\n",
    "            summary = summarizer.summarize(jpath)\n",
    "            scores.append(summarizer.score())\n",
    "        \n",
    "        except:\n",
    "            scores.append(np.nan)\n",
    "            unsuccess.append(jpath)\n",
    "            \n",
    "    percs.append(scores)\n",
    "    \n",
    "    \n",
    "    \n",
    "    \n",
    "    "
   ]
  },
  {
   "cell_type": "code",
   "execution_count": 28,
   "metadata": {},
   "outputs": [
    {
     "data": {
      "text/plain": [
       "[]"
      ]
     },
     "execution_count": 28,
     "metadata": {},
     "output_type": "execute_result"
    }
   ],
   "source": [
    "unsuccess"
   ]
  },
  {
   "cell_type": "code",
   "execution_count": 29,
   "metadata": {},
   "outputs": [],
   "source": [
    "all_scores = np.array(percs)"
   ]
  },
  {
   "cell_type": "code",
   "execution_count": 33,
   "metadata": {},
   "outputs": [],
   "source": [
    "source = pd.DataFrame({'Summary Percentage':100*np.array(p),'y':np.mean(all_scores,axis=1),'yerr':np.std(all_scores,axis=1)})"
   ]
  },
  {
   "cell_type": "code",
   "execution_count": 36,
   "metadata": {},
   "outputs": [
    {
     "data": {
      "text/html": [
       "\n",
       "<div id=\"altair-viz-f87bf2eb45f047b0979ec4cf112c103e\"></div>\n",
       "<script type=\"text/javascript\">\n",
       "  (function(spec, embedOpt){\n",
       "    let outputDiv = document.currentScript.previousElementSibling;\n",
       "    if (outputDiv.id !== \"altair-viz-f87bf2eb45f047b0979ec4cf112c103e\") {\n",
       "      outputDiv = document.getElementById(\"altair-viz-f87bf2eb45f047b0979ec4cf112c103e\");\n",
       "    }\n",
       "    const paths = {\n",
       "      \"vega\": \"https://cdn.jsdelivr.net/npm//vega@5?noext\",\n",
       "      \"vega-lib\": \"https://cdn.jsdelivr.net/npm//vega-lib?noext\",\n",
       "      \"vega-lite\": \"https://cdn.jsdelivr.net/npm//vega-lite@4.8.1?noext\",\n",
       "      \"vega-embed\": \"https://cdn.jsdelivr.net/npm//vega-embed@6?noext\",\n",
       "    };\n",
       "\n",
       "    function loadScript(lib) {\n",
       "      return new Promise(function(resolve, reject) {\n",
       "        var s = document.createElement('script');\n",
       "        s.src = paths[lib];\n",
       "        s.async = true;\n",
       "        s.onload = () => resolve(paths[lib]);\n",
       "        s.onerror = () => reject(`Error loading script: ${paths[lib]}`);\n",
       "        document.getElementsByTagName(\"head\")[0].appendChild(s);\n",
       "      });\n",
       "    }\n",
       "\n",
       "    function showError(err) {\n",
       "      outputDiv.innerHTML = `<div class=\"error\" style=\"color:red;\">${err}</div>`;\n",
       "      throw err;\n",
       "    }\n",
       "\n",
       "    function displayChart(vegaEmbed) {\n",
       "      vegaEmbed(outputDiv, spec, embedOpt)\n",
       "        .catch(err => showError(`Javascript Error: ${err.message}<br>This usually means there's a typo in your chart specification. See the javascript console for the full traceback.`));\n",
       "    }\n",
       "\n",
       "    if(typeof define === \"function\" && define.amd) {\n",
       "      requirejs.config({paths});\n",
       "      require([\"vega-embed\"], displayChart, err => showError(`Error loading script: ${err.message}`));\n",
       "    } else if (typeof vegaEmbed === \"function\") {\n",
       "      displayChart(vegaEmbed);\n",
       "    } else {\n",
       "      loadScript(\"vega\")\n",
       "        .then(() => loadScript(\"vega-lite\"))\n",
       "        .then(() => loadScript(\"vega-embed\"))\n",
       "        .catch(showError)\n",
       "        .then(() => displayChart(vegaEmbed));\n",
       "    }\n",
       "  })({\"config\": {\"view\": {\"continuousWidth\": 400, \"continuousHeight\": 300}}, \"layer\": [{\"mark\": {\"type\": \"point\", \"color\": \"blue\", \"filled\": true, \"size\": 50}, \"encoding\": {\"x\": {\"type\": \"quantitative\", \"field\": \"Summary Percentage\", \"scale\": {\"domain\": [0, 100]}}, \"y\": {\"type\": \"quantitative\", \"field\": \"y\", \"scale\": {\"domain\": [0.2, 1]}}}, \"transform\": [{\"calculate\": \"datum.y-datum.yerr\", \"as\": \"ymin\"}, {\"calculate\": \"datum.y+datum.yerr\", \"as\": \"ymax\"}]}, {\"mark\": \"errorbar\", \"encoding\": {\"x\": {\"type\": \"quantitative\", \"field\": \"Summary Percentage\"}, \"y\": {\"type\": \"quantitative\", \"field\": \"ymin\", \"title\": \"N-DCG Score\"}, \"y2\": {\"field\": \"ymax\"}}, \"transform\": [{\"calculate\": \"datum.y-datum.yerr\", \"as\": \"ymin\"}, {\"calculate\": \"datum.y+datum.yerr\", \"as\": \"ymax\"}]}], \"data\": {\"name\": \"data-ac7342f58308dd544a5d73ac64f46f14\"}, \"$schema\": \"https://vega.github.io/schema/vega-lite/v4.8.1.json\", \"datasets\": {\"data-ac7342f58308dd544a5d73ac64f46f14\": [{\"Summary Percentage\": 5.0, \"y\": 0.6011471978916363, \"yerr\": 0.259060176607798}, {\"Summary Percentage\": 10.0, \"y\": 0.5813300058094987, \"yerr\": 0.18399082458975705}, {\"Summary Percentage\": 15.0, \"y\": 0.5887993951808685, \"yerr\": 0.14994483705703326}, {\"Summary Percentage\": 20.0, \"y\": 0.6035470699056017, \"yerr\": 0.12850163010760218}, {\"Summary Percentage\": 25.0, \"y\": 0.6259326962160189, \"yerr\": 0.11799827755979322}, {\"Summary Percentage\": 30.0, \"y\": 0.6455432245029357, \"yerr\": 0.10361115457411621}, {\"Summary Percentage\": 35.0, \"y\": 0.6597630151144059, \"yerr\": 0.10010812007093882}, {\"Summary Percentage\": 40.0, \"y\": 0.6758842428875872, \"yerr\": 0.08411194025339197}, {\"Summary Percentage\": 45.0, \"y\": 0.7011942444069005, \"yerr\": 0.06974532207560571}, {\"Summary Percentage\": 50.0, \"y\": 0.730410425897509, \"yerr\": 0.06637003089637447}, {\"Summary Percentage\": 55.00000000000001, \"y\": 0.7556067390598575, \"yerr\": 0.059867881797689086}, {\"Summary Percentage\": 60.0, \"y\": 0.7893080434338005, \"yerr\": 0.05181095607271519}, {\"Summary Percentage\": 65.0, \"y\": 0.8099507912266111, \"yerr\": 0.05460493468237563}, {\"Summary Percentage\": 70.0, \"y\": 0.8409115211135638, \"yerr\": 0.053904136606153216}, {\"Summary Percentage\": 75.0, \"y\": 0.873622152615766, \"yerr\": 0.046738454551228256}, {\"Summary Percentage\": 80.0, \"y\": 0.9012397643880543, \"yerr\": 0.04210732265486714}, {\"Summary Percentage\": 85.0, \"y\": 0.9270497576475318, \"yerr\": 0.03689368384672098}, {\"Summary Percentage\": 90.0, \"y\": 0.9557356697323888, \"yerr\": 0.02774249022767664}, {\"Summary Percentage\": 95.0, \"y\": 0.9757460881056463, \"yerr\": 0.021489273063100514}, {\"Summary Percentage\": 100.0, \"y\": 1.0002021427127552, \"yerr\": 0.0019805860058889585}]}}, {\"mode\": \"vega-lite\"});\n",
       "</script>"
      ],
      "text/plain": [
       "alt.LayerChart(...)"
      ]
     },
     "execution_count": 36,
     "metadata": {},
     "output_type": "execute_result"
    }
   ],
   "source": [
    "# the base chart\n",
    "base = alt.Chart(source).transform_calculate(\n",
    "    ymin=\"datum.y-datum.yerr\",\n",
    "    ymax=\"datum.y+datum.yerr\"\n",
    ")\n",
    "errorbars = base.mark_errorbar().encode(\n",
    "    x=\"Summary Percentage\",\n",
    "    y=alt.Y(\"ymin:Q\",title='N-DCG Score'),\n",
    "    y2=\"ymax:Q\"\n",
    ")\n",
    "# generate the points\n",
    "points = base.mark_point(\n",
    "    filled=True,\n",
    "    size=50,\n",
    "    color='blue'\n",
    ").encode(\n",
    "    x=alt.X('Summary Percentage', scale=alt.Scale(domain=(0, 100))),\n",
    "    y=alt.Y('y', scale=alt.Scale(domain=(0.2, 1)))\n",
    ")\n",
    "\n",
    "# generate the error bars\n",
    "\n",
    "\n",
    "points + errorbars"
   ]
  },
  {
   "cell_type": "code",
   "execution_count": null,
   "metadata": {},
   "outputs": [],
   "source": []
  }
 ],
 "metadata": {
  "kernelspec": {
   "display_name": "Python 3",
   "language": "python",
   "name": "python3"
  },
  "language_info": {
   "codemirror_mode": {
    "name": "ipython",
    "version": 3
   },
   "file_extension": ".py",
   "mimetype": "text/x-python",
   "name": "python",
   "nbconvert_exporter": "python",
   "pygments_lexer": "ipython3",
   "version": "3.7.6"
  }
 },
 "nbformat": 4,
 "nbformat_minor": 4
}
